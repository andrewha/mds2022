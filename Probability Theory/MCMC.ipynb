{
 "cells": [
  {
   "cell_type": "code",
   "execution_count": 1,
   "metadata": {},
   "outputs": [],
   "source": [
    "import numpy as np\n",
    "from copy import deepcopy\n",
    "import matplotlib.pyplot as plt\n",
    "from mpl_toolkits.axes_grid1 import make_axes_locatable\n",
    "from tqdm.auto import tqdm\n",
    "import string\n",
    "import warnings\n",
    "warnings.filterwarnings('ignore')"
   ]
  },
  {
   "cell_type": "markdown",
   "metadata": {
    "colab_type": "text",
    "id": "lWSj-xmfGjPK"
   },
   "source": [
    "# Substitution Cipher\n",
    "\n",
    "In this task we will decrypt data that was scrambled using a Substitution Cipher. We assume that encryption key is unknown and we want to decrypt the data and read the code using recovered decryption key. [Introduction from here](http://statweb.stanford.edu/~cgates/PERSI/papers/MCMCRev.pdf) gives reference to the original task."
   ]
  },
  {
   "cell_type": "markdown",
   "metadata": {
    "colab_type": "text",
    "id": "lWSj-xmfGjPK"
   },
   "source": [
    "As verification we will take a piece from \"Alice's adventures in Wonderland\". We scramble data with a random encryption key, which we forgot after encrypting, and we would like to decrypt this encrypted text using MCMC Chains."
   ]
  },
  {
   "cell_type": "code",
   "execution_count": 2,
   "metadata": {},
   "outputs": [],
   "source": [
    "plain_text = \"\"\"\n",
    "Alice was beginning to get very tired of sitting by her sister on the bank, and of having nothing to do: once or twice she had peeped into the book her sister was reading, but it had no pictures or conversations in it, 'and what is the use of a book,' thought Alice 'without pictures or conversation?'\n",
    "So she was considering in her own mind (as well as she could, for the hot day made her feel very sleepy and stupid), whether the pleasure of making a daisy-chain would be worth the trouble of getting up and picking the daisies, when suddenly a White Rabbit with pink eyes ran close by her.\n",
    "There was nothing so very remarkable in that; nor did Alice think it so very much out of the way to hear the Rabbit say to itself, 'Oh dear! Oh dear! I shall be late!' (when she thought it over afterwards, it occurred to her that she ought to have wondered at this, but at the time it all seemed quite natural); but when the Rabbit actually took a watch out of its waistcoat-pocket, and looked at it, and then hurried on, Alice started to her feet, for it flashed across her mind that she had never before see a rabbit with either a waistcoat-pocket, or a watch to take out of it, and burning with curiosity, she ran across the field after it, and fortunately was just in time to see it pop down a large rabbit-hole under the hedge.\n",
    "In another moment down went Alice after it, never once considering how in the world she was to get out again.\n",
    "The rabbit-hole went straight on like a tunnel for some way, and then dipped suddenly down, so suddenly that Alice had not a moment to think about stopping herself before she found herself falling down a very deep well.\n",
    "\"\"\""
   ]
  },
  {
   "cell_type": "markdown",
   "metadata": {},
   "source": [
    "We will use 26 letters of English alphabet."
   ]
  },
  {
   "cell_type": "code",
   "execution_count": 3,
   "metadata": {},
   "outputs": [],
   "source": [
    "characters = string.ascii_lowercase\n",
    "characters_dict = {char : c for c, char in enumerate(characters, start=1)}\n",
    "m = len(characters) + 1"
   ]
  },
  {
   "cell_type": "code",
   "execution_count": 4,
   "metadata": {},
   "outputs": [
    {
     "name": "stdout",
     "output_type": "stream",
     "text": [
      "{'a': 1, 'b': 2, 'c': 3, 'd': 4, 'e': 5, 'f': 6, 'g': 7, 'h': 8, 'i': 9, 'j': 10, 'k': 11, 'l': 12, 'm': 13, 'n': 14, 'o': 15, 'p': 16, 'q': 17, 'r': 18, 's': 19, 't': 20, 'u': 21, 'v': 22, 'w': 23, 'x': 24, 'y': 25, 'z': 26}\n"
     ]
    }
   ],
   "source": [
    "print(characters_dict)"
   ]
  },
  {
   "cell_type": "markdown",
   "metadata": {},
   "source": [
    "## Generate random encryption key.\n",
    "\n",
    "Here are functions that will be used to encrypt/decrypt text."
   ]
  },
  {
   "cell_type": "code",
   "execution_count": 5,
   "metadata": {},
   "outputs": [],
   "source": [
    "def encode_text(text_to_encode, characters_dict):\n",
    "    \"\"\"This function turns a text string into an integer sequence using given dictionary.\"\"\"\n",
    "    characters_set = set(characters_dict.keys())\n",
    "    return np.r_[[characters_dict[char] if char in characters_set else 0 for char in text_to_encode.strip().lower()]]\n",
    "\n",
    "def decode_text(text_to_decode, characters):\n",
    "    \"\"\"This function turns an integer sequence into a text string using given list of characters.\"\"\"\n",
    "    characters_array = np.array([\" \"] + list(characters))\n",
    "    return \"\".join(characters_array[text_to_decode])\n",
    "\n",
    "def apply_cipher(text_as_int_array, cipher):\n",
    "    \"This function applies substitution cipher to an integer sequence.\"\n",
    "    return cipher[text_as_int_array]"
   ]
  },
  {
   "cell_type": "markdown",
   "metadata": {},
   "source": [
    "Generate encryption and decryption keys. They are just permutations of the alphabet."
   ]
  },
  {
   "cell_type": "code",
   "execution_count": 6,
   "metadata": {},
   "outputs": [
    {
     "data": {
      "text/plain": [
       "('hqcdbsfeainxkywoljrzumvgtp', 'iecdhgxajrmqvkpzbsfyuwolnt')"
      ]
     },
     "execution_count": 6,
     "metadata": {},
     "output_type": "execute_result"
    }
   ],
   "source": [
    "np.random.seed(1234)\n",
    "\n",
    "encryption_indices = np.random.permutation(np.arange(m-1))\n",
    "decryption_indices = np.argsort(encryption_indices)\n",
    "\n",
    "characters_array = np.array(list(characters))\n",
    "encryption_key = \"\".join(characters_array[encryption_indices])\n",
    "decryption_key = \"\".join(characters_array[decryption_indices])\n",
    "encryption_key, decryption_key"
   ]
  },
  {
   "cell_type": "markdown",
   "metadata": {},
   "source": [
    "Check encoding/decoding functions and encryption/decryption keys."
   ]
  },
  {
   "cell_type": "code",
   "execution_count": 7,
   "metadata": {},
   "outputs": [
    {
     "data": {
      "text/plain": [
       "(array([ 0,  8, 17,  3,  4,  2, 19,  6,  5,  1,  9, 14, 24, 11, 25, 23, 15,\n",
       "        12, 10, 18, 26, 21, 13, 22,  7, 20, 16]),\n",
       " array([ 0,  9,  5,  3,  4,  8,  7, 24,  1, 10, 18, 13, 17, 22, 11, 16, 26,\n",
       "         2, 19,  6, 25, 21, 23, 15, 12, 14, 20]))"
      ]
     },
     "execution_count": 7,
     "metadata": {},
     "output_type": "execute_result"
    }
   ],
   "source": [
    "encryption_key_encoded = np.r_[0, encode_text(encryption_key, characters_dict)]\n",
    "decryption_key_encoded = np.r_[0, encode_text(decryption_key, characters_dict)]\n",
    "encryption_key_encoded, decryption_key_encoded"
   ]
  },
  {
   "cell_type": "code",
   "execution_count": 8,
   "metadata": {},
   "outputs": [
    {
     "name": "stdout",
     "output_type": "stream",
     "text": [
      "zeb luacn qjwvy swg iukor wmbj zeb xhpt dwf\n",
      "the quick brown fox jumps over the lazy dog\n"
     ]
    }
   ],
   "source": [
    "text = \"The quick brown fox jumps over the lazy dog\"\n",
    "\n",
    "encoded_text = encode_text(text, characters_dict)\n",
    "cipher_text = apply_cipher(encoded_text, encryption_key_encoded)\n",
    "encoded_text = apply_cipher(cipher_text, decryption_key_encoded)\n",
    "encrypted_text = decode_text(cipher_text, characters_dict)\n",
    "print(encrypted_text)\n",
    "decrypted_text = decode_text(encoded_text, characters_dict)\n",
    "print(decrypted_text)"
   ]
  },
  {
   "cell_type": "markdown",
   "metadata": {},
   "source": [
    "Encrypt cipher text."
   ]
  },
  {
   "cell_type": "code",
   "execution_count": 9,
   "metadata": {},
   "outputs": [
    {
     "data": {
      "text/plain": [
       "(array([ 1, 12,  9, ..., 12, 12,  0]), array([ 8, 24,  1, ..., 24, 24,  0]))"
      ]
     },
     "execution_count": 9,
     "metadata": {},
     "output_type": "execute_result"
    }
   ],
   "source": [
    "plain_text_encoded = encode_text(plain_text, characters_dict)\n",
    "cipher_text = apply_cipher(plain_text_encoded, encryption_key_encoded)\n",
    "plain_text_encoded, cipher_text"
   ]
  },
  {
   "cell_type": "markdown",
   "metadata": {},
   "source": [
    "## Collect frequences \n",
    "\n",
    "Collect frequences of two character combinations (bigrams) over large text corpus and from encrypted text. We will store them in a matrix and interpret it as a transition matrix: from the first character to the second."
   ]
  },
  {
   "cell_type": "code",
   "execution_count": 10,
   "metadata": {},
   "outputs": [],
   "source": [
    "def collect_transition_frequencies(data, transition_matrix):\n",
    "    \"\"\"For a given integer sequence, which corresponds to some char sequence, \n",
    "       return transitions for adjacent values.\"\"\"\n",
    "    transitions = data.repeat(2)[1:-1].reshape(-1, 2)\n",
    "    for i, j in transitions:\n",
    "        transition_matrix[i, j] += 1\n",
    "    \n",
    "    return transition_matrix\n",
    "\n",
    "def collect_empirical_frequencies(filename, characters_dict, m):\n",
    "    \"\"\"Collect frequencies over large text corpus, return transition matrix.\"\"\"\n",
    "    transition_matrix = np.zeros((m, m))\n",
    "    with open(filename) as f:\n",
    "        for line in f:\n",
    "            line_encoded = encode_text(line, characters_dict)\n",
    "            if line_encoded.size > 1:\n",
    "                transition_matrix = collect_transition_frequencies(line_encoded, transition_matrix)\n",
    "                \n",
    "    return transition_matrix\n",
    "\n",
    "def collect_observed_frequencies(cipher_text, characters_dict, m):\n",
    "    \"\"\"Collect frequencies over encrypted text, return nonzero indices of \n",
    "       transition matrix for both dimensions and values for those indices.\n",
    "       `values = transition_matrix[indices_1, indices_2]`\"\"\"\n",
    "    transition_matrix = np.zeros((m, m))\n",
    "    transition_matrix = collect_transition_frequencies(cipher_text, transition_matrix)\n",
    "    \n",
    "    return transition_matrix"
   ]
  },
  {
   "cell_type": "markdown",
   "metadata": {},
   "source": [
    "Collect frequences."
   ]
  },
  {
   "cell_type": "code",
   "execution_count": 11,
   "metadata": {},
   "outputs": [],
   "source": [
    "empirical_frequencies = collect_empirical_frequencies('war_and_peace.txt', characters_dict, m)\n",
    "observed_frequencies = collect_observed_frequencies(cipher_text, characters_dict, m)"
   ]
  },
  {
   "cell_type": "code",
   "execution_count": 12,
   "metadata": {},
   "outputs": [
    {
     "data": {
      "image/png": "[encoded data removed]",
      "text/plain": [
       "<Figure size 1200x600 with 4 Axes>"
      ]
     },
     "metadata": {},
     "output_type": "display_data"
    }
   ],
   "source": [
    "# Let's visualize the transition matrices\n",
    "# https://matplotlib.org/stable/gallery/images_contours_and_fields/matshow.html#sphx-glr-gallery-images-contours-and-fields-matshow-py\n",
    "\n",
    "fig = plt.figure(figsize=(12, 6))\n",
    "(ax1, ax2) = fig.subplots(1, 2)\n",
    "\n",
    "mat1 = ax1.matshow(empirical_frequencies, cmap='Blues')\n",
    "ax1.set_xticks(list(range(27)))\n",
    "ax1.set_xticklabels(['_'] + list(characters_dict.keys())) # '_' means any non-letter character\n",
    "ax1.set_yticks(list(range(27)))\n",
    "ax1.set_yticklabels(['_'] + list(characters_dict.keys()))\n",
    "t_h1 = plt.Circle((8, 20), 1, color='black', fill=False, linestyle='--')\n",
    "ax1.add_patch(t_h1)\n",
    "ax1.quiver(0, 20, 8, 0, scale_units='xy', angles='xy', scale=1, color='black', width=0.004)\n",
    "ax1.quiver(8, 20, 0, -20, scale_units='xy', angles='xy', scale=1, color='black', width=0.004)\n",
    "ax1.text(9, 18, '$R(t, h)$ is high', fontsize=10, bbox=dict(facecolor='xkcd:white', edgecolor='xkcd:light grey'))\n",
    "ax1.set_title('Empirical frequencies $R(\\\\beta_1,\\\\beta_2)$ of training text\\n\"War and peace\"')\n",
    "divider = make_axes_locatable(ax1)\n",
    "cax1 = divider.append_axes('right', size='3%', pad=0.1)\n",
    "plt.colorbar(mat1, cax=cax1)\n",
    "\n",
    "mat2 = ax2.matshow(observed_frequencies, cmap='Blues')\n",
    "ax2.set_xticks(list(range(27)))\n",
    "ax2.set_xticklabels(['_'] + list(characters_dict.keys()))\n",
    "ax2.set_yticks(list(range(27)))\n",
    "ax2.set_yticklabels(['_'] + list(characters_dict.keys()))\n",
    "t_h2 = plt.Circle((8, 20), 1, color='black', fill=False, linestyle='--')\n",
    "ax2.quiver(0, 20, 8, 0, scale_units='xy', angles='xy', scale=1, color='black', width=0.004)\n",
    "ax2.quiver(8, 20, 0, -20, scale_units='xy', angles='xy', scale=1, color='black', width=0.004)\n",
    "ax2.text(9, 18, '$F_X(t, h)$ is low', fontsize=10, bbox=dict(facecolor='xkcd:white', edgecolor='xkcd:light grey'))\n",
    "ax2.add_patch(t_h2)\n",
    "ax2.set_title('Observed frequencies $F_x(\\\\beta_1,\\\\beta_2)$ of encrypted text\\n\"Alice\\'s adventures in Wonderland\"')\n",
    "divider = make_axes_locatable(ax2)\n",
    "cax2 = divider.append_axes(\"right\", size=\"3%\", pad=0.1)\n",
    "plt.colorbar(mat2, cax=cax2)\n",
    "plt.suptitle('Transition matrices')\n",
    "plt.tight_layout()\n",
    "plt.show();"
   ]
  },
  {
   "cell_type": "markdown",
   "metadata": {},
   "source": [
    "## General algorithm"
   ]
  },
  {
   "cell_type": "markdown",
   "metadata": {
    "colab_type": "text",
    "id": "yjedc-_xGjPO"
   },
   "source": [
    "Our Chain will include states that are permutations of the substitution cipher. Algorithm has following steps:\n",
    "\n",
    "1. Start by picking up a random current state. \n",
    "2. Create a proposal for a new state by swapping two or more random letters in the current state.\n",
    "3. Use a Scoring Function which calculates the score of the current state $Score_{old}$ and the proposed state $Score_{new}$.\n",
    "4. If the score of the proposed state is more than current state, Move to Proposed State.\n",
    "5. Else flip a coin which has a probability of Heads $\\frac{Score_{new}}{Score_{old}}$ . If it comes heads move to proposed State.\n",
    "6. Repeat from Step 2.\n",
    "\n",
    "We want ot reach a steady state where the chain has the stationary distribution of the needed states. This state of chain could be used as a solution.\n",
    "\n",
    "Your goal is to implement steps 2 and 3 (see the templates below)."
   ]
  },
  {
   "cell_type": "markdown",
   "metadata": {},
   "source": [
    "## Step 2: Prepare sampling function."
   ]
  },
  {
   "cell_type": "markdown",
   "metadata": {
    "colab_type": "text",
    "id": "yjedc-_xGjPO"
   },
   "source": [
    "To generate a new proposed cipher we randomly select several positions and swap values at those positions. It corresponds to change in several mappings of encrypted characters in decrypted ones. Example with 2 swaps.\n",
    "\n",
    "was|now\n",
    "-|-\n",
    "A -> B | A -> B\n",
    "B -> C | B -> C\n",
    "C -> D | C -> A\n",
    "D -> A | D -> D"
   ]
  },
  {
   "cell_type": "code",
   "execution_count": 13,
   "metadata": {},
   "outputs": [],
   "source": [
    "def generate_cipher(cipher, m, size=2):\n",
    "    \"\"\"Swap two or more random positions in cipher.\n",
    "        \n",
    "        cipher, np.array - current mapping from value(int) in encrypted text (index of array cell) into value(int) in decrypted text(value of array cell).\n",
    "        m, int - capacity of used alphabet,\n",
    "        size, int - number of positions to change.\n",
    "    \"\"\"\n",
    "    \n",
    "    # Your code here\n",
    "    new_cipher = deepcopy(cipher)\n",
    "    for i in range(size):\n",
    "        # swap two elements at a time\n",
    "        elem1, elem2 = np.random.choice(new_cipher, 2)\n",
    "        new_cipher[elem1], new_cipher[elem2] = new_cipher[elem2], new_cipher[elem1]\n",
    "    return new_cipher"
   ]
  },
  {
   "cell_type": "code",
   "execution_count": 14,
   "metadata": {},
   "outputs": [
    {
     "data": {
      "text/plain": [
       "array([ 0,  1,  2,  3,  4,  5,  6,  7,  8,  9, 10, 11, 16, 13, 14, 18, 12,\n",
       "       17, 15, 19, 20, 21, 22, 23, 24, 25, 26])"
      ]
     },
     "execution_count": 14,
     "metadata": {},
     "output_type": "execute_result"
    }
   ],
   "source": [
    "# Test\n",
    "generate_cipher(np.arange(m), m, 2)"
   ]
  },
  {
   "cell_type": "markdown",
   "metadata": {},
   "source": [
    "## Step 3: Prepare scoring function."
   ]
  },
  {
   "cell_type": "markdown",
   "metadata": {
    "colab_type": "text",
    "id": "siBVVI9ZGjPP"
   },
   "source": [
    "We want to use a scoring function for each state(Decryption key) which assigns a positive score to each decryption key. This score intuitively should be larger if the encrypted text looks more like actual english, when decrypted using this decryption key. We will check a large text and calculate frequencies: how many times one character comes after another in a large text like \"War and Peace\".\n",
    "\n",
    "For each pair of characters $\\beta_1$ and $\\beta_2$ (e.g. $\\beta_1$ = A and $\\beta_2$ = B), we let $R(\\beta_1,\\beta_2)$ record the number of times that specific pair(e.g. \"AB\") appears consecutively in the reference text.\n",
    "\n",
    "Similarly, for a considered decryption key $x$, we let $F_x(\\beta_1,\\beta_2)$ record the number of times that\n",
    "pair appears when the cipher text is decrypted using the decryption key $x$.\n",
    "\n",
    "We then Score a particular decryption key $x$ using:\n",
    "\n",
    "$$Score(x) = \\prod R(\\beta_1,\\beta_2)^{F_x(\\beta_1,\\beta_2)}$$\n",
    "    \n",
    "To make life easier with calculations we will calculate $log(Score(x))$"
   ]
  },
  {
   "cell_type": "markdown",
   "metadata": {},
   "source": [
    "Now, you need to implement scoring function. As input it takes \n",
    "- `cipher`: mapping between encrypted characters and decrypted characters,\n",
    "- `observed_frequences`: transition matrix for cipher text, matrix representation of $F_x(\\beta_1,\\beta_2)$,\n",
    "- `empirical_frequences`: transition matrix for large text, matrix representation of $R(\\beta_1,\\beta_2)$.\n",
    "\n",
    "Scoring function returns $log(Score(x))$. You need correctly process zero values in transition matrices while calculating the score."
   ]
  },
  {
   "cell_type": "code",
   "execution_count": 15,
   "metadata": {},
   "outputs": [],
   "source": [
    "def score_cipher(cipher, observed_frequencies, empirical_frequencies):\n",
    "    \n",
    "    # Your code here\n",
    "    \"\"\"Rule of log of product:\n",
    "                       ___  F_x   __      F_x   __\n",
    "    log Score(x) = log | | R    = >_ log R    = >_ F_x log R\n",
    "    \"\"\"\n",
    "\n",
    "    R = empirical_frequencies\n",
    "    # Try to decode, using cipher as the decryption key\n",
    "    decryption_key_encoded = cipher\n",
    "    encoded_text = apply_cipher(cipher_text, decryption_key_encoded)\n",
    "    # Obtain F_x\n",
    "    observed_frequencies = collect_observed_frequencies(encoded_text, characters_dict, m)\n",
    "    F_cipher = observed_frequencies\n",
    "    # Score the cipher\n",
    "    # since log 0 -> -inf, substitute all values R equal to 0 with 0\n",
    "    score = np.sum(F_cipher * np.log(R, out=np.zeros_like(R), where=(R != 0)))\n",
    "    #print(score)\n",
    "    return score"
   ]
  },
  {
   "cell_type": "markdown",
   "metadata": {},
   "source": [
    "## Decryption\n",
    "\n",
    "Now we are ready to decrypt cipher text."
   ]
  },
  {
   "cell_type": "code",
   "execution_count": 16,
   "metadata": {},
   "outputs": [],
   "source": [
    "def colorize_text(test_text, true_text, color_code):\n",
    "    \"\"\"Compare test_text against true_text character by character,\n",
    "        and return the test_text with not equal characters (mistakes) marked with red color.\n",
    "        test_text, str - some test text\n",
    "        true_text, str - true text to compare against\n",
    "    \"\"\"\n",
    "    colorized_text = ''\n",
    "    for i in range(len(true_text)):\n",
    "        if test_text[i] != true_text[i]:\n",
    "            colorized_text += f'\\033[{color_code}m' + test_text[i] + '\\033[0m'\n",
    "        else: colorized_text += test_text[i]\n",
    "    return colorized_text"
   ]
  },
  {
   "cell_type": "code",
   "execution_count": 17,
   "metadata": {},
   "outputs": [],
   "source": [
    "true_text = ' '.join(decode_text(encode_text(plain_text, characters_dict), characters).split())[0:111]"
   ]
  },
  {
   "cell_type": "code",
   "execution_count": 18,
   "metadata": {},
   "outputs": [],
   "source": [
    "def decrypting(observed_frequencies, empirical_frequencies, n_iters, m, step_size, seed, print_it=1000):\n",
    "    \"\"\"This function finds most suited decrypting cipher(1D np.array).\n",
    "        observed_frequencies, 2D np.array - transition matrix with frequencies for cipher text,\n",
    "        empirical_frequencies, 2D np.array - transition matrix with frequencies for large text,\n",
    "        n_iters, int - number of MCMC iterations,\n",
    "        step_size, int - number of changes in cipher per one iteration,\n",
    "        seed, int - seed for random generator,\n",
    "        print_it, int - print decrypted text every `print_it` iterations.\n",
    "    \"\"\"\n",
    "\n",
    "    np.random.seed(seed)\n",
    "\n",
    "    # 1. Start by picking up a random current state. \n",
    "    cipher_old = np.arange(m)\n",
    "    \n",
    "    score_cipher_old = score_cipher(cipher_old, observed_frequencies, empirical_frequencies)\n",
    "    best_state, score = cipher_old, score_cipher_old\n",
    "\n",
    "    for i in tqdm(range(1, n_iters+1)):\n",
    "\n",
    "        # 2. Create a proposal for a new state by swapping two or more random letters in the current state.\n",
    "        cipher_new = generate_cipher(cipher_old, m, size=step_size)\n",
    "\n",
    "        # 3. Use a Scoring Function which calculates the score of the current state $Score_{old}$ and the proposed State $Score_{new}$.\n",
    "        score_cipher_new = score_cipher(cipher_new, observed_frequencies, empirical_frequencies)\n",
    "        acceptance_probability = np.min((1, np.exp(score_cipher_new - score_cipher_old)))\n",
    "\n",
    "        # 4. If the score of the proposed state is more than current state, Move to Proposed State.\n",
    "        # 5. Else flip a coin which has a probability of Heads $Score_{new}/Score_{old}$. If it comes heads move to proposed State.\n",
    "        if score_cipher_old > score:\n",
    "            best_state, score = cipher_old, score_cipher_old\n",
    "        if acceptance_probability > np.random.uniform(0,1):\n",
    "            cipher_old, score_cipher_old = cipher_new, score_cipher_new\n",
    "        if i % print_it == 0:\n",
    "            decoded_text = ' '.join(decode_text(apply_cipher(cipher_text, cipher_old), characters).split())[0:111]\n",
    "            print(f\"iter {i}: {colorize_text(decoded_text, true_text, '31')}\")\n",
    "\n",
    "    #print('Best state:', best_state)\n",
    "    return best_state"
   ]
  },
  {
   "cell_type": "code",
   "execution_count": 19,
   "metadata": {},
   "outputs": [
    {
     "data": {
      "application/vnd.jupyter.widget-view+json": {
       "model_id": "a572219e3cc24bf69a0730d144254f99",
       "version_major": 2,
       "version_minor": 0
      },
      "text/plain": [
       "  0%|          | 0/1100 [00:00<?, ?it/s]"
      ]
     },
     "metadata": {},
     "output_type": "display_data"
    },
    {
     "name": "stdout",
     "output_type": "stream",
     "text": [
      "iter 100: \u001b[31mo\u001b[0m\u001b[31mp\u001b[0m\u001b[31ma\u001b[0m\u001b[31mh\u001b[0me \u001b[31ms\u001b[0m\u001b[31mo\u001b[0m\u001b[31mm\u001b[0m \u001b[31mz\u001b[0me\u001b[31mf\u001b[0m\u001b[31ma\u001b[0m\u001b[31ml\u001b[0m\u001b[31ml\u001b[0m\u001b[31ma\u001b[0m\u001b[31ml\u001b[0m\u001b[31mf\u001b[0m \u001b[31mc\u001b[0m\u001b[31my\u001b[0m \u001b[31mf\u001b[0me\u001b[31mc\u001b[0m \u001b[31mk\u001b[0me\u001b[31mi\u001b[0m\u001b[31mt\u001b[0m \u001b[31mc\u001b[0m\u001b[31ma\u001b[0m\u001b[31mi\u001b[0med \u001b[31my\u001b[0m\u001b[31mb\u001b[0m \u001b[31mm\u001b[0m\u001b[31ma\u001b[0m\u001b[31mc\u001b[0m\u001b[31mc\u001b[0m\u001b[31ma\u001b[0m\u001b[31ml\u001b[0m\u001b[31mf\u001b[0m \u001b[31mz\u001b[0m\u001b[31mt\u001b[0m \u001b[31mr\u001b[0me\u001b[31mi\u001b[0m \u001b[31mm\u001b[0m\u001b[31ma\u001b[0m\u001b[31mm\u001b[0m\u001b[31mc\u001b[0me\u001b[31mi\u001b[0m \u001b[31my\u001b[0m\u001b[31ml\u001b[0m \u001b[31mc\u001b[0m\u001b[31mr\u001b[0me \u001b[31mz\u001b[0m\u001b[31mo\u001b[0m\u001b[31ml\u001b[0m\u001b[31mn\u001b[0m \u001b[31mo\u001b[0m\u001b[31ml\u001b[0md \u001b[31my\u001b[0m\u001b[31mb\u001b[0m \u001b[31mr\u001b[0m\u001b[31mo\u001b[0m\u001b[31mk\u001b[0m\u001b[31ma\u001b[0m\u001b[31ml\u001b[0m\u001b[31mf\u001b[0m \u001b[31ml\u001b[0m\u001b[31my\u001b[0m\u001b[31mc\u001b[0m\u001b[31mr\u001b[0m\u001b[31ma\u001b[0m\u001b[31ml\u001b[0m\u001b[31mf\u001b[0m \u001b[31mc\u001b[0m\u001b[31my\u001b[0m d\u001b[31my\u001b[0m \u001b[31my\u001b[0m\u001b[31ml\u001b[0m\u001b[31mh\u001b[0me \u001b[31my\u001b[0m\u001b[31mi\u001b[0m \n",
      "iter 200: \u001b[31mo\u001b[0ml\u001b[31ma\u001b[0m\u001b[31mr\u001b[0me \u001b[31mb\u001b[0m\u001b[31mo\u001b[0m\u001b[31mf\u001b[0m \u001b[31mw\u001b[0me\u001b[31mp\u001b[0m\u001b[31ma\u001b[0m\u001b[31ms\u001b[0m\u001b[31ms\u001b[0m\u001b[31ma\u001b[0m\u001b[31ms\u001b[0m\u001b[31mp\u001b[0m t\u001b[31mn\u001b[0m \u001b[31mp\u001b[0met ve\u001b[31mm\u001b[0my t\u001b[31ma\u001b[0m\u001b[31mm\u001b[0med \u001b[31mn\u001b[0m\u001b[31mi\u001b[0m \u001b[31mf\u001b[0m\u001b[31ma\u001b[0mtt\u001b[31ma\u001b[0m\u001b[31ms\u001b[0m\u001b[31mp\u001b[0m \u001b[31mw\u001b[0my he\u001b[31mm\u001b[0m \u001b[31mf\u001b[0m\u001b[31ma\u001b[0m\u001b[31mf\u001b[0mte\u001b[31mm\u001b[0m \u001b[31mn\u001b[0m\u001b[31ms\u001b[0m the \u001b[31mw\u001b[0m\u001b[31mo\u001b[0m\u001b[31ms\u001b[0m\u001b[31mc\u001b[0m \u001b[31mo\u001b[0m\u001b[31ms\u001b[0md \u001b[31mn\u001b[0m\u001b[31mi\u001b[0m h\u001b[31mo\u001b[0mv\u001b[31ma\u001b[0m\u001b[31ms\u001b[0m\u001b[31mp\u001b[0m \u001b[31ms\u001b[0m\u001b[31mn\u001b[0mth\u001b[31ma\u001b[0m\u001b[31ms\u001b[0m\u001b[31mp\u001b[0m t\u001b[31mn\u001b[0m d\u001b[31mn\u001b[0m \u001b[31mn\u001b[0m\u001b[31ms\u001b[0m\u001b[31mr\u001b[0me \u001b[31mn\u001b[0m\u001b[31mm\u001b[0m \n",
      "iter 300: \u001b[31mo\u001b[0ml\u001b[31ma\u001b[0m\u001b[31mm\u001b[0me w\u001b[31mo\u001b[0m\u001b[31mf\u001b[0m be\u001b[31mp\u001b[0m\u001b[31ma\u001b[0m\u001b[31mr\u001b[0m\u001b[31mr\u001b[0m\u001b[31ma\u001b[0m\u001b[31mr\u001b[0m\u001b[31mp\u001b[0m t\u001b[31mn\u001b[0m \u001b[31mp\u001b[0met ve\u001b[31ms\u001b[0my t\u001b[31ma\u001b[0m\u001b[31ms\u001b[0med \u001b[31mn\u001b[0m\u001b[31mi\u001b[0m \u001b[31mf\u001b[0m\u001b[31ma\u001b[0mtt\u001b[31ma\u001b[0m\u001b[31mr\u001b[0m\u001b[31mp\u001b[0m by he\u001b[31ms\u001b[0m \u001b[31mf\u001b[0m\u001b[31ma\u001b[0m\u001b[31mf\u001b[0mte\u001b[31ms\u001b[0m \u001b[31mn\u001b[0m\u001b[31mr\u001b[0m the b\u001b[31mo\u001b[0m\u001b[31mr\u001b[0mk \u001b[31mo\u001b[0m\u001b[31mr\u001b[0md \u001b[31mn\u001b[0m\u001b[31mi\u001b[0m h\u001b[31mo\u001b[0mv\u001b[31ma\u001b[0m\u001b[31mr\u001b[0m\u001b[31mp\u001b[0m \u001b[31mr\u001b[0m\u001b[31mn\u001b[0mth\u001b[31ma\u001b[0m\u001b[31mr\u001b[0m\u001b[31mp\u001b[0m t\u001b[31mn\u001b[0m d\u001b[31mn\u001b[0m \u001b[31mn\u001b[0m\u001b[31mr\u001b[0m\u001b[31mm\u001b[0me \u001b[31mn\u001b[0m\u001b[31ms\u001b[0m \n",
      "iter 400: al\u001b[31mo\u001b[0m\u001b[31mp\u001b[0me was be\u001b[31mm\u001b[0m\u001b[31mo\u001b[0m\u001b[31mr\u001b[0m\u001b[31mr\u001b[0m\u001b[31mo\u001b[0m\u001b[31mr\u001b[0m\u001b[31mm\u001b[0m t\u001b[31mi\u001b[0m \u001b[31mm\u001b[0met ve\u001b[31mn\u001b[0my t\u001b[31mo\u001b[0m\u001b[31mn\u001b[0med \u001b[31mi\u001b[0mf s\u001b[31mo\u001b[0mtt\u001b[31mo\u001b[0m\u001b[31mr\u001b[0m\u001b[31mm\u001b[0m by he\u001b[31mn\u001b[0m s\u001b[31mo\u001b[0mste\u001b[31mn\u001b[0m \u001b[31mi\u001b[0m\u001b[31mr\u001b[0m the ba\u001b[31mr\u001b[0mk a\u001b[31mr\u001b[0md \u001b[31mi\u001b[0mf hav\u001b[31mo\u001b[0m\u001b[31mr\u001b[0m\u001b[31mm\u001b[0m \u001b[31mr\u001b[0m\u001b[31mi\u001b[0mth\u001b[31mo\u001b[0m\u001b[31mr\u001b[0m\u001b[31mm\u001b[0m t\u001b[31mi\u001b[0m d\u001b[31mi\u001b[0m \u001b[31mi\u001b[0m\u001b[31mr\u001b[0m\u001b[31mp\u001b[0me \u001b[31mi\u001b[0m\u001b[31mn\u001b[0m \n",
      "iter 500: ali\u001b[31mp\u001b[0me was be\u001b[31mm\u001b[0mi\u001b[31mr\u001b[0m\u001b[31mr\u001b[0mi\u001b[31mr\u001b[0m\u001b[31mm\u001b[0m to \u001b[31mm\u001b[0met ve\u001b[31mn\u001b[0my ti\u001b[31mn\u001b[0med of sitti\u001b[31mr\u001b[0m\u001b[31mm\u001b[0m by he\u001b[31mn\u001b[0m siste\u001b[31mn\u001b[0m o\u001b[31mr\u001b[0m the ba\u001b[31mr\u001b[0mk a\u001b[31mr\u001b[0md of havi\u001b[31mr\u001b[0m\u001b[31mm\u001b[0m \u001b[31mr\u001b[0mothi\u001b[31mr\u001b[0m\u001b[31mm\u001b[0m to do o\u001b[31mr\u001b[0m\u001b[31mp\u001b[0me o\u001b[31mn\u001b[0m \n",
      "iter 600: alice was be\u001b[31mm\u001b[0minnin\u001b[31mm\u001b[0m to \u001b[31mm\u001b[0met very tired of sittin\u001b[31mm\u001b[0m by her sister on the bank and of havin\u001b[31mm\u001b[0m nothin\u001b[31mm\u001b[0m to do once or \n",
      "iter 700: alice was be\u001b[31mm\u001b[0minnin\u001b[31mm\u001b[0m to \u001b[31mm\u001b[0met very tired of sittin\u001b[31mm\u001b[0m by her sister on the bank and of havin\u001b[31mm\u001b[0m nothin\u001b[31mm\u001b[0m to do once or \n",
      "iter 800: alice was be\u001b[31mm\u001b[0minnin\u001b[31mm\u001b[0m to \u001b[31mm\u001b[0met very tired of sittin\u001b[31mm\u001b[0m by her sister on the bank and of havin\u001b[31mm\u001b[0m nothin\u001b[31mm\u001b[0m to do once or \n",
      "iter 900: alice was beginning to get very tired of sitting by her sister on the bank and of having nothing to do once or \n",
      "iter 1000: alice was beginning to get very tired of sitting by her sister on the bank and of having nothing to do once or \n",
      "iter 1100: alice was beginning to get very tired of sitting by her sister on the bank and of having nothing to do once or \n",
      "\n",
      "Decoded Text: alice was beginning to get very tired of sitting by her sister on the bank and of having nothing to do once or \n",
      "                |    |      |      |  |    |    |    |    |     |  |     |    |  |    |   |   |    |      |     |  |   |   | \n",
      "True Text:    alice was beginning to get very tired of sitting by her sister on the bank and of having nothing to do once or \n",
      "\n",
      "MCMC KEY  : i e c d h g \u001b[31mz\u001b[0m a j r m q v k p \u001b[31mx\u001b[0m b s f y u w o l n t\n",
      "Actual KEY: i e c d h g x a j r m q v k p z b s f y u w o l n t\n"
     ]
    }
   ],
   "source": [
    "decrypt_cipher = decrypting(observed_frequencies, empirical_frequencies, 1100, m, 1, 345, 100)\n",
    "decoded_text = ' '.join(decode_text(apply_cipher(cipher_text, decrypt_cipher), characters).split())\n",
    "markers = ''\n",
    "for word in true_text.split():\n",
    "    n = len(word)\n",
    "    marker = [' '] * n\n",
    "    marker[int(n/2)] = '|'\n",
    "    markers += ''.join(marker) + ' '\n",
    "print(\n",
    "    f\"\\nDecoded Text: {colorize_text(decoded_text, true_text, '31')}\\n\"\n",
    "    f\"              {markers}\\n\"\n",
    "    f\"True Text:    {true_text}\\n\\n\"\n",
    "    f\"MCMC KEY  : {colorize_text(' '.join(characters_array[decrypt_cipher[1:]-1]), ' '.join([char for char in decryption_key]), '31')}\\n\"\n",
    "    \n",
    "    f\"Actual KEY: {' '.join([char for char in decryption_key])}\"\n",
    ")"
   ]
  },
  {
   "cell_type": "markdown",
   "metadata": {},
   "source": [
    "# Discussion"
   ]
  },
  {
   "cell_type": "code",
   "execution_count": 20,
   "metadata": {},
   "outputs": [
    {
     "data": {
      "text/plain": [
       "(False, False)"
      ]
     },
     "execution_count": 20,
     "metadata": {},
     "output_type": "execute_result"
    }
   ],
   "source": [
    "# Characters 'x' and 'z' are absent in the test text \n",
    "'x' in plain_text, 'z' in plain_text"
   ]
  },
  {
   "attachments": {},
   "cell_type": "markdown",
   "metadata": {},
   "source": [
    "We can see that the algorithm works, and we were able to decrypt the test text in just around $1000$ iterations.\n",
    "Is is also seen, that not all characters in the decryption key MCMC were restored: characters ```x``` and ```z``` are swapped.\n",
    "This is expected, since both characters and their bigrams ```x*```, ```*x```, ```z*```, ```*z``` are absent in the test text.\n",
    "So, observed frequencies $F_x($ ```x```, ```*``` $) = F_x($ ```*```, ```x``` $) = F_x($ ```z```, ```*``` $) = F_x($ ```*```, ```z``` $) = 0$, and thus they do not contribute into the $Score(x)$,\n",
    "which means, that none of those equal scores, which include these four frequencies in the calculation, have any preference over each other, and so cannot improve the predictions. By pure chance, for example with other random choices and seeds, ```x``` and ```z``` could be in the right place in the MCMC key.\n",
    "Anyway, it's not a problem for this text -- it can be safely decrypted without these unused two characters and their bigrams."
   ]
  },
  {
   "cell_type": "code",
   "execution_count": null,
   "metadata": {},
   "outputs": [],
   "source": []
  }
 ],
 "metadata": {
  "kernelspec": {
   "display_name": "Python 3 (ipykernel)",
   "language": "python",
   "name": "python3"
  },
  "language_info": {
   "codemirror_mode": {
    "name": "ipython",
    "version": 3
   },
   "file_extension": ".py",
   "mimetype": "text/x-python",
   "name": "python",
   "nbconvert_exporter": "python",
   "pygments_lexer": "ipython3",
   "version": "3.9.13"
  },
  "varInspector": {
   "cols": {
    "lenName": 16,
    "lenType": 16,
    "lenVar": 40
   },
   "kernels_config": {
    "python": {
     "delete_cmd_postfix": "",
     "delete_cmd_prefix": "del ",
     "library": "var_list.py",
     "varRefreshCmd": "print(var_dic_list())"
    },
    "r": {
     "delete_cmd_postfix": ") ",
     "delete_cmd_prefix": "rm(",
     "library": "var_list.r",
     "varRefreshCmd": "cat(var_dic_list()) "
    }
   },
   "types_to_exclude": [
    "module",
    "function",
    "builtin_function_or_method",
    "instance",
    "_Feature"
   ],
   "window_display": false
  }
 },
 "nbformat": 4,
 "nbformat_minor": 4
}
