{
 "cells": [
  {
   "cell_type": "markdown",
   "metadata": {},
   "source": [
    "National Research University \"Higher School of Economics\"\n",
    "\n",
    "Master of Data Science Online Programme\n",
    "\n",
    "Course: Large Scale Machine Learning — 1\n",
    "\n",
    "Final Project: User routes on the site\n",
    "\n",
    "Student: Andrei Batyrov (Fall2022)\n",
    "\n",
    "Date: 15-Jan-2024\n",
    "\n",
    "##### Table of Contents\n",
    "\n",
    "[Description](#description)\n",
    "\n",
    "[Spark SQL Solution](#solution)\n",
    "\n",
    "1. [Load Data](#load-data)\n",
    "\n",
    "2. [Main Part](#main-part)\n",
    "\n",
    "3. [Save Result](#save-result)\n",
    "\n",
    "4. [Summary](#summary)"
   ]
  },
  {
   "attachments": {},
   "cell_type": "markdown",
   "metadata": {},
   "source": [
    "# User routes on the site\n",
    "## <a id=\"description\"></a> Description\n",
    "**Clickstream** is a sequence of user actions on a website. It allows you to understand how users interact with the site. In this task, you need to find the most frequent custom routes.\n",
    "\n",
    "## Input data\n",
    "Input data is а table with clickstream data in file `hdfs:/data/clickstream.csv`.\n",
    "\n",
    "### Table structure\n",
    "* `user_id (int)` - Unique user identifier.\n",
    "* `session_id (int)` - Unique identifier for the user session. The user's session lasts until the identifier changes.\n",
    "* `event_type (string)` - Event type from the list:\n",
    "    * **page** - visit to the page\n",
    "    * **event** - any action on the page\n",
    "    * <b>&lt;custom&gt;</b> - string with any other type\n",
    "* `event_page (string)` - Page on the site.\n",
    "* `timestamp (int)` - Unix-timestamp of action.\n",
    "\n",
    "### Browser errors\n",
    "Errors can sometimes occur in the user's browser - after such an error appears, we can no longer trust the data of this session and all the following lines after the error or at the same time with it are considered corrupted and **should not be counted** in statistics.\n",
    "\n",
    "When an error occurs on the page, a random string containing the word **error** will be written to the `event_type` field.\n",
    "\n",
    "### Sample of user session\n",
    "<pre>\n",
    "+-------+----------+------------+----------+----------+\n",
    "|user_id|session_id|  event_type|event_page| timestamp|\n",
    "+-------+----------+------------+----------+----------+\n",
    "|    562|       507|        page|      main|1620494781|\n",
    "|    562|       507|       event|      main|1620494788|\n",
    "|    562|       507|       event|      main|1620494798|\n",
    "|    562|       507|        page|    family|1620494820|\n",
    "|    562|       507|       event|    family|1620494828|\n",
    "|    562|       507|        page|      main|1620494848|\n",
    "|    562|       507|wNaxLlerrorU|      main|1620494865|\n",
    "|    562|       507|       event|      main|1620494873|\n",
    "|    562|       507|        page|      news|1620494875|\n",
    "|    562|       507|        page|   tariffs|1620494876|\n",
    "|    562|       507|       event|   tariffs|1620494884|\n",
    "|    562|       514|        page|      main|1620728918|\n",
    "|    562|       514|       event|      main|1620729174|\n",
    "|    562|       514|        page|   archive|1620729674|\n",
    "|    562|       514|        page|     bonus|1620729797|\n",
    "|    562|       514|        page|   tariffs|1620731090|\n",
    "|    562|       514|       event|   tariffs|1620731187|\n",
    "+-------+----------+------------+----------+----------+\n",
    "</pre>\n",
    "\n",
    "#### Correct user routes for a given user:\n",
    "* **Session 507**: main-family-main\n",
    "* **Session 514**: main-archive-bonus-tariffs\n",
    "\n",
    "Route elements are ordered by the time they appear in the clickstream, from earliest to latest.\n",
    "\n",
    "The route must be accounted for completely before the end of the session or an error in the session.\n",
    "\n",
    "## Task\n",
    "You need to use the Spark SQL, Spark RDD and Spark DF interfaces to create a solution file, the lines of which contain **the 30 most frequent user routes** on the site.\n",
    "\n",
    "Each line of the file should contain the `route` and `count` values **separated by tabs**, where:\n",
    "* `route` - route on the site, consisting of pages separated by \"-\".\n",
    "* `count` - the number of user sessions in which this route was.\n",
    "\n",
    "The lines must be **ordered in descending order** of the `count` field.\n",
    "\n",
    "## Criteria\n",
    "You can get maximum of 3.5 points (final grade) for this assignment, depedning on the number of interface you manage to leverage. The criteria are as follows:\n",
    "\n",
    "* 0.5 points – Spark SQL solution with 1 query\n",
    "* 0.5 points – Spark SQL solution with <=2 queries\n",
    "* 0.5 points – Spark RDD solution\n",
    "* 0.5 points – Spark DF solution\n",
    "* 0.5 points – your solution algorithm is relatively optimized, i.e.: no O^2 or O^3 complexities; appropriate object usage; no data leaks etc. This is evaluated by staff.\n",
    "* 1 point – 1 on 1 screening session. During this session staff member can ask you questions regarding your solution logic, framework usage, questionable parts of your code etc. If your code is clean enough, the staff member can just ask you to solve a theoretical problem connected to Spark.\n"
   ]
  },
  {
   "cell_type": "markdown",
   "metadata": {},
   "source": [
    "## <a id=\"solution\"></a> Spark SQL Solution"
   ]
  },
  {
   "cell_type": "code",
   "execution_count": 22,
   "metadata": {},
   "outputs": [],
   "source": [
    "# Essential import\n",
    "import findspark\n",
    "import pyspark\n",
    "from pyspark.sql import SparkSession\n",
    "from pyspark.sql import functions as F\n",
    "import matplotlib.pyplot as plt"
   ]
  },
  {
   "cell_type": "code",
   "execution_count": 23,
   "metadata": {},
   "outputs": [
    {
     "name": "stderr",
     "output_type": "stream",
     "text": [
      "2024-01-15 14:24:07,261 WARN yarn.Client: Neither spark.yarn.jars nor spark.yarn.archive is set, falling back to uploading libraries under SPARK_HOME.\n"
     ]
    }
   ],
   "source": [
    "# Init\n",
    "findspark.init()\n",
    "sc = pyspark.SparkContext(appName=\"sga\")\n",
    "se = SparkSession(sc)"
   ]
  },
  {
   "cell_type": "markdown",
   "metadata": {},
   "source": [
    "##### <a id=\"load-data\"></a> Load Data"
   ]
  },
  {
   "cell_type": "code",
   "execution_count": 24,
   "metadata": {},
   "outputs": [
    {
     "name": "stdout",
     "output_type": "stream",
     "text": [
      "put: `/data/clickstream.csv': File exists\n",
      "-rw-r--r--   1 root supergroup   32241574 2023-09-24 20:38 /data/clickstream.csv\n"
     ]
    }
   ],
   "source": [
    "# (1) Put data to HDFS, if it's not already there\n",
    "! hdfs dfs -put ./clickstream.csv /data/clickstream.csv\n",
    "! hdfs dfs -ls /data/clickstream.csv"
   ]
  },
  {
   "cell_type": "code",
   "execution_count": 25,
   "metadata": {},
   "outputs": [
    {
     "name": "stderr",
     "output_type": "stream",
     "text": [
      "                                                                                \r"
     ]
    }
   ],
   "source": [
    "# (2) Load data\n",
    "# Cache the data to speed up future actions\n",
    "filename = \"/data/clickstream.csv\"\n",
    "data = se.read.csv(filename, header=True, sep=\"\\t\").cache()"
   ]
  },
  {
   "cell_type": "code",
   "execution_count": 26,
   "metadata": {},
   "outputs": [
    {
     "name": "stderr",
     "output_type": "stream",
     "text": [
      "                                                                                \r"
     ]
    },
    {
     "data": {
      "text/plain": [
       "1000000"
      ]
     },
     "execution_count": 26,
     "metadata": {},
     "output_type": "execute_result"
    }
   ],
   "source": [
    "data.count()"
   ]
  },
  {
   "cell_type": "code",
   "execution_count": 27,
   "metadata": {},
   "outputs": [
    {
     "name": "stdout",
     "output_type": "stream",
     "text": [
      "root\n",
      " |-- user_id: string (nullable = true)\n",
      " |-- session_id: string (nullable = true)\n",
      " |-- event_type: string (nullable = true)\n",
      " |-- event_page: string (nullable = true)\n",
      " |-- timestamp: string (nullable = true)\n",
      "\n"
     ]
    }
   ],
   "source": [
    "data.printSchema()"
   ]
  },
  {
   "cell_type": "code",
   "execution_count": 28,
   "metadata": {},
   "outputs": [
    {
     "name": "stdout",
     "output_type": "stream",
     "text": [
      "+-------+----------+------------+----------+----------+\n",
      "|user_id|session_id|  event_type|event_page| timestamp|\n",
      "+-------+----------+------------+----------+----------+\n",
      "|    562|       507|        page|      main|1695584127|\n",
      "|    562|       507|       event|      main|1695584134|\n",
      "|    562|       507|       event|      main|1695584144|\n",
      "|    562|       507|       event|      main|1695584147|\n",
      "|    562|       507|wNaxLlerrorU|      main|1695584154|\n",
      "|    562|       507|       event|      main|1695584154|\n",
      "|    562|       507|       event|      main|1695584154|\n",
      "|    562|       507|       event|      main|1695584160|\n",
      "|    562|       507|        page|    rabota|1695584166|\n",
      "|    562|       507|       event|    rabota|1695584174|\n",
      "+-------+----------+------------+----------+----------+\n",
      "only showing top 10 rows\n",
      "\n"
     ]
    }
   ],
   "source": [
    "data.show(10)"
   ]
  },
  {
   "cell_type": "markdown",
   "metadata": {},
   "source": [
    "##### <a id=\"main-part\"></a> Main Part"
   ]
  },
  {
   "cell_type": "code",
   "execution_count": 29,
   "metadata": {},
   "outputs": [],
   "source": [
    "# (3) Use forward filling technique to label all event after the first occurrence of an error\n",
    "# (4) Create the visited pages history chain for each combination of `user_id` -- `session_id`\n",
    "data.createOrReplaceTempView(\"data_table\")\n",
    "pages_history = se.sql(\n",
    "                        \"\"\" SELECT user_id, session_id, MAX(pages_history) AS pages_history\n",
    "                            FROM (\n",
    "                            WITH pages_history AS (\n",
    "                                WITH to_drop_labeled AS (\n",
    "                                    WITH error_events_labeled AS (\n",
    "                                        SELECT *,  \n",
    "                                        -- Add error event flag\n",
    "                                        CASE WHEN event_type LIKE \"%error%\" THEN TRUE\n",
    "                                        ELSE NULL\n",
    "                                        END AS error_event\n",
    "                                        FROM data_table\n",
    "                                        )\n",
    "                                    SELECT *,\n",
    "                                    -- For each window, forward fill all following rows after the first occurrence of an error\n",
    "                                    -- Do not specify ROWS BETWEEN to capture event(s) preceding the error event with the same `timestamp`\n",
    "                                    LAST(error_event, TRUE) OVER(PARTITION BY user_id, session_id ORDER BY timestamp) AS to_drop\n",
    "                                    FROM error_events_labeled\n",
    "                                )\n",
    "                                SELECT *\n",
    "                                FROM to_drop_labeled\n",
    "                                -- Keep only events before the first error, also excluding event(s) with the same timestamp as the first error\n",
    "                                WHERE to_drop IS NULL\n",
    "                                )\n",
    "                            SELECT *,\n",
    "                            -- For each window, accumulate pages with each row of a partition\n",
    "                            COLLECT_LIST(event_page) OVER(PARTITION BY user_id, session_id ORDER BY timestamp) AS pages_history\n",
    "                            FROM pages_history\n",
    "                            )\n",
    "                            -- Finally group and take max length of accumulated lists of pages (full history)\n",
    "                            GROUP BY user_id, session_id\n",
    "                        \"\"\"\n",
    "                    ).cache()"
   ]
  },
  {
   "cell_type": "code",
   "execution_count": 30,
   "metadata": {},
   "outputs": [
    {
     "name": "stderr",
     "output_type": "stream",
     "text": [
      "[Stage 5:===================================================>       (7 + 1) / 8]\r"
     ]
    },
    {
     "name": "stdout",
     "output_type": "stream",
     "text": [
      "+-------+----------+----------------------------------------------------------------------------------------------+\n",
      "|user_id|session_id|pages_history                                                                                 |\n",
      "+-------+----------+----------------------------------------------------------------------------------------------+\n",
      "|1007   |82        |[main, archive, archive, digital, digital]                                                    |\n",
      "|1014   |341       |[main, internet, tariffs, tariffs, tariffs]                                                   |\n",
      "|1040   |393       |[main, vklad, vklad, vklad, vklad, internet, internet, internet, internet, internet, internet]|\n",
      "|1048   |301       |[main, main, main]                                                                            |\n",
      "|1068   |310       |[main, main, tariffs]                                                                         |\n",
      "|1109   |442       |[main, main, rabota, rabota, bonus, bonus, bonus, internet, bonus, bonus, bonus]              |\n",
      "|1110   |505       |[main, internet]                                                                              |\n",
      "|1125   |763       |[main]                                                                                        |\n",
      "|1152   |717       |[main, main, digital, digital, digital, digital, digital, digital, rabota, internet, bonus]   |\n",
      "|1168   |278       |[main, main, main, archive, internet, internet, bonus, bonus]                                 |\n",
      "+-------+----------+----------------------------------------------------------------------------------------------+\n",
      "only showing top 10 rows\n",
      "\n"
     ]
    },
    {
     "name": "stderr",
     "output_type": "stream",
     "text": [
      "                                                                                \r"
     ]
    }
   ],
   "source": [
    "pages_history.show(10, truncate=False)"
   ]
  },
  {
   "cell_type": "code",
   "execution_count": 31,
   "metadata": {},
   "outputs": [],
   "source": [
    "# (5) Keep only unique pages with preserved order and build routes\n",
    "def squeeze(pages_history: list) -> list:\n",
    "    \"\"\"\n",
    "    Within a group of equal pages (order is preserved), keep only one page occurrence (unique)\n",
    "    Example: [A, A, A, B, B, C, A, A, D] => [A, B, C, A, D]\n",
    "    \"\"\"\n",
    "    squeezed = []\n",
    "    if pages_history:\n",
    "        # Look ahead\n",
    "        for curr_page, next_page in zip(pages_history[:-1], pages_history[1:]): # O(n)\n",
    "            if next_page != curr_page:\n",
    "                squeezed.append(curr_page) # O(1)\n",
    "        next_page = pages_history[-1] # O(1)\n",
    "        squeezed.append(next_page) # O(1)\n",
    "    return squeezed"
   ]
  },
  {
   "cell_type": "code",
   "execution_count": 32,
   "metadata": {},
   "outputs": [
    {
     "data": {
      "text/plain": [
       "['main', 'internet', 'tariffs', 'internet']"
      ]
     },
     "execution_count": 32,
     "metadata": {},
     "output_type": "execute_result"
    }
   ],
   "source": [
    "# Test\n",
    "squeeze([\"main\", \"internet\", \"internet\", \"internet\", \"internet\", \"internet\", \"tariffs\", \"internet\", \"internet\", \"internet\"])"
   ]
  },
  {
   "cell_type": "code",
   "execution_count": 33,
   "metadata": {},
   "outputs": [],
   "source": [
    "# (6) Concatenate pages into routes and keep top 30 unique user routes \n",
    "# Make a UDF out of our Python function\n",
    "squeezeUDF = F.udf(squeeze, \"array<string>\")\n",
    "# Register it to use in SQL queries\n",
    "se.udf.register(\"squeezeUDF\", squeezeUDF)\n",
    "pages_history.createOrReplaceTempView(\"pages_history_table\")\n",
    "solution_sql = se.sql(\n",
    "                        \"\"\"\n",
    "                            WITH routes AS (\n",
    "                                WITH pages_history_squeezed AS (\n",
    "                                    -- Squeeze pages history\n",
    "                                    SELECT *, squeezeUDF(pages_history) AS pages_history_squeezed\n",
    "                                    FROM pages_history_table\n",
    "                                    )\n",
    "                                    -- Join pages into one route\n",
    "                                    SELECT *, ARRAY_JOIN(pages_history_squeezed, \"-\") AS route\n",
    "                                    FROM pages_history_squeezed\n",
    "                                    )\n",
    "                            -- Keep top 30 routes\n",
    "                            SELECT route, COUNT(*) AS count \n",
    "                            FROM routes\n",
    "                            GROUP BY route\n",
    "                            ORDER BY count DESC, route ASC\n",
    "                            LIMIT 30\n",
    "                        \"\"\"\n",
    "                    ).cache()"
   ]
  },
  {
   "cell_type": "code",
   "execution_count": 34,
   "metadata": {},
   "outputs": [
    {
     "name": "stderr",
     "output_type": "stream",
     "text": [
      "                                                                                \r"
     ]
    },
    {
     "data": {
      "text/plain": [
       "30"
      ]
     },
     "execution_count": 34,
     "metadata": {},
     "output_type": "execute_result"
    }
   ],
   "source": [
    "solution_sql.count()"
   ]
  },
  {
   "cell_type": "code",
   "execution_count": 35,
   "metadata": {},
   "outputs": [
    {
     "name": "stdout",
     "output_type": "stream",
     "text": [
      "+--------------------+-----+\n",
      "|               route|count|\n",
      "+--------------------+-----+\n",
      "|                main| 8184|\n",
      "|        main-archive| 1113|\n",
      "|         main-rabota| 1047|\n",
      "|       main-internet|  897|\n",
      "|          main-bonus|  870|\n",
      "|           main-news|  769|\n",
      "|        main-tariffs|  677|\n",
      "|         main-online|  587|\n",
      "|          main-vklad|  518|\n",
      "| main-rabota-archive|  170|\n",
      "| main-archive-rabota|  167|\n",
      "|  main-bonus-archive|  143|\n",
      "|   main-rabota-bonus|  139|\n",
      "|   main-bonus-rabota|  135|\n",
      "|    main-news-rabota|  135|\n",
      "|main-archive-inte...|  132|\n",
      "|    main-rabota-news|  130|\n",
      "|main-internet-rabota|  129|\n",
      "|   main-archive-news|  126|\n",
      "|main-rabota-internet|  124|\n",
      "|main-internet-arc...|  123|\n",
      "|  main-archive-bonus|  117|\n",
      "| main-internet-bonus|  115|\n",
      "|main-tariffs-inte...|  114|\n",
      "|   main-news-archive|  113|\n",
      "|  main-news-internet|  109|\n",
      "|main-archive-tariffs|  104|\n",
      "|  main-internet-news|  103|\n",
      "|main-tariffs-archive|  103|\n",
      "|    main-rabota-main|   94|\n",
      "+--------------------+-----+\n",
      "\n"
     ]
    }
   ],
   "source": [
    "solution_sql.show(30)"
   ]
  },
  {
   "cell_type": "code",
   "execution_count": 36,
   "metadata": {},
   "outputs": [
    {
     "data": {
      "image/png": "[encoded data removed]",
      "text/plain": [
       "<Figure size 1000x600 with 1 Axes>"
      ]
     },
     "metadata": {},
     "output_type": "display_data"
    }
   ],
   "source": [
    "# (7) Plot the result\n",
    "plt.figure(figsize=(10, 6))\n",
    "plt.barh(y=solution_sql.rdd.map(lambda x: x[0]).collect(), width=solution_sql.rdd.map(lambda x: x[1]).collect(), color=\"white\", edgecolor=\"C0\", hatch=\".\"*6, height=0.5, alpha=0.75)\n",
    "plt.yticks(size=9)\n",
    "plt.xticks(size=9)\n",
    "plt.ylabel(\"Route\", size=10)\n",
    "plt.gca().invert_yaxis()\n",
    "plt.gca().set_axisbelow(True)\n",
    "plt.title(\"Top 30 user routes count\", size=10)\n",
    "plt.grid(axis=\"x\", lw=0.5, color=\"xkcd:cement\");"
   ]
  },
  {
   "cell_type": "markdown",
   "metadata": {},
   "source": [
    "##### <a id=\"save-result\"></a> Save Result"
   ]
  },
  {
   "cell_type": "code",
   "execution_count": 37,
   "metadata": {},
   "outputs": [
    {
     "name": "stdout",
     "output_type": "stream",
     "text": [
      "Deleted /data/solution_sql\n"
     ]
    }
   ],
   "source": [
    "# (8) Save the result\n",
    "# Overwrite (caution!)\n",
    "! hdfs dfs -rm -r /data/solution_sql/"
   ]
  },
  {
   "cell_type": "code",
   "execution_count": 38,
   "metadata": {},
   "outputs": [],
   "source": [
    "solution_sql.write.format(\"csv\").mode(\"overwrite\").options(header=True, delimiter=\"\\t\").save(\"/data/solution_sql\")"
   ]
  },
  {
   "cell_type": "code",
   "execution_count": 39,
   "metadata": {},
   "outputs": [
    {
     "name": "stdout",
     "output_type": "stream",
     "text": [
      "Found 2 items\n",
      "-rw-r--r--   1 root supergroup          0 2024-01-15 14:24 /data/solution_sql/_SUCCESS\n",
      "-rw-r--r--   1 root supergroup        644 2024-01-15 14:24 /data/solution_sql/part-00000-d82b4957-a913-4bd9-8697-e88fe00c9348-c000.csv\n"
     ]
    }
   ],
   "source": [
    "# Check\n",
    "! hdfs dfs -ls /data/solution_sql/"
   ]
  },
  {
   "cell_type": "code",
   "execution_count": 40,
   "metadata": {},
   "outputs": [
    {
     "data": {
      "text/plain": [
       "['route\\tcount',\n",
       " 'main\\t8184',\n",
       " 'main-archive\\t1113',\n",
       " 'main-rabota\\t1047',\n",
       " 'main-internet\\t897',\n",
       " 'main-bonus\\t870',\n",
       " 'main-news\\t769',\n",
       " 'main-tariffs\\t677',\n",
       " 'main-online\\t587',\n",
       " 'main-vklad\\t518',\n",
       " 'main-rabota-archive\\t170',\n",
       " 'main-archive-rabota\\t167',\n",
       " 'main-bonus-archive\\t143',\n",
       " 'main-rabota-bonus\\t139',\n",
       " 'main-bonus-rabota\\t135',\n",
       " 'main-news-rabota\\t135',\n",
       " 'main-archive-internet\\t132',\n",
       " 'main-rabota-news\\t130',\n",
       " 'main-internet-rabota\\t129',\n",
       " 'main-archive-news\\t126',\n",
       " 'main-rabota-internet\\t124',\n",
       " 'main-internet-archive\\t123',\n",
       " 'main-archive-bonus\\t117',\n",
       " 'main-internet-bonus\\t115',\n",
       " 'main-tariffs-internet\\t114',\n",
       " 'main-news-archive\\t113',\n",
       " 'main-news-internet\\t109',\n",
       " 'main-archive-tariffs\\t104',\n",
       " 'main-internet-news\\t103',\n",
       " 'main-tariffs-archive\\t103',\n",
       " 'main-rabota-main\\t94']"
      ]
     },
     "execution_count": 40,
     "metadata": {},
     "output_type": "execute_result"
    }
   ],
   "source": [
    "sc.textFile(\"/data/solution_sql/*\").collect()"
   ]
  },
  {
   "cell_type": "code",
   "execution_count": 41,
   "metadata": {},
   "outputs": [
    {
     "name": "stdout",
     "output_type": "stream",
     "text": [
      "total 12K\n",
      "drwxr-xr-x 2 root   users 4.0K Jan 15 14:24 .\n",
      "drwsrwsr-x 1 jovyan users 4.0K Jan 15 14:24 ..\n",
      "-rw-r--r-- 1 root   root   644 Jan 15 14:24 part-00000-d82b4957-a913-4bd9-8697-e88fe00c9348-c000.csv\n",
      "-rw-r--r-- 1 root   root     0 Jan 15 14:24 _SUCCESS\n"
     ]
    }
   ],
   "source": [
    "# Copy result to local machine for submission\n",
    "! hdfs dfs -get /data/solution_sql/\n",
    "! ls -alh ./solution_sql"
   ]
  },
  {
   "cell_type": "code",
   "execution_count": 42,
   "metadata": {},
   "outputs": [],
   "source": [
    "# Clean up\n",
    "sc.stop()"
   ]
  },
  {
   "cell_type": "markdown",
   "metadata": {},
   "source": [
    "##### <a id=\"summary\"></a> Summary"
   ]
  },
  {
   "cell_type": "markdown",
   "metadata": {},
   "source": [
    "In this assignment we have built a report showing top 30 most visited user routes.\n",
    "\n",
    "To prepare the report, we:\n",
    "- Copied the source csv file with clickstream events to HDFS,\n",
    "- Loaded the raw csv file into a Spark DataFrame,\n",
    "- Applied several transformations with __Spark SQL__ to construct routes for each combination of `user_id` and `session_id`: kept only events before the first occurrence of any error found (also excluding event(s) with the same timestamp as the first error), collected the items of the `event_page` column into one list, then each such collection was squeezed to keep only unique pages with preserved order, and finally such squeezed pages were concatenated together to build routes as strings,\n",
    "- Grouped, sorted and took top 30 unique routes,\n",
    "- Finally, plotted and saved the results to a file with required format.\n",
    "\n",
    "Based on the top 30 routes, the users mostly stay only on the `main` page."
   ]
  },
  {
   "cell_type": "code",
   "execution_count": null,
   "metadata": {},
   "outputs": [],
   "source": []
  }
 ],
 "metadata": {
  "coursera": {
   "schema_names": [
    "week-4-spark-homework"
   ]
  },
  "kernelspec": {
   "display_name": "Python 3.9.6 64-bit",
   "language": "python",
   "name": "python3"
  },
  "language_info": {
   "codemirror_mode": {
    "name": "ipython",
    "version": 3
   },
   "file_extension": ".py",
   "mimetype": "text/x-python",
   "name": "python",
   "nbconvert_exporter": "python",
   "pygments_lexer": "ipython3",
   "version": "3.10.9"
  },
  "vscode": {
   "interpreter": {
    "hash": "31f2aee4e71d21fbe5cf8b01ff0e069b9275f58929596ceb00d14d90e3e16cd6"
   }
  }
 },
 "nbformat": 4,
 "nbformat_minor": 2
}
