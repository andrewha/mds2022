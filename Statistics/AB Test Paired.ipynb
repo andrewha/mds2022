{
 "cells": [
  {
   "attachments": {},
   "cell_type": "markdown",
   "id": "3b966271",
   "metadata": {
    "deletable": false,
    "editable": false,
    "id": "3b966271",
    "nbgrader": {
     "cell_type": "markdown",
     "checksum": "454bbdf6a1ad261cfbadbc014c24f861",
     "grade": false,
     "grade_id": "cell-369809025cbfb1e4",
     "locked": true,
     "schema_version": 3,
     "solution": false,
     "task": false
    }
   },
   "source": [
    "# Statistics basics\n",
    "## Final project\n",
    "Good news! You are hired by some retail company to analyse transaction statistics in a retail chain. (Sorry, this is just an imaginary company so far, but if you successfully finish our program, I'm sure it will become reality.)\n",
    "\n",
    "You have to use everything that we learned so far to answer questions that are asked by your employer.\n",
    "\n",
    "Part of the questions require that you write some code that will be automatically tested with autograding. So when you are finished, please, send this work to automatic grading.\n",
    "\n",
    "The other part of questions are presented in the appropriate quiz. Answer them using your results.\n",
    "\n",
    "Finally, some problems will be assessed manually. So, please, submit your notebook to staff graded assignment as well.\n",
    "\n",
    "Note you are not allowed to use loops anywhere in this project!\n",
    "\n",
    "Let's begin!\n",
    "\n",
    "### Data\n",
    "\n",
    "There are three datasets: `customers.csv`, `purchases.csv` and `shops.csv`. They are stored in `data` folder.\n",
    "\n",
    "`customers.csv` contains information about each customer registered in loyalty program.\n",
    "\n",
    "`shops.csv` contains information about shops and special offers they organized. One shap can organize several offers and therefore there are usually several rows that correspond to the same shops. However, some shops do not organize special offers at all, but they are presented in this table nevertheless.\n",
    "\n",
    "`purchases.csv` is a purchase log. It contains information for all customers, either registered in a loyalty program (in this case we know the corresponding customer id) or not registered. One purchase can be a collection of several items, but we see only the total price of everything bought."
   ]
  },
  {
   "cell_type": "code",
   "execution_count": 1,
   "id": "90990116",
   "metadata": {
    "id": "90990116"
   },
   "outputs": [],
   "source": [
    "#!ls data/"
   ]
  },
  {
   "attachments": {},
   "cell_type": "markdown",
   "id": "959cfc52",
   "metadata": {
    "id": "959cfc52"
   },
   "source": [
    "First, let us load these datasets and make a quick glance on them."
   ]
  },
  {
   "attachments": {},
   "cell_type": "markdown",
   "id": "b4f3f942",
   "metadata": {
    "deletable": false,
    "editable": false,
    "id": "b4f3f942",
    "nbgrader": {
     "cell_type": "markdown",
     "checksum": "6aa27f20bda28314f57587d02e6f69b2",
     "grade": false,
     "grade_id": "cell-a2f0b3be149e1b44",
     "locked": true,
     "schema_version": 3,
     "solution": false,
     "task": false
    }
   },
   "source": [
    "### Problem 1 \n",
    "Load datasets intro variables `customers`, `purchases` and `shops`. Use `pd.read_csv`."
   ]
  },
  {
   "cell_type": "code",
   "execution_count": 2,
   "id": "08197527",
   "metadata": {
    "id": "08197527"
   },
   "outputs": [],
   "source": [
    "import pandas as pd\n",
    "import numpy as np\n",
    "from scipy.stats import ttest_rel, pearsonr\n",
    "import matplotlib.pyplot as plt\n",
    "\n",
    "%matplotlib inline"
   ]
  },
  {
   "cell_type": "code",
   "execution_count": 3,
   "id": "16c60f2e",
   "metadata": {
    "id": "16c60f2e"
   },
   "outputs": [],
   "source": [
    "customers = pd.read_csv('https://github.com/mbburova/MDS/raw/main/customers.csv', sep = ',')\n",
    "purchases = pd.read_csv('https://github.com/mbburova/MDS/raw/main/purchases.csv', sep = ',')\n",
    "shops = pd.read_csv('https://github.com/mbburova/MDS/raw/main/shops.csv')"
   ]
  },
  {
   "attachments": {},
   "cell_type": "markdown",
   "id": "d97a5d25",
   "metadata": {
    "id": "d97a5d25"
   },
   "source": [
    "### Problem 2 (quiz)"
   ]
  },
  {
   "attachments": {},
   "cell_type": "markdown",
   "id": "5bbe0a1c",
   "metadata": {
    "deletable": false,
    "editable": false,
    "id": "5bbe0a1c",
    "nbgrader": {
     "cell_type": "markdown",
     "checksum": "0603220371fdbcb9e545525cad325284",
     "grade": false,
     "grade_id": "cell-277368782ff4455f",
     "locked": true,
     "schema_version": 3,
     "solution": false,
     "task": false
    }
   },
   "source": [
    "Investigate dataframes and answer the following questions (in the appropriate Quiz):\n",
    "\n",
    "1. What is the type of variable `customer_id` in the dataset `purchases`?\n",
    "2. What is the type of variable `age` in the dataset `customers`?\n",
    "\n",
    "Note that you have to provide your answers based on the meaning of the data, not on the Python object types of the corresponding column."
   ]
  },
  {
   "cell_type": "code",
   "execution_count": 4,
   "id": "daf262b6",
   "metadata": {
    "deletable": false,
    "editable": false,
    "id": "daf262b6",
    "nbgrader": {
     "cell_type": "markdown",
     "checksum": "0ef9904ad2af29fd7de47254b703429e",
     "grade": false,
     "grade_id": "cell-27d72da45a2d686e",
     "locked": true,
     "schema_version": 3,
     "solution": false,
     "task": false
    }
   },
   "outputs": [
    {
     "name": "stdout",
     "output_type": "stream",
     "text": [
      "customer_id: float64\n",
      "age: float64\n"
     ]
    }
   ],
   "source": [
    "print(\"customer_id:\", purchases[\"customer_id\"].dtype)\n",
    "print(\"age:\", customers[\"age\"].dtype)"
   ]
  },
  {
   "attachments": {},
   "cell_type": "markdown",
   "id": "b8bea1bf",
   "metadata": {},
   "source": [
    "### Problem 3 (SGA)\n",
    "Let us consider column `total_price` in the dataset `purchases`. May we assume that this column is an i.i.d. sample from some random variable? Write your answer and full explanation in the cell below.\n"
   ]
  },
  {
   "cell_type": "code",
   "execution_count": 5,
   "id": "09bbd3ae",
   "metadata": {},
   "outputs": [
    {
     "data": {
      "text/html": [
       "<div>\n",
       "<style scoped>\n",
       "    .dataframe tbody tr th:only-of-type {\n",
       "        vertical-align: middle;\n",
       "    }\n",
       "\n",
       "    .dataframe tbody tr th {\n",
       "        vertical-align: top;\n",
       "    }\n",
       "\n",
       "    .dataframe thead th {\n",
       "        text-align: right;\n",
       "    }\n",
       "</style>\n",
       "<table border=\"1\" class=\"dataframe\">\n",
       "  <thead>\n",
       "    <tr style=\"text-align: right;\">\n",
       "      <th></th>\n",
       "      <th>customer_id</th>\n",
       "      <th>date</th>\n",
       "      <th>shop_id</th>\n",
       "      <th>total_price</th>\n",
       "    </tr>\n",
       "  </thead>\n",
       "  <tbody>\n",
       "    <tr>\n",
       "      <th>0</th>\n",
       "      <td>0.0</td>\n",
       "      <td>2018-05-04</td>\n",
       "      <td>40</td>\n",
       "      <td>289.673291</td>\n",
       "    </tr>\n",
       "    <tr>\n",
       "      <th>1</th>\n",
       "      <td>0.0</td>\n",
       "      <td>2019-01-26</td>\n",
       "      <td>40</td>\n",
       "      <td>1316.898901</td>\n",
       "    </tr>\n",
       "    <tr>\n",
       "      <th>2</th>\n",
       "      <td>0.0</td>\n",
       "      <td>2018-11-18</td>\n",
       "      <td>42</td>\n",
       "      <td>159.414367</td>\n",
       "    </tr>\n",
       "    <tr>\n",
       "      <th>3</th>\n",
       "      <td>0.0</td>\n",
       "      <td>2018-05-12</td>\n",
       "      <td>42</td>\n",
       "      <td>808.791649</td>\n",
       "    </tr>\n",
       "    <tr>\n",
       "      <th>4</th>\n",
       "      <td>0.0</td>\n",
       "      <td>2019-04-20</td>\n",
       "      <td>42</td>\n",
       "      <td>1207.855038</td>\n",
       "    </tr>\n",
       "    <tr>\n",
       "      <th>...</th>\n",
       "      <td>...</td>\n",
       "      <td>...</td>\n",
       "      <td>...</td>\n",
       "      <td>...</td>\n",
       "    </tr>\n",
       "    <tr>\n",
       "      <th>40397</th>\n",
       "      <td>NaN</td>\n",
       "      <td>2018-05-05</td>\n",
       "      <td>37</td>\n",
       "      <td>169.086474</td>\n",
       "    </tr>\n",
       "    <tr>\n",
       "      <th>40398</th>\n",
       "      <td>NaN</td>\n",
       "      <td>2018-09-29</td>\n",
       "      <td>7</td>\n",
       "      <td>310.993395</td>\n",
       "    </tr>\n",
       "    <tr>\n",
       "      <th>40399</th>\n",
       "      <td>NaN</td>\n",
       "      <td>2018-10-31</td>\n",
       "      <td>1</td>\n",
       "      <td>17.535630</td>\n",
       "    </tr>\n",
       "    <tr>\n",
       "      <th>40400</th>\n",
       "      <td>NaN</td>\n",
       "      <td>2019-02-16</td>\n",
       "      <td>37</td>\n",
       "      <td>218.576020</td>\n",
       "    </tr>\n",
       "    <tr>\n",
       "      <th>40401</th>\n",
       "      <td>NaN</td>\n",
       "      <td>2018-12-15</td>\n",
       "      <td>49</td>\n",
       "      <td>557.510380</td>\n",
       "    </tr>\n",
       "  </tbody>\n",
       "</table>\n",
       "<p>40402 rows × 4 columns</p>\n",
       "</div>"
      ],
      "text/plain": [
       "       customer_id        date  shop_id  total_price\n",
       "0              0.0  2018-05-04       40   289.673291\n",
       "1              0.0  2019-01-26       40  1316.898901\n",
       "2              0.0  2018-11-18       42   159.414367\n",
       "3              0.0  2018-05-12       42   808.791649\n",
       "4              0.0  2019-04-20       42  1207.855038\n",
       "...            ...         ...      ...          ...\n",
       "40397          NaN  2018-05-05       37   169.086474\n",
       "40398          NaN  2018-09-29        7   310.993395\n",
       "40399          NaN  2018-10-31        1    17.535630\n",
       "40400          NaN  2019-02-16       37   218.576020\n",
       "40401          NaN  2018-12-15       49   557.510380\n",
       "\n",
       "[40402 rows x 4 columns]"
      ]
     },
     "execution_count": 5,
     "metadata": {},
     "output_type": "execute_result"
    }
   ],
   "source": [
    "purchases"
   ]
  },
  {
   "cell_type": "code",
   "execution_count": 6,
   "id": "a2403c25",
   "metadata": {},
   "outputs": [
    {
     "data": {
      "text/plain": [
       "40402"
      ]
     },
     "execution_count": 6,
     "metadata": {},
     "output_type": "execute_result"
    }
   ],
   "source": [
    "purchases.shape[0]"
   ]
  },
  {
   "attachments": {},
   "cell_type": "markdown",
   "id": "ea9c3ac6",
   "metadata": {},
   "source": [
    "Strictly speaking, we cannot know for sure that the column `total_price` is an i.i.d sample of some random variable $X$.\n",
    "1. Independence considerations. Since we do not know much about the details of how this dataset was collected, we only may assume that the purchases were indeed chosen independently one from another. Some factors that may break the independence condition include purchases made by customers who come from one family with some fixed budget, know each other and agreed to spend specific amount of money on that particular day, belong to some group, like one geographical location.\n",
    "2. Identical distribution considerations. As with independence considerations, we only may assume that all purchases have the same \"background.\" However, this is not necessarily the case. Customers may have more or less money to spend on a particular day based on their shopping habits. Some might have changed their job and now have either more or less money to spend. Customer's age may also contribute much: younger and older customers may have less money to spend.\n",
    "\n",
    "The factors listed above may be \"balanced out\", if we have a rather large number of purchases made by customers coming from different backgrounds -- in this case the law of large numbers and the Central Limit Theorem will produce a close to normal distribution with some trustworthy mean value of total price.\n",
    "\n",
    "Since, we have a rather larger number of rows (purchases) in our dataset: $40,402$, we will consider that the column `total_price` $\\stackrel{\\text{i.i.d.}}{\\sim} X$."
   ]
  },
  {
   "attachments": {},
   "cell_type": "markdown",
   "id": "348b2208",
   "metadata": {
    "deletable": false,
    "editable": false,
    "id": "348b2208",
    "nbgrader": {
     "cell_type": "markdown",
     "checksum": "59d083c8df5f526657c99508627eb090",
     "grade": false,
     "grade_id": "cell-74b47122f0488db1",
     "locked": true,
     "schema_version": 3,
     "solution": false,
     "task": false
    }
   },
   "source": [
    "### Problem 4 (quiz)\n",
    "Visualise distribution of variable `age` in the dataset `customers` using appropriate visualization tool.\n"
   ]
  },
  {
   "cell_type": "code",
   "execution_count": 7,
   "id": "fca53f72",
   "metadata": {
    "deletable": false,
    "id": "fca53f72"
   },
   "outputs": [
    {
     "data": {
      "image/png": "[encoded data removed]",
      "text/plain": [
       "<Figure size 640x480 with 1 Axes>"
      ]
     },
     "metadata": {},
     "output_type": "display_data"
    }
   ],
   "source": [
    "# your code here\n",
    "customers[\"age\"].hist()\n",
    "plt.xlabel(\"Age\")\n",
    "plt.ylabel(\"Count\")\n",
    "plt.title(\"Age distribution\");"
   ]
  },
  {
   "attachments": {},
   "cell_type": "markdown",
   "id": "ffd6ec46",
   "metadata": {
    "id": "ffd6ec46"
   },
   "source": [
    "### Problem 5 (quiz)\n",
    "Your employer is going to provide two special offers for all registered customers based on the customer age. They want to pick some threshold age, and offer one special program to customers who are younger than this threshold age and another special program to customers who are older than this age. They want to choose the threshold in such a way that the number of potential participants of both programs coincide (or at least be as close to each other as possible). What is the threshold?"
   ]
  },
  {
   "cell_type": "code",
   "execution_count": 8,
   "id": "58e89991",
   "metadata": {
    "deletable": false,
    "id": "58e89991"
   },
   "outputs": [
    {
     "data": {
      "text/plain": [
       "43.0"
      ]
     },
     "execution_count": 8,
     "metadata": {},
     "output_type": "execute_result"
    }
   ],
   "source": [
    "# your code here\n",
    "customers[\"age\"].median()"
   ]
  },
  {
   "attachments": {},
   "cell_type": "markdown",
   "id": "a538b39b",
   "metadata": {
    "id": "a538b39b"
   },
   "source": [
    "### Problem 6 (quiz)\n",
    "\n",
    "Let us visualize how purchases are distributed around a year. For example, it is known that December is a hot month for retail due to Christmas. Will you see it in the data? Are there any other tendencies we will see?\n",
    "\n",
    "To do it, we have to extract a month from the `date` variable of `purchases` table and create a new variable (new dataframe column) that contains this month, then plot distribution of this variable. There is a special data type in pandas to represent date and time. However, by default `pd.read_csv` does not try to guess that a particular column contains something that looks like a date and reads it just as a column of strings. So let's convert this column manually using function `pd.to_datetime` first:\n"
   ]
  },
  {
   "cell_type": "code",
   "execution_count": 9,
   "id": "65c6dde9",
   "metadata": {
    "id": "65c6dde9"
   },
   "outputs": [],
   "source": [
    "purchases[\"date\"] = pd.to_datetime(purchases[\"date\"])"
   ]
  },
  {
   "attachments": {},
   "cell_type": "markdown",
   "id": "0e72fb08",
   "metadata": {
    "id": "0e72fb08"
   },
   "source": [
    "Let's check that `date` has correct `dtype`:"
   ]
  },
  {
   "cell_type": "code",
   "execution_count": 10,
   "id": "63282db2",
   "metadata": {
    "id": "63282db2"
   },
   "outputs": [
    {
     "data": {
      "text/plain": [
       "dtype('<M8[ns]')"
      ]
     },
     "execution_count": 10,
     "metadata": {},
     "output_type": "execute_result"
    }
   ],
   "source": [
    "purchases[\"date\"].dtype"
   ]
  },
  {
   "attachments": {},
   "cell_type": "markdown",
   "id": "f6b8d8cb",
   "metadata": {
    "id": "f6b8d8cb"
   },
   "source": [
    "This should return something like `dtype('datetime64[ns]')` or `dtype('<M8[ns]')`. It is much easier to work with dates when they are converted to native datetime format instead of strings. For example, you can find the difference between two dates and do a lot of other things. To extract different features of date like month of even day of week, one can use `.dt` accessor (similar to using `.str` accessor to access string methods), see [documentation](https://pandas.pydata.org/pandas-docs/stable/user_guide/timeseries.html#time-date-components) for details. For example, this is how we can extract day of week (Monday=0, Sunday=6):"
   ]
  },
  {
   "cell_type": "code",
   "execution_count": 11,
   "id": "c580e547",
   "metadata": {
    "id": "c580e547"
   },
   "outputs": [
    {
     "data": {
      "text/plain": [
       "0        4\n",
       "1        5\n",
       "2        6\n",
       "3        5\n",
       "4        5\n",
       "        ..\n",
       "40397    5\n",
       "40398    5\n",
       "40399    2\n",
       "40400    5\n",
       "40401    5\n",
       "Name: date, Length: 40402, dtype: int64"
      ]
     },
     "execution_count": 11,
     "metadata": {},
     "output_type": "execute_result"
    }
   ],
   "source": [
    "purchases[\"date\"].dt.dayofweek"
   ]
  },
  {
   "attachments": {},
   "cell_type": "markdown",
   "id": "31fb37ce",
   "metadata": {
    "id": "31fb37ce"
   },
   "source": [
    "Now let us return to our problem here. We want to make a plot that shows how many purchases we have per month. In other words, we want to create and consider new variable `month`. This is a categorical variable. Use an appropriate tool to visualize it.\n",
    "\n",
    "Make this bar plot. \n",
    "\n",
    "**Hint.** To sort the values on the horizontal axis one can use `.sort_index()`.\n"
   ]
  },
  {
   "cell_type": "code",
   "execution_count": 12,
   "id": "6400fc6b",
   "metadata": {
    "deletable": false,
    "id": "6400fc6b",
    "nbgrader": {
     "cell_type": "code",
     "checksum": "d06be0bc6d1545e8763b4bc37f0fbbc7",
     "grade": false,
     "grade_id": "cell-fab958f31a3bfdb3",
     "locked": false,
     "schema_version": 3,
     "solution": true,
     "task": false
    }
   },
   "outputs": [
    {
     "data": {
      "image/png": "[encoded data removed]",
      "text/plain": [
       "<Figure size 640x480 with 1 Axes>"
      ]
     },
     "metadata": {},
     "output_type": "display_data"
    }
   ],
   "source": [
    "# YOUR CODE HERE\n",
    "#raise NotImplementedError()\n",
    "purchases[\"month\"] = purchases[\"date\"].dt.month\n",
    "plt.bar(purchases[\"month\"].value_counts().index.sort_values(), height=purchases[\"month\"].value_counts().sort_index())\n",
    "plt.xlabel(\"Month\")\n",
    "plt.ylabel(\"Purchases\")\n",
    "plt.title(\"Purchases vs Month\")\n",
    "plt.xticks(purchases[\"month\"].unique());"
   ]
  },
  {
   "attachments": {},
   "cell_type": "markdown",
   "id": "27c30732",
   "metadata": {
    "id": "27c30732"
   },
   "source": [
    "### Problem 7 (SGA)\n",
    "\n",
    "What's wrong with May? Why do we have so many purchases? Are there any unknown holidays in this month? Or it's some other reason? Investigate your data and give an answer. Write it in the cell below. Add new cells to include code / explanations as necessary."
   ]
  },
  {
   "attachments": {},
   "cell_type": "markdown",
   "id": "b56e8c0e",
   "metadata": {
    "deletable": false,
    "id": "b56e8c0e",
    "nbgrader": {
     "cell_type": "code",
     "checksum": "505135e699b1d4277c277a659245214c",
     "grade": true,
     "grade_id": "cell-b1bb61291c8a3eda",
     "locked": false,
     "points": 0,
     "schema_version": 3,
     "solution": true,
     "task": false
    }
   },
   "source": [
    "Let's first check the date range for each month"
   ]
  },
  {
   "cell_type": "code",
   "execution_count": 13,
   "id": "8af6a537",
   "metadata": {},
   "outputs": [
    {
     "name": "stdout",
     "output_type": "stream",
     "text": [
      "All purchases date range from: 2018-05-03 00:00:00 to: 2019-06-03 00:00:00\n"
     ]
    },
    {
     "data": {
      "text/html": [
       "<div>\n",
       "<style scoped>\n",
       "    .dataframe tbody tr th:only-of-type {\n",
       "        vertical-align: middle;\n",
       "    }\n",
       "\n",
       "    .dataframe tbody tr th {\n",
       "        vertical-align: top;\n",
       "    }\n",
       "\n",
       "    .dataframe thead th {\n",
       "        text-align: right;\n",
       "    }\n",
       "</style>\n",
       "<table border=\"1\" class=\"dataframe\">\n",
       "  <thead>\n",
       "    <tr style=\"text-align: right;\">\n",
       "      <th></th>\n",
       "      <th>date_begin</th>\n",
       "      <th>date_end</th>\n",
       "    </tr>\n",
       "    <tr>\n",
       "      <th>month</th>\n",
       "      <th></th>\n",
       "      <th></th>\n",
       "    </tr>\n",
       "  </thead>\n",
       "  <tbody>\n",
       "    <tr>\n",
       "      <th>1</th>\n",
       "      <td>2019-01-01</td>\n",
       "      <td>2019-01-31</td>\n",
       "    </tr>\n",
       "    <tr>\n",
       "      <th>2</th>\n",
       "      <td>2019-02-01</td>\n",
       "      <td>2019-02-28</td>\n",
       "    </tr>\n",
       "    <tr>\n",
       "      <th>3</th>\n",
       "      <td>2019-03-01</td>\n",
       "      <td>2019-03-31</td>\n",
       "    </tr>\n",
       "    <tr>\n",
       "      <th>4</th>\n",
       "      <td>2019-04-01</td>\n",
       "      <td>2019-04-30</td>\n",
       "    </tr>\n",
       "    <tr>\n",
       "      <th>5</th>\n",
       "      <td>2018-05-03</td>\n",
       "      <td>2019-05-31</td>\n",
       "    </tr>\n",
       "    <tr>\n",
       "      <th>6</th>\n",
       "      <td>2018-06-01</td>\n",
       "      <td>2019-06-03</td>\n",
       "    </tr>\n",
       "    <tr>\n",
       "      <th>7</th>\n",
       "      <td>2018-07-01</td>\n",
       "      <td>2018-07-31</td>\n",
       "    </tr>\n",
       "    <tr>\n",
       "      <th>8</th>\n",
       "      <td>2018-08-01</td>\n",
       "      <td>2018-08-31</td>\n",
       "    </tr>\n",
       "    <tr>\n",
       "      <th>9</th>\n",
       "      <td>2018-09-01</td>\n",
       "      <td>2018-09-30</td>\n",
       "    </tr>\n",
       "    <tr>\n",
       "      <th>10</th>\n",
       "      <td>2018-10-02</td>\n",
       "      <td>2018-10-31</td>\n",
       "    </tr>\n",
       "    <tr>\n",
       "      <th>11</th>\n",
       "      <td>2018-11-01</td>\n",
       "      <td>2018-11-30</td>\n",
       "    </tr>\n",
       "    <tr>\n",
       "      <th>12</th>\n",
       "      <td>2018-12-01</td>\n",
       "      <td>2018-12-31</td>\n",
       "    </tr>\n",
       "  </tbody>\n",
       "</table>\n",
       "</div>"
      ],
      "text/plain": [
       "      date_begin   date_end\n",
       "month                      \n",
       "1     2019-01-01 2019-01-31\n",
       "2     2019-02-01 2019-02-28\n",
       "3     2019-03-01 2019-03-31\n",
       "4     2019-04-01 2019-04-30\n",
       "5     2018-05-03 2019-05-31\n",
       "6     2018-06-01 2019-06-03\n",
       "7     2018-07-01 2018-07-31\n",
       "8     2018-08-01 2018-08-31\n",
       "9     2018-09-01 2018-09-30\n",
       "10    2018-10-02 2018-10-31\n",
       "11    2018-11-01 2018-11-30\n",
       "12    2018-12-01 2018-12-31"
      ]
     },
     "execution_count": 13,
     "metadata": {},
     "output_type": "execute_result"
    }
   ],
   "source": [
    "# YOUR CODE HERE\n",
    "#raise NotImplementedError()\n",
    "print(\"All purchases date range from:\", purchases[\"date\"].min(), \"to:\", purchases[\"date\"].max())\n",
    "pd.concat([purchases.groupby(\"month\").min()[\"date\"], purchases.groupby(\"month\").max()[\"date\"]], keys=[\"date_begin\", \"date_end\"], axis=1)"
   ]
  },
  {
   "attachments": {},
   "cell_type": "markdown",
   "id": "9292d509",
   "metadata": {},
   "source": [
    "We can clearly see that purchases for May cover both years of 2018 and 2019, while other months cover only either 2018 or 2019. June also covers 2018 and slightly 2019, but not as much as May. Roughly speaking, in our dataset we have two Mays: May-2018 and May-2019.\n",
    "\n",
    "Let's also look closer at daily purchases in all months in both 2018 and 2019."
   ]
  },
  {
   "cell_type": "code",
   "execution_count": 14,
   "id": "b5ef5fc6",
   "metadata": {},
   "outputs": [
    {
     "data": {
      "image/png": "[encoded data removed]",
      "text/plain": [
       "<Figure size 640x480 with 1 Axes>"
      ]
     },
     "metadata": {},
     "output_type": "display_data"
    }
   ],
   "source": [
    "purchases_jan_2019 = purchases.loc[(purchases[\"month\"] == 1) & (purchases[\"date\"].dt.year == 2019)]\n",
    "plt.bar(purchases_jan_2019[\"date\"].dt.day.value_counts().index.sort_values(), height=purchases_jan_2019[\"date\"].dt.day.value_counts().sort_index(), label=\"Jan-2019\")\n",
    "plt.xlabel(\"Day of month\")\n",
    "plt.ylabel(\"Purchases\")\n",
    "plt.title(\"Purchases vs Day for Jan\")\n",
    "plt.legend();"
   ]
  },
  {
   "cell_type": "code",
   "execution_count": 15,
   "id": "b14f01dc",
   "metadata": {},
   "outputs": [
    {
     "data": {
      "image/png": "[encoded data removed]",
      "text/plain": [
       "<Figure size 640x480 with 1 Axes>"
      ]
     },
     "metadata": {},
     "output_type": "display_data"
    }
   ],
   "source": [
    "purchases_feb_2019 = purchases.loc[(purchases[\"month\"] == 2) & (purchases[\"date\"].dt.year == 2019)]\n",
    "plt.bar(purchases_feb_2019[\"date\"].dt.day.value_counts().index.sort_values(), height=purchases_feb_2019[\"date\"].dt.day.value_counts().sort_index(), label=\"Feb-2019\")\n",
    "plt.xlabel(\"Day of month\")\n",
    "plt.ylabel(\"Purchases\")\n",
    "plt.title(\"Purchases vs Day for Feb\")\n",
    "plt.legend();"
   ]
  },
  {
   "cell_type": "code",
   "execution_count": 16,
   "id": "a86c42dd",
   "metadata": {},
   "outputs": [
    {
     "data": {
      "image/png": "[encoded data removed]",
      "text/plain": [
       "<Figure size 640x480 with 1 Axes>"
      ]
     },
     "metadata": {},
     "output_type": "display_data"
    }
   ],
   "source": [
    "purchases_mar_2019 = purchases.loc[(purchases[\"month\"] == 3) & (purchases[\"date\"].dt.year == 2019)]\n",
    "plt.bar(purchases_mar_2019[\"date\"].dt.day.value_counts().index.sort_values(), height=purchases_mar_2019[\"date\"].dt.day.value_counts().sort_index(), label=\"Mar-2019\")\n",
    "plt.xlabel(\"Day of month\")\n",
    "plt.ylabel(\"Purchases\")\n",
    "plt.title(\"Purchases vs Day for Mar\")\n",
    "plt.legend();"
   ]
  },
  {
   "cell_type": "code",
   "execution_count": 17,
   "id": "0f164f2d",
   "metadata": {},
   "outputs": [
    {
     "data": {
      "image/png": "[encoded data removed]",
      "text/plain": [
       "<Figure size 640x480 with 1 Axes>"
      ]
     },
     "metadata": {},
     "output_type": "display_data"
    }
   ],
   "source": [
    "purchases_apr_2019 = purchases.loc[(purchases[\"month\"] == 4) & (purchases[\"date\"].dt.year == 2019)]\n",
    "plt.bar(purchases_apr_2019[\"date\"].dt.day.value_counts().index.sort_values(), height=purchases_apr_2019[\"date\"].dt.day.value_counts().sort_index(), label=\"Apr-2019\")\n",
    "plt.xlabel(\"Day of month\")\n",
    "plt.ylabel(\"Purchases\")\n",
    "plt.title(\"Purchases vs Day for Apr\")\n",
    "plt.legend();"
   ]
  },
  {
   "cell_type": "code",
   "execution_count": 18,
   "id": "19d8cdd3",
   "metadata": {},
   "outputs": [
    {
     "data": {
      "image/png": "[encoded data removed]",
      "text/plain": [
       "<Figure size 640x480 with 1 Axes>"
      ]
     },
     "metadata": {},
     "output_type": "display_data"
    }
   ],
   "source": [
    "purchases_may_2018 = purchases.loc[(purchases[\"month\"] == 5) & (purchases[\"date\"].dt.year == 2018)]\n",
    "purchases_may_2019 = purchases.loc[(purchases[\"month\"] == 5) & (purchases[\"date\"].dt.year == 2019)]\n",
    "plt.bar(purchases_may_2018[\"date\"].dt.day.value_counts().index.sort_values(), height=purchases_may_2018[\"date\"].dt.day.value_counts().sort_index(), label=\"May-2018\")\n",
    "plt.bar(purchases_may_2019[\"date\"].dt.day.value_counts().index.sort_values(), height=purchases_may_2019[\"date\"].dt.day.value_counts().sort_index(), label=\"May-2019\", alpha=0.75)\n",
    "plt.xlabel(\"Day of month\")\n",
    "plt.ylabel(\"Purchases\")\n",
    "plt.title(\"Purchases vs Day for May\")\n",
    "plt.legend();"
   ]
  },
  {
   "cell_type": "code",
   "execution_count": 19,
   "id": "a2ef0192",
   "metadata": {},
   "outputs": [
    {
     "data": {
      "image/png": "[encoded data removed]",
      "text/plain": [
       "<Figure size 640x480 with 1 Axes>"
      ]
     },
     "metadata": {},
     "output_type": "display_data"
    }
   ],
   "source": [
    "purchases_jun_2018 = purchases.loc[(purchases[\"month\"] == 6) & (purchases[\"date\"].dt.year == 2018)]\n",
    "purchases_jun_2019 = purchases.loc[(purchases[\"month\"] == 6) & (purchases[\"date\"].dt.year == 2019)]\n",
    "plt.bar(purchases_jun_2018[\"date\"].dt.day.value_counts().index.sort_values(), height=purchases_jun_2018[\"date\"].dt.day.value_counts().sort_index(), label=\"Jun-2018\")\n",
    "plt.bar(purchases_jun_2019[\"date\"].dt.day.value_counts().index.sort_values(), height=purchases_jun_2019[\"date\"].dt.day.value_counts().sort_index(), label=\"Jun-2019\", alpha=0.75)\n",
    "plt.xlabel(\"Day of month\")\n",
    "plt.ylabel(\"Purchases\")\n",
    "plt.title(\"Purchases vs Day for Jun\")\n",
    "plt.legend();"
   ]
  },
  {
   "cell_type": "code",
   "execution_count": 20,
   "id": "27f51d07",
   "metadata": {},
   "outputs": [
    {
     "data": {
      "image/png": "[encoded data removed]",
      "text/plain": [
       "<Figure size 640x480 with 1 Axes>"
      ]
     },
     "metadata": {},
     "output_type": "display_data"
    }
   ],
   "source": [
    "purchases_jul_2018 = purchases.loc[(purchases[\"month\"] == 7) & (purchases[\"date\"].dt.year == 2018)]\n",
    "plt.bar(purchases_jul_2018[\"date\"].dt.day.value_counts().index.sort_values(), height=purchases_jul_2018[\"date\"].dt.day.value_counts().sort_index(), label=\"Jul-2018\")\n",
    "plt.xlabel(\"Day of month\")\n",
    "plt.ylabel(\"Purchases\")\n",
    "plt.title(\"Purchases vs Day for Jul\")\n",
    "plt.legend();"
   ]
  },
  {
   "cell_type": "code",
   "execution_count": 21,
   "id": "6239184b",
   "metadata": {},
   "outputs": [
    {
     "data": {
      "image/png": "[encoded data removed]",
      "text/plain": [
       "<Figure size 640x480 with 1 Axes>"
      ]
     },
     "metadata": {},
     "output_type": "display_data"
    }
   ],
   "source": [
    "purchases_aug_2018 = purchases.loc[(purchases[\"month\"] == 8) & (purchases[\"date\"].dt.year == 2018)]\n",
    "plt.bar(purchases_aug_2018[\"date\"].dt.day.value_counts().index.sort_values(), height=purchases_aug_2018[\"date\"].dt.day.value_counts().sort_index(), label=\"Aug-2018\")\n",
    "plt.xlabel(\"Day of month\")\n",
    "plt.ylabel(\"Purchases\")\n",
    "plt.title(\"Purchases vs Day for Aug\")\n",
    "plt.legend();"
   ]
  },
  {
   "cell_type": "code",
   "execution_count": 22,
   "id": "9eba1fed",
   "metadata": {},
   "outputs": [
    {
     "data": {
      "image/png": "[encoded data removed]",
      "text/plain": [
       "<Figure size 640x480 with 1 Axes>"
      ]
     },
     "metadata": {},
     "output_type": "display_data"
    }
   ],
   "source": [
    "purchases_sep_2018 = purchases.loc[(purchases[\"month\"] == 9) & (purchases[\"date\"].dt.year == 2018)]\n",
    "plt.bar(purchases_sep_2018[\"date\"].dt.day.value_counts().index.sort_values(), height=purchases_sep_2018[\"date\"].dt.day.value_counts().sort_index(), label=\"Sep-2018\")\n",
    "plt.xlabel(\"Day of month\")\n",
    "plt.ylabel(\"Purchases\")\n",
    "plt.title(\"Purchases vs Day for Sep\")\n",
    "plt.legend();"
   ]
  },
  {
   "cell_type": "code",
   "execution_count": 23,
   "id": "fedfb5d8",
   "metadata": {},
   "outputs": [
    {
     "data": {
      "image/png": "[encoded data removed]",
      "text/plain": [
       "<Figure size 640x480 with 1 Axes>"
      ]
     },
     "metadata": {},
     "output_type": "display_data"
    }
   ],
   "source": [
    "purchases_oct_2018 = purchases.loc[(purchases[\"month\"] == 10) & (purchases[\"date\"].dt.year == 2018)]\n",
    "plt.bar(purchases_oct_2018[\"date\"].dt.day.value_counts().index.sort_values(), height=purchases_oct_2018[\"date\"].dt.day.value_counts().sort_index(), label=\"Oct-2018\")\n",
    "plt.xlabel(\"Day of month\")\n",
    "plt.ylabel(\"Purchases\")\n",
    "plt.title(\"Purchases vs Day for Oct\")\n",
    "plt.legend();"
   ]
  },
  {
   "cell_type": "code",
   "execution_count": 24,
   "id": "c0c5a3da",
   "metadata": {},
   "outputs": [
    {
     "data": {
      "image/png": "[encoded data removed]",
      "text/plain": [
       "<Figure size 640x480 with 1 Axes>"
      ]
     },
     "metadata": {},
     "output_type": "display_data"
    }
   ],
   "source": [
    "purchases_nov_2018 = purchases.loc[(purchases[\"month\"] == 11) & (purchases[\"date\"].dt.year == 2018)]\n",
    "plt.bar(purchases_nov_2018[\"date\"].dt.day.value_counts().index.sort_values(), height=purchases_nov_2018[\"date\"].dt.day.value_counts().sort_index(), label=\"Nov-2018\")\n",
    "plt.xlabel(\"Day of month\")\n",
    "plt.ylabel(\"Purchases\")\n",
    "plt.title(\"Purchases vs Day for Nov\")\n",
    "plt.legend();"
   ]
  },
  {
   "cell_type": "code",
   "execution_count": 25,
   "id": "142844c4",
   "metadata": {},
   "outputs": [
    {
     "data": {
      "image/png": "[encoded data removed]",
      "text/plain": [
       "<Figure size 640x480 with 1 Axes>"
      ]
     },
     "metadata": {},
     "output_type": "display_data"
    }
   ],
   "source": [
    "purchases_dec_2018 = purchases.loc[(purchases[\"month\"] == 12) & (purchases[\"date\"].dt.year == 2018)]\n",
    "plt.bar(purchases_dec_2018[\"date\"].dt.day.value_counts().index.sort_values(), height=purchases_dec_2018[\"date\"].dt.day.value_counts().sort_index(), label=\"Dec-2018\")\n",
    "plt.xlabel(\"Day of month\")\n",
    "plt.ylabel(\"Purchases\")\n",
    "plt.title(\"Purchases vs Day for Dec\")\n",
    "plt.legend();"
   ]
  },
  {
   "attachments": {},
   "cell_type": "markdown",
   "id": "e22450a3",
   "metadata": {
    "deletable": false,
    "id": "e22450a3",
    "nbgrader": {
     "cell_type": "markdown",
     "checksum": "271b28108fed0af9f56190dd43027412",
     "grade": true,
     "grade_id": "cell-eb9644aaa9d733f7",
     "locked": false,
     "points": 1,
     "schema_version": 3,
     "solution": true,
     "task": false
    }
   },
   "source": [
    "We can clearly see that all months have periodic spikes. It is easy to check that these are Saturdays. And visually on average there are around 300 purchases per each Saturday in each month. Purchase patterns for May of 2018 and 2019 look similar. However, in May 2018 there were three days with abnormal number of purchases: May 3 (Thu), May 4 (Fri), and May 5 (Sat) -- even larger than on usual Saturdays.\n",
    "\n",
    "Maybe a new shop was opened around May 3-5, 2018? Or some specific shop(s) offered great discounts on these days? Let's check if the shop_id column has spikes on these dates."
   ]
  },
  {
   "cell_type": "code",
   "execution_count": 26,
   "id": "3887d858",
   "metadata": {},
   "outputs": [
    {
     "data": {
      "image/png": "[encoded data removed]",
      "text/plain": [
       "<Figure size 640x480 with 1 Axes>"
      ]
     },
     "metadata": {},
     "output_type": "display_data"
    }
   ],
   "source": [
    "plt.bar(purchases_may_2018.loc[purchases_may_2018[\"date\"].dt.day.isin([3, 4, 5])][\"shop_id\"].value_counts().index.sort_values(), height=purchases_may_2018.loc[purchases_may_2018[\"date\"].dt.day.isin([3, 4, 5])][\"shop_id\"].value_counts().sort_index(), label=\"May, 3-5, 2018\")\n",
    "plt.bar(purchases_may_2019.loc[purchases_may_2019[\"date\"].dt.day.isin([3, 4, 5])][\"shop_id\"].value_counts().index.sort_values(), height=purchases_may_2019.loc[purchases_may_2019[\"date\"].dt.day.isin([3, 4, 5])][\"shop_id\"].value_counts().sort_index(), label=\"May, 3-5, 2019\", alpha=0.75)\n",
    "plt.xlabel(\"Shop ID\")\n",
    "plt.ylabel(\"Purchases\")\n",
    "plt.title(\"Purchases vs Shop for May, 3-5\")\n",
    "plt.legend();"
   ]
  },
  {
   "attachments": {},
   "cell_type": "markdown",
   "id": "5b732463",
   "metadata": {},
   "source": [
    "We can clearly see that all shops contributed more or less evenly to larger purchases on \"magic\" three days in 2018 as compared with the same days in 2019.\n",
    "\n",
    "In conclusion, there is a much higher number of purchases in May due to the following possible reasons:\n",
    "- our dataset covers May of 2018 and 2019, while other months are covered only once -- either in 2018 or in 2019,\n",
    "- there were three unusual days in May of 2018 with a much higher number of purchases, even if compared with Saturday spikes. No specific shop contributed to larger traffic, so there might be some special event / holiday on these three or upcoming days,\n",
    "- there are errors in the collected dataset."
   ]
  },
  {
   "attachments": {},
   "cell_type": "markdown",
   "id": "bfb696fc",
   "metadata": {
    "deletable": false,
    "editable": false,
    "id": "bfb696fc",
    "nbgrader": {
     "cell_type": "markdown",
     "checksum": "8add93327e60c07ef01aa8ac9fc193b1",
     "grade": false,
     "grade_id": "cell-e1cde254c63033c6",
     "locked": true,
     "schema_version": 3,
     "solution": false,
     "task": false
    }
   },
   "source": [
    "### Problem 8 (quiz)\n",
    "We see that people go to shop more often in December. But do they spend more per each visit? Let us draw a bar plot that shows the average purchase total price per month of year. Use `groupby` with the `month` variable you (hopefully) created earlier."
   ]
  },
  {
   "cell_type": "code",
   "execution_count": 27,
   "id": "251fc076",
   "metadata": {
    "deletable": false,
    "id": "251fc076"
   },
   "outputs": [
    {
     "data": {
      "image/png": "[encoded data removed]",
      "text/plain": [
       "<Figure size 640x480 with 1 Axes>"
      ]
     },
     "metadata": {},
     "output_type": "display_data"
    }
   ],
   "source": [
    "# your code here\n",
    "plt.bar(purchases.groupby(\"month\")[\"total_price\"].mean().index, height=purchases.groupby(\"month\")[\"total_price\"].mean())\n",
    "plt.xlabel(\"Month\")\n",
    "plt.ylabel(\"Average total price\")\n",
    "plt.title(\"Average total price vs Month\")\n",
    "plt.xticks(purchases[\"month\"].unique());"
   ]
  },
  {
   "attachments": {},
   "cell_type": "markdown",
   "id": "d961812c",
   "metadata": {
    "id": "d961812c"
   },
   "source": [
    "### Problem 9 (quiz)\n",
    "Okay, we see that there is a difference between December's mean purchase price and other month's. But we also see that the average price is different in different months (not including December), probably due to some random factors. Is it possible that December behaviour is just a result of fluke? To answer this question, let us compare two months, for example, December and November, in a statistically rigorous way.\n",
    "\n",
    "To do so, let us find the average purchase price in each month in each shop (hint: use `.pivot_table`), then extract two samples: one contains average purchase prices in December and another in November. The number of elements in each sample should be equal to the number of shops. Is it true that they are different? Use the statistical test that suits this problem the best with a two-sided alternative. Then answer the question in a quiz.\n"
   ]
  },
  {
   "cell_type": "code",
   "execution_count": 28,
   "id": "e513d433",
   "metadata": {},
   "outputs": [
    {
     "data": {
      "text/html": [
       "<div>\n",
       "<style scoped>\n",
       "    .dataframe tbody tr th:only-of-type {\n",
       "        vertical-align: middle;\n",
       "    }\n",
       "\n",
       "    .dataframe tbody tr th {\n",
       "        vertical-align: top;\n",
       "    }\n",
       "\n",
       "    .dataframe thead th {\n",
       "        text-align: right;\n",
       "    }\n",
       "</style>\n",
       "<table border=\"1\" class=\"dataframe\">\n",
       "  <thead>\n",
       "    <tr style=\"text-align: right;\">\n",
       "      <th>month</th>\n",
       "      <th>11</th>\n",
       "      <th>12</th>\n",
       "    </tr>\n",
       "    <tr>\n",
       "      <th>shop_id</th>\n",
       "      <th></th>\n",
       "      <th></th>\n",
       "    </tr>\n",
       "  </thead>\n",
       "  <tbody>\n",
       "    <tr>\n",
       "      <th>0</th>\n",
       "      <td>229.031047</td>\n",
       "      <td>243.490975</td>\n",
       "    </tr>\n",
       "    <tr>\n",
       "      <th>1</th>\n",
       "      <td>273.595408</td>\n",
       "      <td>307.988105</td>\n",
       "    </tr>\n",
       "    <tr>\n",
       "      <th>2</th>\n",
       "      <td>224.476430</td>\n",
       "      <td>377.453485</td>\n",
       "    </tr>\n",
       "    <tr>\n",
       "      <th>3</th>\n",
       "      <td>219.825518</td>\n",
       "      <td>250.578623</td>\n",
       "    </tr>\n",
       "    <tr>\n",
       "      <th>4</th>\n",
       "      <td>205.284412</td>\n",
       "      <td>216.818569</td>\n",
       "    </tr>\n",
       "    <tr>\n",
       "      <th>...</th>\n",
       "      <td>...</td>\n",
       "      <td>...</td>\n",
       "    </tr>\n",
       "    <tr>\n",
       "      <th>70</th>\n",
       "      <td>202.900924</td>\n",
       "      <td>392.298768</td>\n",
       "    </tr>\n",
       "    <tr>\n",
       "      <th>71</th>\n",
       "      <td>376.025772</td>\n",
       "      <td>529.627675</td>\n",
       "    </tr>\n",
       "    <tr>\n",
       "      <th>72</th>\n",
       "      <td>247.884335</td>\n",
       "      <td>305.593160</td>\n",
       "    </tr>\n",
       "    <tr>\n",
       "      <th>73</th>\n",
       "      <td>198.580037</td>\n",
       "      <td>299.018209</td>\n",
       "    </tr>\n",
       "    <tr>\n",
       "      <th>74</th>\n",
       "      <td>180.911598</td>\n",
       "      <td>334.744391</td>\n",
       "    </tr>\n",
       "  </tbody>\n",
       "</table>\n",
       "<p>75 rows × 2 columns</p>\n",
       "</div>"
      ],
      "text/plain": [
       "month            11          12\n",
       "shop_id                        \n",
       "0        229.031047  243.490975\n",
       "1        273.595408  307.988105\n",
       "2        224.476430  377.453485\n",
       "3        219.825518  250.578623\n",
       "4        205.284412  216.818569\n",
       "...             ...         ...\n",
       "70       202.900924  392.298768\n",
       "71       376.025772  529.627675\n",
       "72       247.884335  305.593160\n",
       "73       198.580037  299.018209\n",
       "74       180.911598  334.744391\n",
       "\n",
       "[75 rows x 2 columns]"
      ]
     },
     "execution_count": 28,
     "metadata": {},
     "output_type": "execute_result"
    }
   ],
   "source": [
    "# your code here\n",
    "purchases_nov_dec_shop = purchases.pivot_table(index=\"shop_id\", columns=\"month\", values=\"total_price\", aggfunc=np.mean)[[11, 12]]\n",
    "purchases_nov_dec_shop"
   ]
  },
  {
   "cell_type": "code",
   "execution_count": 29,
   "id": "6d862b67",
   "metadata": {},
   "outputs": [
    {
     "name": "stdout",
     "output_type": "stream",
     "text": [
      "t_stat = 12\n",
      "p-value = 2.8875117936923646e-19\n",
      "Reject H_0\n"
     ]
    }
   ],
   "source": [
    "# Since we compare pairs of value for each shop, we need to use paired two-sided t-test\n",
    "# H_0: mu_12 = mu_11\n",
    "# H_1: mu_12 != mu_11\n",
    "alpha = 0.05\n",
    "t_stat, p_val = ttest_rel(purchases_nov_dec_shop[12], purchases_nov_dec_shop[11])\n",
    "print(\"t_stat =\", round(t_stat))\n",
    "print(\"p-value =\", p_val)\n",
    "print(\"Reject H_0\") if p_val < alpha else print(\"Do not reject H_0\")"
   ]
  },
  {
   "attachments": {},
   "cell_type": "markdown",
   "id": "dd4a384c",
   "metadata": {
    "id": "dd4a384c"
   },
   "source": [
    "### Problem 10 (autograded)"
   ]
  },
  {
   "attachments": {},
   "cell_type": "markdown",
   "id": "81ff95b8",
   "metadata": {
    "id": "81ff95b8"
   },
   "source": [
    "Now let us investigate customer behaviour. First of all we are interested in the relation between customers' age and their spendings per each purchase. To study this relation, first join tables `purchases` and `customers` in such a way to obtain information on customer's age for each purchase. Call the resulting table `purchases_c`. This table should contain all purchases by the registered customers, but rows that correspond to unregistered customers (not present in `customers`) should be dropped. The resulting table also should contain column `customer_id`."
   ]
  },
  {
   "cell_type": "code",
   "execution_count": 30,
   "id": "51c769ff",
   "metadata": {},
   "outputs": [
    {
     "data": {
      "text/html": [
       "<div>\n",
       "<style scoped>\n",
       "    .dataframe tbody tr th:only-of-type {\n",
       "        vertical-align: middle;\n",
       "    }\n",
       "\n",
       "    .dataframe tbody tr th {\n",
       "        vertical-align: top;\n",
       "    }\n",
       "\n",
       "    .dataframe thead th {\n",
       "        text-align: right;\n",
       "    }\n",
       "</style>\n",
       "<table border=\"1\" class=\"dataframe\">\n",
       "  <thead>\n",
       "    <tr style=\"text-align: right;\">\n",
       "      <th></th>\n",
       "      <th>customer id</th>\n",
       "      <th>age</th>\n",
       "      <th>customer_id</th>\n",
       "      <th>date</th>\n",
       "      <th>shop_id</th>\n",
       "      <th>total_price</th>\n",
       "      <th>month</th>\n",
       "    </tr>\n",
       "  </thead>\n",
       "  <tbody>\n",
       "    <tr>\n",
       "      <th>0</th>\n",
       "      <td>1149</td>\n",
       "      <td>71.0</td>\n",
       "      <td>1149.0</td>\n",
       "      <td>2019-05-15</td>\n",
       "      <td>60</td>\n",
       "      <td>40.143994</td>\n",
       "      <td>5</td>\n",
       "    </tr>\n",
       "    <tr>\n",
       "      <th>1</th>\n",
       "      <td>1149</td>\n",
       "      <td>71.0</td>\n",
       "      <td>1149.0</td>\n",
       "      <td>2018-06-14</td>\n",
       "      <td>60</td>\n",
       "      <td>307.206163</td>\n",
       "      <td>6</td>\n",
       "    </tr>\n",
       "    <tr>\n",
       "      <th>2</th>\n",
       "      <td>1149</td>\n",
       "      <td>71.0</td>\n",
       "      <td>1149.0</td>\n",
       "      <td>2018-09-23</td>\n",
       "      <td>4</td>\n",
       "      <td>1327.170365</td>\n",
       "      <td>9</td>\n",
       "    </tr>\n",
       "    <tr>\n",
       "      <th>3</th>\n",
       "      <td>1149</td>\n",
       "      <td>71.0</td>\n",
       "      <td>1149.0</td>\n",
       "      <td>2018-07-04</td>\n",
       "      <td>22</td>\n",
       "      <td>151.766925</td>\n",
       "      <td>7</td>\n",
       "    </tr>\n",
       "    <tr>\n",
       "      <th>4</th>\n",
       "      <td>1149</td>\n",
       "      <td>71.0</td>\n",
       "      <td>1149.0</td>\n",
       "      <td>2018-09-20</td>\n",
       "      <td>60</td>\n",
       "      <td>140.601729</td>\n",
       "      <td>9</td>\n",
       "    </tr>\n",
       "    <tr>\n",
       "      <th>...</th>\n",
       "      <td>...</td>\n",
       "      <td>...</td>\n",
       "      <td>...</td>\n",
       "      <td>...</td>\n",
       "      <td>...</td>\n",
       "      <td>...</td>\n",
       "      <td>...</td>\n",
       "    </tr>\n",
       "    <tr>\n",
       "      <th>28794</th>\n",
       "      <td>562</td>\n",
       "      <td>22.0</td>\n",
       "      <td>562.0</td>\n",
       "      <td>2019-05-11</td>\n",
       "      <td>74</td>\n",
       "      <td>592.305574</td>\n",
       "      <td>5</td>\n",
       "    </tr>\n",
       "    <tr>\n",
       "      <th>28795</th>\n",
       "      <td>562</td>\n",
       "      <td>22.0</td>\n",
       "      <td>562.0</td>\n",
       "      <td>2018-12-08</td>\n",
       "      <td>74</td>\n",
       "      <td>232.074279</td>\n",
       "      <td>12</td>\n",
       "    </tr>\n",
       "    <tr>\n",
       "      <th>28796</th>\n",
       "      <td>562</td>\n",
       "      <td>22.0</td>\n",
       "      <td>562.0</td>\n",
       "      <td>2018-12-16</td>\n",
       "      <td>74</td>\n",
       "      <td>1075.034721</td>\n",
       "      <td>12</td>\n",
       "    </tr>\n",
       "    <tr>\n",
       "      <th>28797</th>\n",
       "      <td>562</td>\n",
       "      <td>22.0</td>\n",
       "      <td>562.0</td>\n",
       "      <td>2018-11-04</td>\n",
       "      <td>29</td>\n",
       "      <td>431.440952</td>\n",
       "      <td>11</td>\n",
       "    </tr>\n",
       "    <tr>\n",
       "      <th>28798</th>\n",
       "      <td>562</td>\n",
       "      <td>22.0</td>\n",
       "      <td>562.0</td>\n",
       "      <td>2018-09-07</td>\n",
       "      <td>73</td>\n",
       "      <td>91.104236</td>\n",
       "      <td>9</td>\n",
       "    </tr>\n",
       "  </tbody>\n",
       "</table>\n",
       "<p>28799 rows × 7 columns</p>\n",
       "</div>"
      ],
      "text/plain": [
       "       customer id   age  customer_id       date  shop_id  total_price  month\n",
       "0             1149  71.0       1149.0 2019-05-15       60    40.143994      5\n",
       "1             1149  71.0       1149.0 2018-06-14       60   307.206163      6\n",
       "2             1149  71.0       1149.0 2018-09-23        4  1327.170365      9\n",
       "3             1149  71.0       1149.0 2018-07-04       22   151.766925      7\n",
       "4             1149  71.0       1149.0 2018-09-20       60   140.601729      9\n",
       "...            ...   ...          ...        ...      ...          ...    ...\n",
       "28794          562  22.0        562.0 2019-05-11       74   592.305574      5\n",
       "28795          562  22.0        562.0 2018-12-08       74   232.074279     12\n",
       "28796          562  22.0        562.0 2018-12-16       74  1075.034721     12\n",
       "28797          562  22.0        562.0 2018-11-04       29   431.440952     11\n",
       "28798          562  22.0        562.0 2018-09-07       73    91.104236      9\n",
       "\n",
       "[28799 rows x 7 columns]"
      ]
     },
     "execution_count": 30,
     "metadata": {},
     "output_type": "execute_result"
    }
   ],
   "source": [
    "# YOUR CODE HERE\n",
    "#raise NotImplementedError()\n",
    "purchases_c = pd.merge(customers, purchases, left_on=\"customer id\", right_on=\"customer_id\", how=\"inner\")\n",
    "purchases_c"
   ]
  },
  {
   "cell_type": "code",
   "execution_count": 31,
   "id": "78a2682f",
   "metadata": {
    "deletable": false,
    "editable": false,
    "id": "78a2682f",
    "nbgrader": {
     "cell_type": "code",
     "checksum": "d4ead409d4eb3d8756ddaaa216f14b9e",
     "grade": true,
     "grade_id": "cell-27f4df593483d1bc",
     "locked": true,
     "points": 1,
     "schema_version": 3,
     "solution": false,
     "task": false
    }
   },
   "outputs": [],
   "source": [
    "assert (\n",
    "    purchases_c[lambda x: x[\"customer_id\"] == 123][\"age\"]\n",
    "    == customers.set_index(\"customer id\").loc[123][\"age\"]\n",
    ").all()\n",
    "assert (\n",
    "    purchases_c[lambda x: x[\"customer_id\"] == 12][\"age\"]\n",
    "    == customers.set_index(\"customer id\").loc[12][\"age\"]\n",
    ").all()\n",
    "assert sum(purchases_c[\"customer_id\"]) == 17548008.0"
   ]
  },
  {
   "attachments": {},
   "cell_type": "markdown",
   "id": "2ba6e081",
   "metadata": {
    "id": "2ba6e081"
   },
   "source": [
    "### Problem 11 (autograded)"
   ]
  },
  {
   "cell_type": "code",
   "execution_count": 32,
   "id": "a6c429be",
   "metadata": {
    "id": "a6c429be"
   },
   "outputs": [
    {
     "data": {
      "text/html": [
       "<div>\n",
       "<style scoped>\n",
       "    .dataframe tbody tr th:only-of-type {\n",
       "        vertical-align: middle;\n",
       "    }\n",
       "\n",
       "    .dataframe tbody tr th {\n",
       "        vertical-align: top;\n",
       "    }\n",
       "\n",
       "    .dataframe thead th {\n",
       "        text-align: right;\n",
       "    }\n",
       "</style>\n",
       "<table border=\"1\" class=\"dataframe\">\n",
       "  <thead>\n",
       "    <tr style=\"text-align: right;\">\n",
       "      <th></th>\n",
       "      <th>customer id</th>\n",
       "      <th>age</th>\n",
       "      <th>customer_id</th>\n",
       "      <th>date</th>\n",
       "      <th>shop_id</th>\n",
       "      <th>total_price</th>\n",
       "      <th>month</th>\n",
       "    </tr>\n",
       "  </thead>\n",
       "  <tbody>\n",
       "    <tr>\n",
       "      <th>0</th>\n",
       "      <td>1149</td>\n",
       "      <td>71.0</td>\n",
       "      <td>1149.0</td>\n",
       "      <td>2019-05-15</td>\n",
       "      <td>60</td>\n",
       "      <td>40.143994</td>\n",
       "      <td>5</td>\n",
       "    </tr>\n",
       "    <tr>\n",
       "      <th>1</th>\n",
       "      <td>1149</td>\n",
       "      <td>71.0</td>\n",
       "      <td>1149.0</td>\n",
       "      <td>2018-06-14</td>\n",
       "      <td>60</td>\n",
       "      <td>307.206163</td>\n",
       "      <td>6</td>\n",
       "    </tr>\n",
       "    <tr>\n",
       "      <th>2</th>\n",
       "      <td>1149</td>\n",
       "      <td>71.0</td>\n",
       "      <td>1149.0</td>\n",
       "      <td>2018-09-23</td>\n",
       "      <td>4</td>\n",
       "      <td>1327.170365</td>\n",
       "      <td>9</td>\n",
       "    </tr>\n",
       "    <tr>\n",
       "      <th>3</th>\n",
       "      <td>1149</td>\n",
       "      <td>71.0</td>\n",
       "      <td>1149.0</td>\n",
       "      <td>2018-07-04</td>\n",
       "      <td>22</td>\n",
       "      <td>151.766925</td>\n",
       "      <td>7</td>\n",
       "    </tr>\n",
       "    <tr>\n",
       "      <th>4</th>\n",
       "      <td>1149</td>\n",
       "      <td>71.0</td>\n",
       "      <td>1149.0</td>\n",
       "      <td>2018-09-20</td>\n",
       "      <td>60</td>\n",
       "      <td>140.601729</td>\n",
       "      <td>9</td>\n",
       "    </tr>\n",
       "    <tr>\n",
       "      <th>...</th>\n",
       "      <td>...</td>\n",
       "      <td>...</td>\n",
       "      <td>...</td>\n",
       "      <td>...</td>\n",
       "      <td>...</td>\n",
       "      <td>...</td>\n",
       "      <td>...</td>\n",
       "    </tr>\n",
       "    <tr>\n",
       "      <th>28794</th>\n",
       "      <td>562</td>\n",
       "      <td>22.0</td>\n",
       "      <td>562.0</td>\n",
       "      <td>2019-05-11</td>\n",
       "      <td>74</td>\n",
       "      <td>592.305574</td>\n",
       "      <td>5</td>\n",
       "    </tr>\n",
       "    <tr>\n",
       "      <th>28795</th>\n",
       "      <td>562</td>\n",
       "      <td>22.0</td>\n",
       "      <td>562.0</td>\n",
       "      <td>2018-12-08</td>\n",
       "      <td>74</td>\n",
       "      <td>232.074279</td>\n",
       "      <td>12</td>\n",
       "    </tr>\n",
       "    <tr>\n",
       "      <th>28796</th>\n",
       "      <td>562</td>\n",
       "      <td>22.0</td>\n",
       "      <td>562.0</td>\n",
       "      <td>2018-12-16</td>\n",
       "      <td>74</td>\n",
       "      <td>1075.034721</td>\n",
       "      <td>12</td>\n",
       "    </tr>\n",
       "    <tr>\n",
       "      <th>28797</th>\n",
       "      <td>562</td>\n",
       "      <td>22.0</td>\n",
       "      <td>562.0</td>\n",
       "      <td>2018-11-04</td>\n",
       "      <td>29</td>\n",
       "      <td>431.440952</td>\n",
       "      <td>11</td>\n",
       "    </tr>\n",
       "    <tr>\n",
       "      <th>28798</th>\n",
       "      <td>562</td>\n",
       "      <td>22.0</td>\n",
       "      <td>562.0</td>\n",
       "      <td>2018-09-07</td>\n",
       "      <td>73</td>\n",
       "      <td>91.104236</td>\n",
       "      <td>9</td>\n",
       "    </tr>\n",
       "  </tbody>\n",
       "</table>\n",
       "<p>28799 rows × 7 columns</p>\n",
       "</div>"
      ],
      "text/plain": [
       "       customer id   age  customer_id       date  shop_id  total_price  month\n",
       "0             1149  71.0       1149.0 2019-05-15       60    40.143994      5\n",
       "1             1149  71.0       1149.0 2018-06-14       60   307.206163      6\n",
       "2             1149  71.0       1149.0 2018-09-23        4  1327.170365      9\n",
       "3             1149  71.0       1149.0 2018-07-04       22   151.766925      7\n",
       "4             1149  71.0       1149.0 2018-09-20       60   140.601729      9\n",
       "...            ...   ...          ...        ...      ...          ...    ...\n",
       "28794          562  22.0        562.0 2019-05-11       74   592.305574      5\n",
       "28795          562  22.0        562.0 2018-12-08       74   232.074279     12\n",
       "28796          562  22.0        562.0 2018-12-16       74  1075.034721     12\n",
       "28797          562  22.0        562.0 2018-11-04       29   431.440952     11\n",
       "28798          562  22.0        562.0 2018-09-07       73    91.104236      9\n",
       "\n",
       "[28799 rows x 7 columns]"
      ]
     },
     "execution_count": 32,
     "metadata": {},
     "output_type": "execute_result"
    }
   ],
   "source": [
    "purchases_c"
   ]
  },
  {
   "attachments": {},
   "cell_type": "markdown",
   "id": "dcbb0858",
   "metadata": {
    "deletable": false,
    "editable": false,
    "id": "dcbb0858",
    "nbgrader": {
     "cell_type": "markdown",
     "checksum": "042b595cac81946a0f0c353720271f0f",
     "grade": false,
     "grade_id": "cell-9b665eced0f53414",
     "locked": true,
     "schema_version": 3,
     "solution": false,
     "task": false
    }
   },
   "source": [
    "To visualize the relation between customer's age and their spendings, we have to transform our table in such a way that one observation (row) corresponds to one customer. Let us do it by groupping and aggregating. Transform table `purchases_c` to find average `total_price` for each customer and keep column `age`. Indexes of the new dataframe should be customer id's. Put the resulting dataframe to variable `purchases_c_mean`.\n"
   ]
  },
  {
   "cell_type": "code",
   "execution_count": 33,
   "metadata": {},
   "outputs": [
    {
     "data": {
      "text/html": [
       "<div>\n",
       "<style scoped>\n",
       "    .dataframe tbody tr th:only-of-type {\n",
       "        vertical-align: middle;\n",
       "    }\n",
       "\n",
       "    .dataframe tbody tr th {\n",
       "        vertical-align: top;\n",
       "    }\n",
       "\n",
       "    .dataframe thead th {\n",
       "        text-align: right;\n",
       "    }\n",
       "</style>\n",
       "<table border=\"1\" class=\"dataframe\">\n",
       "  <thead>\n",
       "    <tr style=\"text-align: right;\">\n",
       "      <th></th>\n",
       "      <th>age</th>\n",
       "      <th>total_price</th>\n",
       "    </tr>\n",
       "    <tr>\n",
       "      <th>customer_id</th>\n",
       "      <th></th>\n",
       "      <th></th>\n",
       "    </tr>\n",
       "  </thead>\n",
       "  <tbody>\n",
       "    <tr>\n",
       "      <th>0.0</th>\n",
       "      <td>38.0</td>\n",
       "      <td>711.291471</td>\n",
       "    </tr>\n",
       "    <tr>\n",
       "      <th>2.0</th>\n",
       "      <td>60.0</td>\n",
       "      <td>380.286822</td>\n",
       "    </tr>\n",
       "    <tr>\n",
       "      <th>3.0</th>\n",
       "      <td>NaN</td>\n",
       "      <td>392.825462</td>\n",
       "    </tr>\n",
       "    <tr>\n",
       "      <th>4.0</th>\n",
       "      <td>24.0</td>\n",
       "      <td>349.189551</td>\n",
       "    </tr>\n",
       "    <tr>\n",
       "      <th>5.0</th>\n",
       "      <td>24.0</td>\n",
       "      <td>472.189806</td>\n",
       "    </tr>\n",
       "    <tr>\n",
       "      <th>...</th>\n",
       "      <td>...</td>\n",
       "      <td>...</td>\n",
       "    </tr>\n",
       "    <tr>\n",
       "      <th>1206.0</th>\n",
       "      <td>57.0</td>\n",
       "      <td>251.489294</td>\n",
       "    </tr>\n",
       "    <tr>\n",
       "      <th>1207.0</th>\n",
       "      <td>42.0</td>\n",
       "      <td>525.552619</td>\n",
       "    </tr>\n",
       "    <tr>\n",
       "      <th>1208.0</th>\n",
       "      <td>31.0</td>\n",
       "      <td>640.826988</td>\n",
       "    </tr>\n",
       "    <tr>\n",
       "      <th>1210.0</th>\n",
       "      <td>41.0</td>\n",
       "      <td>289.928423</td>\n",
       "    </tr>\n",
       "    <tr>\n",
       "      <th>1212.0</th>\n",
       "      <td>24.0</td>\n",
       "      <td>213.649949</td>\n",
       "    </tr>\n",
       "  </tbody>\n",
       "</table>\n",
       "<p>867 rows × 2 columns</p>\n",
       "</div>"
      ],
      "text/plain": [
       "              age  total_price\n",
       "customer_id                   \n",
       "0.0          38.0   711.291471\n",
       "2.0          60.0   380.286822\n",
       "3.0           NaN   392.825462\n",
       "4.0          24.0   349.189551\n",
       "5.0          24.0   472.189806\n",
       "...           ...          ...\n",
       "1206.0       57.0   251.489294\n",
       "1207.0       42.0   525.552619\n",
       "1208.0       31.0   640.826988\n",
       "1210.0       41.0   289.928423\n",
       "1212.0       24.0   213.649949\n",
       "\n",
       "[867 rows x 2 columns]"
      ]
     },
     "execution_count": 33,
     "metadata": {},
     "output_type": "execute_result"
    }
   ],
   "source": [
    "# YOUR CODE HERE\n",
    "#raise NotImplementedError()\n",
    "purchases_c_mean = purchases_c.groupby(\"customer_id\").mean()[[\"age\", \"total_price\"]]\n",
    "purchases_c_mean"
   ]
  },
  {
   "cell_type": "code",
   "execution_count": 34,
   "id": "e0c7b774",
   "metadata": {
    "id": "e0c7b774"
   },
   "outputs": [],
   "source": [
    "assert (\n",
    "    round(purchases_c_mean.loc[12][\"total_price\"] - purchases_c.query(\"customer_id == 12\")[\"total_price\"].mean(), 6) == 0\n",
    ")\n",
    "assert (\n",
    "    purchases_c_mean.loc[125][\"total_price\"]\n",
    "    == purchases_c.query(\"customer_id == 125\")[\"total_price\"].mean()\n",
    ")"
   ]
  },
  {
   "attachments": {},
   "cell_type": "markdown",
   "id": "eafce501",
   "metadata": {
    "id": "eafce501"
   },
   "source": [
    "### Problem 12 (quiz)\n",
    "Use dataframe `purchases_c_mean` to visualize the relation between customer's `age` (horizontal axis) and their average `total_price` (vertical axis)."
   ]
  },
  {
   "cell_type": "code",
   "execution_count": 35,
   "id": "7729114f",
   "metadata": {
    "deletable": false,
    "id": "7729114f",
    "nbgrader": {
     "cell_type": "code",
     "checksum": "f0afe28e37a50a0a710fe4cd37d21568",
     "grade": false,
     "grade_id": "cell-74bf2c586a384ceb",
     "locked": false,
     "schema_version": 3,
     "solution": true,
     "task": false
    }
   },
   "outputs": [
    {
     "data": {
      "image/png": "[encoded data removed]",
      "text/plain": [
       "<Figure size 640x480 with 1 Axes>"
      ]
     },
     "metadata": {},
     "output_type": "display_data"
    }
   ],
   "source": [
    "# YOUR CODE HERE\n",
    "#raise NotImplementedError()\n",
    "plt.scatter(purchases_c_mean[\"age\"], purchases_c_mean[\"total_price\"])\n",
    "plt.xlabel(\"Age\")\n",
    "plt.ylabel(\"Average total price\")\n",
    "plt.title(\"Average total price vs Age\");"
   ]
  },
  {
   "attachments": {},
   "cell_type": "markdown",
   "id": "c3800da6",
   "metadata": {
    "id": "c3800da6"
   },
   "source": [
    "### Problem 13 (quiz)\n",
    "Find Pearson's correlation coefficient between age and total price."
   ]
  },
  {
   "cell_type": "code",
   "execution_count": 36,
   "id": "0a46ecc0",
   "metadata": {
    "deletable": false,
    "id": "0a46ecc0",
    "nbgrader": {
     "cell_type": "code",
     "checksum": "b11e48fed0bd437a7f13cf6d44e474bb",
     "grade": false,
     "grade_id": "cell-b49d12358f261cf2",
     "locked": false,
     "schema_version": 3,
     "solution": true,
     "task": false
    }
   },
   "outputs": [
    {
     "data": {
      "text/plain": [
       "0.17"
      ]
     },
     "execution_count": 36,
     "metadata": {},
     "output_type": "execute_result"
    }
   ],
   "source": [
    "# YOUR CODE HERE\n",
    "#raise NotImplementedError()\n",
    "round(purchases_c_mean[\"age\"].corr(purchases_c_mean[\"total_price\"], method='pearson'), 2)"
   ]
  },
  {
   "attachments": {},
   "cell_type": "markdown",
   "id": "e2025916",
   "metadata": {
    "id": "e2025916"
   },
   "source": [
    "### Problem 14 (quiz)\n",
    "We found correlation in the data present on the previous step and made some conclusions based on this data. However, we have to make sure that we can generalize our conclusion to the corresponding population. To do it, let us perform a statistical test of the significance of correlation. This can be done with `scipy.stats.pearsonr`. However, our data contains `NaN`'s in column `age` (there are registered customers with unknown age). Use method `.dropna()` to remove such rows from the dataset, then perform statistical testing with `pearsonr`. This function returns a two-tuple: first value is correlation coefficient and the second is p-value that corresponds to a test where the null hypothesis is that the correlation in population is zero."
   ]
  },
  {
   "cell_type": "code",
   "execution_count": 37,
   "id": "7dc5fc0e",
   "metadata": {
    "deletable": false,
    "id": "7dc5fc0e",
    "nbgrader": {
     "cell_type": "code",
     "checksum": "0f81fc43f64af9bac8d795be5cc662ce",
     "grade": false,
     "grade_id": "cell-952ef9e07ecc7e07",
     "locked": false,
     "schema_version": 3,
     "solution": true,
     "task": false
    }
   },
   "outputs": [
    {
     "name": "stdout",
     "output_type": "stream",
     "text": [
      "r = 0.16539508120771906\n",
      "p-value = 1.8110789103306339e-06\n",
      "Reject H_0\n"
     ]
    }
   ],
   "source": [
    "# YOUR CODE HERE\n",
    "#raise NotImplementedError()\n",
    "# H_0: r = 0\n",
    "# H_1: r != 0\n",
    "alpha = 0.05\n",
    "r, p_val = pearsonr(purchases_c_mean.dropna()[\"age\"], purchases_c_mean.dropna()[\"total_price\"])\n",
    "print(\"r =\", r)\n",
    "print(\"p-value =\", p_val)\n",
    "print(\"Reject H_0\") if p_val < alpha else print(\"Do not reject H_0\")"
   ]
  },
  {
   "attachments": {},
   "cell_type": "markdown",
   "id": "74a231e9",
   "metadata": {
    "id": "74a231e9"
   },
   "source": [
    "### Problem 15 (autograded)\n",
    "Now we are going to do the main investigation. We want to understand how special offers in our shops affect customers' behaviour. To do it, we have to identify those purchases that are made during special offers. This can be a bit tricky: for each purchase we know its date and shop id. For each shop we also know the dates of all special offers (there can be several). So for each purchase we have to compare its date with dates of all offers that took place in the corresponding shop.\n",
    "\n",
    "As a first step, let us try to join `purchases_c` with `shops`. Name this table `full_df_preliminary`."
   ]
  },
  {
   "cell_type": "code",
   "execution_count": 38,
   "id": "66c62908",
   "metadata": {
    "deletable": false,
    "id": "66c62908",
    "nbgrader": {
     "cell_type": "code",
     "checksum": "cda72a732691ee3528a79d4c9eb4e809",
     "grade": false,
     "grade_id": "cell-3202f7f2e9be6c36",
     "locked": false,
     "schema_version": 3,
     "solution": true,
     "task": false
    }
   },
   "outputs": [
    {
     "data": {
      "text/html": [
       "<div>\n",
       "<style scoped>\n",
       "    .dataframe tbody tr th:only-of-type {\n",
       "        vertical-align: middle;\n",
       "    }\n",
       "\n",
       "    .dataframe tbody tr th {\n",
       "        vertical-align: top;\n",
       "    }\n",
       "\n",
       "    .dataframe thead th {\n",
       "        text-align: right;\n",
       "    }\n",
       "</style>\n",
       "<table border=\"1\" class=\"dataframe\">\n",
       "  <thead>\n",
       "    <tr style=\"text-align: right;\">\n",
       "      <th></th>\n",
       "      <th>customer id</th>\n",
       "      <th>age</th>\n",
       "      <th>customer_id</th>\n",
       "      <th>date</th>\n",
       "      <th>shop_id</th>\n",
       "      <th>total_price</th>\n",
       "      <th>month</th>\n",
       "      <th>offer_begin</th>\n",
       "      <th>offer_end</th>\n",
       "    </tr>\n",
       "  </thead>\n",
       "  <tbody>\n",
       "    <tr>\n",
       "      <th>0</th>\n",
       "      <td>1149</td>\n",
       "      <td>71.0</td>\n",
       "      <td>1149.0</td>\n",
       "      <td>2019-05-15</td>\n",
       "      <td>60</td>\n",
       "      <td>40.143994</td>\n",
       "      <td>5</td>\n",
       "      <td>2018-07-07</td>\n",
       "      <td>2018-08-02</td>\n",
       "    </tr>\n",
       "    <tr>\n",
       "      <th>1</th>\n",
       "      <td>1149</td>\n",
       "      <td>71.0</td>\n",
       "      <td>1149.0</td>\n",
       "      <td>2018-06-14</td>\n",
       "      <td>60</td>\n",
       "      <td>307.206163</td>\n",
       "      <td>6</td>\n",
       "      <td>2018-07-07</td>\n",
       "      <td>2018-08-02</td>\n",
       "    </tr>\n",
       "    <tr>\n",
       "      <th>2</th>\n",
       "      <td>1149</td>\n",
       "      <td>71.0</td>\n",
       "      <td>1149.0</td>\n",
       "      <td>2018-09-20</td>\n",
       "      <td>60</td>\n",
       "      <td>140.601729</td>\n",
       "      <td>9</td>\n",
       "      <td>2018-07-07</td>\n",
       "      <td>2018-08-02</td>\n",
       "    </tr>\n",
       "    <tr>\n",
       "      <th>3</th>\n",
       "      <td>1149</td>\n",
       "      <td>71.0</td>\n",
       "      <td>1149.0</td>\n",
       "      <td>2018-07-08</td>\n",
       "      <td>60</td>\n",
       "      <td>374.177967</td>\n",
       "      <td>7</td>\n",
       "      <td>2018-07-07</td>\n",
       "      <td>2018-08-02</td>\n",
       "    </tr>\n",
       "    <tr>\n",
       "      <th>4</th>\n",
       "      <td>1149</td>\n",
       "      <td>71.0</td>\n",
       "      <td>1149.0</td>\n",
       "      <td>2018-06-07</td>\n",
       "      <td>60</td>\n",
       "      <td>182.141624</td>\n",
       "      <td>6</td>\n",
       "      <td>2018-07-07</td>\n",
       "      <td>2018-08-02</td>\n",
       "    </tr>\n",
       "    <tr>\n",
       "      <th>...</th>\n",
       "      <td>...</td>\n",
       "      <td>...</td>\n",
       "      <td>...</td>\n",
       "      <td>...</td>\n",
       "      <td>...</td>\n",
       "      <td>...</td>\n",
       "      <td>...</td>\n",
       "      <td>...</td>\n",
       "      <td>...</td>\n",
       "    </tr>\n",
       "    <tr>\n",
       "      <th>69403</th>\n",
       "      <td>784</td>\n",
       "      <td>NaN</td>\n",
       "      <td>784.0</td>\n",
       "      <td>2018-12-11</td>\n",
       "      <td>31</td>\n",
       "      <td>305.124843</td>\n",
       "      <td>12</td>\n",
       "      <td>2018-12-20</td>\n",
       "      <td>2018-12-28</td>\n",
       "    </tr>\n",
       "    <tr>\n",
       "      <th>69404</th>\n",
       "      <td>784</td>\n",
       "      <td>NaN</td>\n",
       "      <td>784.0</td>\n",
       "      <td>2018-12-11</td>\n",
       "      <td>31</td>\n",
       "      <td>305.124843</td>\n",
       "      <td>12</td>\n",
       "      <td>2019-02-22</td>\n",
       "      <td>2019-03-14</td>\n",
       "    </tr>\n",
       "    <tr>\n",
       "      <th>69405</th>\n",
       "      <td>784</td>\n",
       "      <td>NaN</td>\n",
       "      <td>784.0</td>\n",
       "      <td>2018-12-11</td>\n",
       "      <td>31</td>\n",
       "      <td>305.124843</td>\n",
       "      <td>12</td>\n",
       "      <td>2018-09-22</td>\n",
       "      <td>2018-10-11</td>\n",
       "    </tr>\n",
       "    <tr>\n",
       "      <th>69406</th>\n",
       "      <td>784</td>\n",
       "      <td>NaN</td>\n",
       "      <td>784.0</td>\n",
       "      <td>2018-12-11</td>\n",
       "      <td>31</td>\n",
       "      <td>305.124843</td>\n",
       "      <td>12</td>\n",
       "      <td>2018-06-07</td>\n",
       "      <td>2018-07-10</td>\n",
       "    </tr>\n",
       "    <tr>\n",
       "      <th>69407</th>\n",
       "      <td>784</td>\n",
       "      <td>NaN</td>\n",
       "      <td>784.0</td>\n",
       "      <td>2018-12-11</td>\n",
       "      <td>31</td>\n",
       "      <td>305.124843</td>\n",
       "      <td>12</td>\n",
       "      <td>2018-12-12</td>\n",
       "      <td>2019-01-18</td>\n",
       "    </tr>\n",
       "  </tbody>\n",
       "</table>\n",
       "<p>69408 rows × 9 columns</p>\n",
       "</div>"
      ],
      "text/plain": [
       "       customer id   age  customer_id       date  shop_id  total_price  month  \\\n",
       "0             1149  71.0       1149.0 2019-05-15       60    40.143994      5   \n",
       "1             1149  71.0       1149.0 2018-06-14       60   307.206163      6   \n",
       "2             1149  71.0       1149.0 2018-09-20       60   140.601729      9   \n",
       "3             1149  71.0       1149.0 2018-07-08       60   374.177967      7   \n",
       "4             1149  71.0       1149.0 2018-06-07       60   182.141624      6   \n",
       "...            ...   ...          ...        ...      ...          ...    ...   \n",
       "69403          784   NaN        784.0 2018-12-11       31   305.124843     12   \n",
       "69404          784   NaN        784.0 2018-12-11       31   305.124843     12   \n",
       "69405          784   NaN        784.0 2018-12-11       31   305.124843     12   \n",
       "69406          784   NaN        784.0 2018-12-11       31   305.124843     12   \n",
       "69407          784   NaN        784.0 2018-12-11       31   305.124843     12   \n",
       "\n",
       "      offer_begin   offer_end  \n",
       "0      2018-07-07  2018-08-02  \n",
       "1      2018-07-07  2018-08-02  \n",
       "2      2018-07-07  2018-08-02  \n",
       "3      2018-07-07  2018-08-02  \n",
       "4      2018-07-07  2018-08-02  \n",
       "...           ...         ...  \n",
       "69403  2018-12-20  2018-12-28  \n",
       "69404  2019-02-22  2019-03-14  \n",
       "69405  2018-09-22  2018-10-11  \n",
       "69406  2018-06-07  2018-07-10  \n",
       "69407  2018-12-12  2019-01-18  \n",
       "\n",
       "[69408 rows x 9 columns]"
      ]
     },
     "execution_count": 38,
     "metadata": {},
     "output_type": "execute_result"
    }
   ],
   "source": [
    "# YOUR CODE HERE\n",
    "#raise NotImplementedError()\n",
    "full_df_preliminary = pd.merge(purchases_c, shops, left_on=\"shop_id\", right_on=\"shop_id\", how=\"inner\")\n",
    "full_df_preliminary"
   ]
  },
  {
   "cell_type": "code",
   "execution_count": 39,
   "id": "e4d43263",
   "metadata": {
    "deletable": false,
    "editable": false,
    "id": "e4d43263",
    "nbgrader": {
     "cell_type": "code",
     "checksum": "e638ccfb467cd7758d68cc80d186f2f4",
     "grade": true,
     "grade_id": "cell-36bc4666e56a90b9",
     "locked": true,
     "points": 1,
     "schema_version": 3,
     "solution": false,
     "task": false
    }
   },
   "outputs": [],
   "source": [
    "assert (\n",
    "    full_df_preliminary.query('date == \"2019-04-24\" and customer_id == 555.0')[\n",
    "        \"offer_begin\"\n",
    "    ].iloc[0]\n",
    "    == \"2018-08-15\"\n",
    ")\n",
    "assert (\n",
    "    full_df_preliminary.query('date == \"2018-08-24\" and customer_id == 686.0').max()[\n",
    "        \"offer_end\"\n",
    "    ]\n",
    "    == \"2019-01-21\"\n",
    ")"
   ]
  },
  {
   "attachments": {},
   "cell_type": "markdown",
   "id": "ac861b9f",
   "metadata": {
    "id": "ac861b9f"
   },
   "source": [
    "### Problem 16 (autograded)\n",
    "Let us investigate the table `full_df_preliminary`. Each row of this table corresponds to some purchase. However, for some shops we have several special offers and therefore several rows in the table `shops`. During the join each purchase is joined to all rows of `shops` that correspond to a particular shop. Therefore, purchases are duplicated, and we lost information on which rows in `full_df_preliminary` correspond to which purchase. (For example, the last two rows seem to correspond to the same purchase, but can we be sure?) This is due to the fact that table `purchases_c` don't have any explicit column with purchase identifier. Let us add it. As each row of `purchases_c` corresponds to exactly one purchase, table index can work as such an identifier. To create a column that coincides with the index one can use method `.reset_index()`.\n",
    "\n",
    "Apply `.reset_index()` to `purchases_c`, then repeat the join from the previous problem. Name the resulting dataframe `full_df`."
   ]
  },
  {
   "cell_type": "code",
   "execution_count": 40,
   "id": "968c0c51",
   "metadata": {
    "deletable": false,
    "id": "968c0c51",
    "nbgrader": {
     "cell_type": "code",
     "checksum": "a80817f7bdfdd9e938890d1bc2052c7a",
     "grade": false,
     "grade_id": "cell-8414788809192d4e",
     "locked": false,
     "schema_version": 3,
     "solution": true,
     "task": false
    }
   },
   "outputs": [
    {
     "data": {
      "text/html": [
       "<div>\n",
       "<style scoped>\n",
       "    .dataframe tbody tr th:only-of-type {\n",
       "        vertical-align: middle;\n",
       "    }\n",
       "\n",
       "    .dataframe tbody tr th {\n",
       "        vertical-align: top;\n",
       "    }\n",
       "\n",
       "    .dataframe thead th {\n",
       "        text-align: right;\n",
       "    }\n",
       "</style>\n",
       "<table border=\"1\" class=\"dataframe\">\n",
       "  <thead>\n",
       "    <tr style=\"text-align: right;\">\n",
       "      <th></th>\n",
       "      <th>index</th>\n",
       "      <th>customer id</th>\n",
       "      <th>age</th>\n",
       "      <th>customer_id</th>\n",
       "      <th>date</th>\n",
       "      <th>shop_id</th>\n",
       "      <th>total_price</th>\n",
       "      <th>month</th>\n",
       "      <th>offer_begin</th>\n",
       "      <th>offer_end</th>\n",
       "    </tr>\n",
       "  </thead>\n",
       "  <tbody>\n",
       "    <tr>\n",
       "      <th>0</th>\n",
       "      <td>0</td>\n",
       "      <td>1149</td>\n",
       "      <td>71.0</td>\n",
       "      <td>1149.0</td>\n",
       "      <td>2019-05-15</td>\n",
       "      <td>60</td>\n",
       "      <td>40.143994</td>\n",
       "      <td>5</td>\n",
       "      <td>2018-07-07</td>\n",
       "      <td>2018-08-02</td>\n",
       "    </tr>\n",
       "    <tr>\n",
       "      <th>1</th>\n",
       "      <td>1</td>\n",
       "      <td>1149</td>\n",
       "      <td>71.0</td>\n",
       "      <td>1149.0</td>\n",
       "      <td>2018-06-14</td>\n",
       "      <td>60</td>\n",
       "      <td>307.206163</td>\n",
       "      <td>6</td>\n",
       "      <td>2018-07-07</td>\n",
       "      <td>2018-08-02</td>\n",
       "    </tr>\n",
       "    <tr>\n",
       "      <th>2</th>\n",
       "      <td>4</td>\n",
       "      <td>1149</td>\n",
       "      <td>71.0</td>\n",
       "      <td>1149.0</td>\n",
       "      <td>2018-09-20</td>\n",
       "      <td>60</td>\n",
       "      <td>140.601729</td>\n",
       "      <td>9</td>\n",
       "      <td>2018-07-07</td>\n",
       "      <td>2018-08-02</td>\n",
       "    </tr>\n",
       "    <tr>\n",
       "      <th>3</th>\n",
       "      <td>6</td>\n",
       "      <td>1149</td>\n",
       "      <td>71.0</td>\n",
       "      <td>1149.0</td>\n",
       "      <td>2018-07-08</td>\n",
       "      <td>60</td>\n",
       "      <td>374.177967</td>\n",
       "      <td>7</td>\n",
       "      <td>2018-07-07</td>\n",
       "      <td>2018-08-02</td>\n",
       "    </tr>\n",
       "    <tr>\n",
       "      <th>4</th>\n",
       "      <td>7</td>\n",
       "      <td>1149</td>\n",
       "      <td>71.0</td>\n",
       "      <td>1149.0</td>\n",
       "      <td>2018-06-07</td>\n",
       "      <td>60</td>\n",
       "      <td>182.141624</td>\n",
       "      <td>6</td>\n",
       "      <td>2018-07-07</td>\n",
       "      <td>2018-08-02</td>\n",
       "    </tr>\n",
       "    <tr>\n",
       "      <th>...</th>\n",
       "      <td>...</td>\n",
       "      <td>...</td>\n",
       "      <td>...</td>\n",
       "      <td>...</td>\n",
       "      <td>...</td>\n",
       "      <td>...</td>\n",
       "      <td>...</td>\n",
       "      <td>...</td>\n",
       "      <td>...</td>\n",
       "      <td>...</td>\n",
       "    </tr>\n",
       "    <tr>\n",
       "      <th>69403</th>\n",
       "      <td>28675</td>\n",
       "      <td>784</td>\n",
       "      <td>NaN</td>\n",
       "      <td>784.0</td>\n",
       "      <td>2018-12-11</td>\n",
       "      <td>31</td>\n",
       "      <td>305.124843</td>\n",
       "      <td>12</td>\n",
       "      <td>2018-12-20</td>\n",
       "      <td>2018-12-28</td>\n",
       "    </tr>\n",
       "    <tr>\n",
       "      <th>69404</th>\n",
       "      <td>28675</td>\n",
       "      <td>784</td>\n",
       "      <td>NaN</td>\n",
       "      <td>784.0</td>\n",
       "      <td>2018-12-11</td>\n",
       "      <td>31</td>\n",
       "      <td>305.124843</td>\n",
       "      <td>12</td>\n",
       "      <td>2019-02-22</td>\n",
       "      <td>2019-03-14</td>\n",
       "    </tr>\n",
       "    <tr>\n",
       "      <th>69405</th>\n",
       "      <td>28675</td>\n",
       "      <td>784</td>\n",
       "      <td>NaN</td>\n",
       "      <td>784.0</td>\n",
       "      <td>2018-12-11</td>\n",
       "      <td>31</td>\n",
       "      <td>305.124843</td>\n",
       "      <td>12</td>\n",
       "      <td>2018-09-22</td>\n",
       "      <td>2018-10-11</td>\n",
       "    </tr>\n",
       "    <tr>\n",
       "      <th>69406</th>\n",
       "      <td>28675</td>\n",
       "      <td>784</td>\n",
       "      <td>NaN</td>\n",
       "      <td>784.0</td>\n",
       "      <td>2018-12-11</td>\n",
       "      <td>31</td>\n",
       "      <td>305.124843</td>\n",
       "      <td>12</td>\n",
       "      <td>2018-06-07</td>\n",
       "      <td>2018-07-10</td>\n",
       "    </tr>\n",
       "    <tr>\n",
       "      <th>69407</th>\n",
       "      <td>28675</td>\n",
       "      <td>784</td>\n",
       "      <td>NaN</td>\n",
       "      <td>784.0</td>\n",
       "      <td>2018-12-11</td>\n",
       "      <td>31</td>\n",
       "      <td>305.124843</td>\n",
       "      <td>12</td>\n",
       "      <td>2018-12-12</td>\n",
       "      <td>2019-01-18</td>\n",
       "    </tr>\n",
       "  </tbody>\n",
       "</table>\n",
       "<p>69408 rows × 10 columns</p>\n",
       "</div>"
      ],
      "text/plain": [
       "       index  customer id   age  customer_id       date  shop_id  total_price  \\\n",
       "0          0         1149  71.0       1149.0 2019-05-15       60    40.143994   \n",
       "1          1         1149  71.0       1149.0 2018-06-14       60   307.206163   \n",
       "2          4         1149  71.0       1149.0 2018-09-20       60   140.601729   \n",
       "3          6         1149  71.0       1149.0 2018-07-08       60   374.177967   \n",
       "4          7         1149  71.0       1149.0 2018-06-07       60   182.141624   \n",
       "...      ...          ...   ...          ...        ...      ...          ...   \n",
       "69403  28675          784   NaN        784.0 2018-12-11       31   305.124843   \n",
       "69404  28675          784   NaN        784.0 2018-12-11       31   305.124843   \n",
       "69405  28675          784   NaN        784.0 2018-12-11       31   305.124843   \n",
       "69406  28675          784   NaN        784.0 2018-12-11       31   305.124843   \n",
       "69407  28675          784   NaN        784.0 2018-12-11       31   305.124843   \n",
       "\n",
       "       month offer_begin   offer_end  \n",
       "0          5  2018-07-07  2018-08-02  \n",
       "1          6  2018-07-07  2018-08-02  \n",
       "2          9  2018-07-07  2018-08-02  \n",
       "3          7  2018-07-07  2018-08-02  \n",
       "4          6  2018-07-07  2018-08-02  \n",
       "...      ...         ...         ...  \n",
       "69403     12  2018-12-20  2018-12-28  \n",
       "69404     12  2019-02-22  2019-03-14  \n",
       "69405     12  2018-09-22  2018-10-11  \n",
       "69406     12  2018-06-07  2018-07-10  \n",
       "69407     12  2018-12-12  2019-01-18  \n",
       "\n",
       "[69408 rows x 10 columns]"
      ]
     },
     "execution_count": 40,
     "metadata": {},
     "output_type": "execute_result"
    }
   ],
   "source": [
    "# YOUR CODE HERE\n",
    "#raise NotImplementedError()\n",
    "purchases_c.reset_index(inplace=True)\n",
    "full_df = pd.merge(purchases_c, shops, left_on=\"shop_id\", right_on=\"shop_id\", how=\"inner\")\n",
    "full_df"
   ]
  },
  {
   "cell_type": "code",
   "execution_count": 41,
   "id": "f10c85e6",
   "metadata": {
    "deletable": false,
    "editable": false,
    "id": "f10c85e6",
    "nbgrader": {
     "cell_type": "code",
     "checksum": "f015cc3e9b8370425cdaf4ad4b395946",
     "grade": true,
     "grade_id": "cell-484af97a03241903",
     "locked": true,
     "points": 1,
     "schema_version": 3,
     "solution": false,
     "task": false
    }
   },
   "outputs": [],
   "source": [
    "assert (\n",
    "    full_df.query(\"index == 1207\")\n",
    "    .iloc[0][[\"customer_id\", \"date\", \"shop_id\", \"total_price\"]]\n",
    "    .equals(purchases_c.loc[1207][[\"customer_id\", \"date\", \"shop_id\", \"total_price\"]])\n",
    ")"
   ]
  },
  {
   "attachments": {},
   "cell_type": "markdown",
   "id": "bfcd65fb",
   "metadata": {
    "id": "bfcd65fb"
   },
   "source": [
    "### Problem 17 (autograded)\n",
    "Now we need to check for each purchase, did it happen during any of the special offers or not. In the dataset `full_df`, each row relates some purchase with some special offer that happened in the same shop as a purchase. Let us check, is it true that this purchase happened during the corresponding offer? Add a column `offer` that contains values `True` or `False` that answer this question. To do so, we have to compare the value in column `date` with values in columns `offer_begin` and `offer_end`. Let us assume that `offer_end` is the last day of the offer (so the offer still holds during this day). Name the corresponding dataframe `full_df_offer`. Note that you can compare between dates, but not between dates and strings. Convert your data appropriately.\n"
   ]
  },
  {
   "cell_type": "code",
   "execution_count": 42,
   "id": "d30311dd",
   "metadata": {
    "deletable": false,
    "id": "d30311dd",
    "nbgrader": {
     "cell_type": "code",
     "checksum": "dab09ca4900bbd3158d262c74fe1734e",
     "grade": false,
     "grade_id": "cell-72280e238346d5dc",
     "locked": false,
     "schema_version": 3,
     "solution": true,
     "task": false
    }
   },
   "outputs": [
    {
     "data": {
      "text/html": [
       "<div>\n",
       "<style scoped>\n",
       "    .dataframe tbody tr th:only-of-type {\n",
       "        vertical-align: middle;\n",
       "    }\n",
       "\n",
       "    .dataframe tbody tr th {\n",
       "        vertical-align: top;\n",
       "    }\n",
       "\n",
       "    .dataframe thead th {\n",
       "        text-align: right;\n",
       "    }\n",
       "</style>\n",
       "<table border=\"1\" class=\"dataframe\">\n",
       "  <thead>\n",
       "    <tr style=\"text-align: right;\">\n",
       "      <th></th>\n",
       "      <th>index</th>\n",
       "      <th>customer id</th>\n",
       "      <th>age</th>\n",
       "      <th>customer_id</th>\n",
       "      <th>date</th>\n",
       "      <th>shop_id</th>\n",
       "      <th>total_price</th>\n",
       "      <th>month</th>\n",
       "      <th>offer_begin</th>\n",
       "      <th>offer_end</th>\n",
       "      <th>offer</th>\n",
       "    </tr>\n",
       "  </thead>\n",
       "  <tbody>\n",
       "    <tr>\n",
       "      <th>0</th>\n",
       "      <td>0</td>\n",
       "      <td>1149</td>\n",
       "      <td>71.0</td>\n",
       "      <td>1149.0</td>\n",
       "      <td>2019-05-15</td>\n",
       "      <td>60</td>\n",
       "      <td>40.143994</td>\n",
       "      <td>5</td>\n",
       "      <td>2018-07-07</td>\n",
       "      <td>2018-08-02</td>\n",
       "      <td>False</td>\n",
       "    </tr>\n",
       "    <tr>\n",
       "      <th>1</th>\n",
       "      <td>1</td>\n",
       "      <td>1149</td>\n",
       "      <td>71.0</td>\n",
       "      <td>1149.0</td>\n",
       "      <td>2018-06-14</td>\n",
       "      <td>60</td>\n",
       "      <td>307.206163</td>\n",
       "      <td>6</td>\n",
       "      <td>2018-07-07</td>\n",
       "      <td>2018-08-02</td>\n",
       "      <td>False</td>\n",
       "    </tr>\n",
       "    <tr>\n",
       "      <th>2</th>\n",
       "      <td>4</td>\n",
       "      <td>1149</td>\n",
       "      <td>71.0</td>\n",
       "      <td>1149.0</td>\n",
       "      <td>2018-09-20</td>\n",
       "      <td>60</td>\n",
       "      <td>140.601729</td>\n",
       "      <td>9</td>\n",
       "      <td>2018-07-07</td>\n",
       "      <td>2018-08-02</td>\n",
       "      <td>False</td>\n",
       "    </tr>\n",
       "    <tr>\n",
       "      <th>3</th>\n",
       "      <td>6</td>\n",
       "      <td>1149</td>\n",
       "      <td>71.0</td>\n",
       "      <td>1149.0</td>\n",
       "      <td>2018-07-08</td>\n",
       "      <td>60</td>\n",
       "      <td>374.177967</td>\n",
       "      <td>7</td>\n",
       "      <td>2018-07-07</td>\n",
       "      <td>2018-08-02</td>\n",
       "      <td>True</td>\n",
       "    </tr>\n",
       "    <tr>\n",
       "      <th>4</th>\n",
       "      <td>7</td>\n",
       "      <td>1149</td>\n",
       "      <td>71.0</td>\n",
       "      <td>1149.0</td>\n",
       "      <td>2018-06-07</td>\n",
       "      <td>60</td>\n",
       "      <td>182.141624</td>\n",
       "      <td>6</td>\n",
       "      <td>2018-07-07</td>\n",
       "      <td>2018-08-02</td>\n",
       "      <td>False</td>\n",
       "    </tr>\n",
       "    <tr>\n",
       "      <th>...</th>\n",
       "      <td>...</td>\n",
       "      <td>...</td>\n",
       "      <td>...</td>\n",
       "      <td>...</td>\n",
       "      <td>...</td>\n",
       "      <td>...</td>\n",
       "      <td>...</td>\n",
       "      <td>...</td>\n",
       "      <td>...</td>\n",
       "      <td>...</td>\n",
       "      <td>...</td>\n",
       "    </tr>\n",
       "    <tr>\n",
       "      <th>69403</th>\n",
       "      <td>28675</td>\n",
       "      <td>784</td>\n",
       "      <td>NaN</td>\n",
       "      <td>784.0</td>\n",
       "      <td>2018-12-11</td>\n",
       "      <td>31</td>\n",
       "      <td>305.124843</td>\n",
       "      <td>12</td>\n",
       "      <td>2018-12-20</td>\n",
       "      <td>2018-12-28</td>\n",
       "      <td>False</td>\n",
       "    </tr>\n",
       "    <tr>\n",
       "      <th>69404</th>\n",
       "      <td>28675</td>\n",
       "      <td>784</td>\n",
       "      <td>NaN</td>\n",
       "      <td>784.0</td>\n",
       "      <td>2018-12-11</td>\n",
       "      <td>31</td>\n",
       "      <td>305.124843</td>\n",
       "      <td>12</td>\n",
       "      <td>2019-02-22</td>\n",
       "      <td>2019-03-14</td>\n",
       "      <td>False</td>\n",
       "    </tr>\n",
       "    <tr>\n",
       "      <th>69405</th>\n",
       "      <td>28675</td>\n",
       "      <td>784</td>\n",
       "      <td>NaN</td>\n",
       "      <td>784.0</td>\n",
       "      <td>2018-12-11</td>\n",
       "      <td>31</td>\n",
       "      <td>305.124843</td>\n",
       "      <td>12</td>\n",
       "      <td>2018-09-22</td>\n",
       "      <td>2018-10-11</td>\n",
       "      <td>False</td>\n",
       "    </tr>\n",
       "    <tr>\n",
       "      <th>69406</th>\n",
       "      <td>28675</td>\n",
       "      <td>784</td>\n",
       "      <td>NaN</td>\n",
       "      <td>784.0</td>\n",
       "      <td>2018-12-11</td>\n",
       "      <td>31</td>\n",
       "      <td>305.124843</td>\n",
       "      <td>12</td>\n",
       "      <td>2018-06-07</td>\n",
       "      <td>2018-07-10</td>\n",
       "      <td>False</td>\n",
       "    </tr>\n",
       "    <tr>\n",
       "      <th>69407</th>\n",
       "      <td>28675</td>\n",
       "      <td>784</td>\n",
       "      <td>NaN</td>\n",
       "      <td>784.0</td>\n",
       "      <td>2018-12-11</td>\n",
       "      <td>31</td>\n",
       "      <td>305.124843</td>\n",
       "      <td>12</td>\n",
       "      <td>2018-12-12</td>\n",
       "      <td>2019-01-18</td>\n",
       "      <td>False</td>\n",
       "    </tr>\n",
       "  </tbody>\n",
       "</table>\n",
       "<p>69408 rows × 11 columns</p>\n",
       "</div>"
      ],
      "text/plain": [
       "       index  customer id   age  customer_id       date  shop_id  total_price  \\\n",
       "0          0         1149  71.0       1149.0 2019-05-15       60    40.143994   \n",
       "1          1         1149  71.0       1149.0 2018-06-14       60   307.206163   \n",
       "2          4         1149  71.0       1149.0 2018-09-20       60   140.601729   \n",
       "3          6         1149  71.0       1149.0 2018-07-08       60   374.177967   \n",
       "4          7         1149  71.0       1149.0 2018-06-07       60   182.141624   \n",
       "...      ...          ...   ...          ...        ...      ...          ...   \n",
       "69403  28675          784   NaN        784.0 2018-12-11       31   305.124843   \n",
       "69404  28675          784   NaN        784.0 2018-12-11       31   305.124843   \n",
       "69405  28675          784   NaN        784.0 2018-12-11       31   305.124843   \n",
       "69406  28675          784   NaN        784.0 2018-12-11       31   305.124843   \n",
       "69407  28675          784   NaN        784.0 2018-12-11       31   305.124843   \n",
       "\n",
       "       month offer_begin  offer_end  offer  \n",
       "0          5  2018-07-07 2018-08-02  False  \n",
       "1          6  2018-07-07 2018-08-02  False  \n",
       "2          9  2018-07-07 2018-08-02  False  \n",
       "3          7  2018-07-07 2018-08-02   True  \n",
       "4          6  2018-07-07 2018-08-02  False  \n",
       "...      ...         ...        ...    ...  \n",
       "69403     12  2018-12-20 2018-12-28  False  \n",
       "69404     12  2019-02-22 2019-03-14  False  \n",
       "69405     12  2018-09-22 2018-10-11  False  \n",
       "69406     12  2018-06-07 2018-07-10  False  \n",
       "69407     12  2018-12-12 2019-01-18  False  \n",
       "\n",
       "[69408 rows x 11 columns]"
      ]
     },
     "execution_count": 42,
     "metadata": {},
     "output_type": "execute_result"
    }
   ],
   "source": [
    "# YOUR CODE HERE\n",
    "#raise NotImplementedError()\n",
    "full_df[\"offer_begin\"] = pd.to_datetime(full_df[\"offer_begin\"])\n",
    "full_df[\"offer_end\"] = pd.to_datetime(full_df[\"offer_end\"])\n",
    "full_df[\"offer\"] = (full_df[\"date\"] >= full_df[\"offer_begin\"]) & (full_df[\"date\"] <= full_df[\"offer_end\"])\n",
    "full_df_offer = full_df\n",
    "full_df_offer"
   ]
  },
  {
   "cell_type": "code",
   "execution_count": 43,
   "id": "4d7d09fd",
   "metadata": {
    "deletable": false,
    "editable": false,
    "id": "4d7d09fd",
    "nbgrader": {
     "cell_type": "code",
     "checksum": "5bc3c6253b86389489682486f3909035",
     "grade": true,
     "grade_id": "cell-158644e2bb557078",
     "locked": true,
     "points": 2,
     "schema_version": 3,
     "solution": false,
     "task": false
    }
   },
   "outputs": [],
   "source": [
    "from itertools import islice\n",
    "\n",
    "for _, row in islice(full_df_offer.iterrows(), 0, 1000):\n",
    "    assert (\n",
    "        (pd.to_datetime(row[\"date\"]) >= pd.to_datetime(row[\"offer_begin\"]))\n",
    "        & (pd.to_datetime(row[\"date\"]) <= pd.to_datetime(row[\"offer_end\"]))\n",
    "    ) == row[\"offer\"]"
   ]
  },
  {
   "attachments": {},
   "cell_type": "markdown",
   "id": "2a2d0fe6",
   "metadata": {
    "id": "2a2d0fe6"
   },
   "source": [
    "### Almost here\n",
    "Now we have a table that contains information on whether a particular purchase happened during a particular special offer. What we need is a new table that contains information on whether a particular purchase happened during *any* relevant special offer. This can be done by grouping and aggregating. Basically, we need to group our table by column `index` that contains a purchase identifier and apply a special aggregation function `any` to column `offer`. This function checks if there is any `True` element in a group and returns `True` in this case, otherwise (everything is `False`) it returns false. Also, we have to keep all other columns that are related to purchases as is. They are duplicated in the group, so we can just get the first value. This is done by the aggregation function `first`. To apply these functions to different columns, we have to pass a dictionary to method `.agg`. Let's see what's happening.\n"
   ]
  },
  {
   "cell_type": "code",
   "execution_count": 44,
   "id": "b601d6b3",
   "metadata": {
    "id": "b601d6b3"
   },
   "outputs": [
    {
     "data": {
      "text/html": [
       "<div>\n",
       "<style scoped>\n",
       "    .dataframe tbody tr th:only-of-type {\n",
       "        vertical-align: middle;\n",
       "    }\n",
       "\n",
       "    .dataframe tbody tr th {\n",
       "        vertical-align: top;\n",
       "    }\n",
       "\n",
       "    .dataframe thead th {\n",
       "        text-align: right;\n",
       "    }\n",
       "</style>\n",
       "<table border=\"1\" class=\"dataframe\">\n",
       "  <thead>\n",
       "    <tr style=\"text-align: right;\">\n",
       "      <th></th>\n",
       "      <th>customer_id</th>\n",
       "      <th>date</th>\n",
       "      <th>shop_id</th>\n",
       "      <th>total_price</th>\n",
       "      <th>month</th>\n",
       "      <th>age</th>\n",
       "      <th>offer</th>\n",
       "    </tr>\n",
       "    <tr>\n",
       "      <th>index</th>\n",
       "      <th></th>\n",
       "      <th></th>\n",
       "      <th></th>\n",
       "      <th></th>\n",
       "      <th></th>\n",
       "      <th></th>\n",
       "      <th></th>\n",
       "    </tr>\n",
       "  </thead>\n",
       "  <tbody>\n",
       "    <tr>\n",
       "      <th>0</th>\n",
       "      <td>1149.0</td>\n",
       "      <td>2019-05-15</td>\n",
       "      <td>60</td>\n",
       "      <td>40.143994</td>\n",
       "      <td>5</td>\n",
       "      <td>71.0</td>\n",
       "      <td>False</td>\n",
       "    </tr>\n",
       "    <tr>\n",
       "      <th>1</th>\n",
       "      <td>1149.0</td>\n",
       "      <td>2018-06-14</td>\n",
       "      <td>60</td>\n",
       "      <td>307.206163</td>\n",
       "      <td>6</td>\n",
       "      <td>71.0</td>\n",
       "      <td>False</td>\n",
       "    </tr>\n",
       "    <tr>\n",
       "      <th>2</th>\n",
       "      <td>1149.0</td>\n",
       "      <td>2018-09-23</td>\n",
       "      <td>4</td>\n",
       "      <td>1327.170365</td>\n",
       "      <td>9</td>\n",
       "      <td>71.0</td>\n",
       "      <td>True</td>\n",
       "    </tr>\n",
       "    <tr>\n",
       "      <th>3</th>\n",
       "      <td>1149.0</td>\n",
       "      <td>2018-07-04</td>\n",
       "      <td>22</td>\n",
       "      <td>151.766925</td>\n",
       "      <td>7</td>\n",
       "      <td>71.0</td>\n",
       "      <td>False</td>\n",
       "    </tr>\n",
       "    <tr>\n",
       "      <th>4</th>\n",
       "      <td>1149.0</td>\n",
       "      <td>2018-09-20</td>\n",
       "      <td>60</td>\n",
       "      <td>140.601729</td>\n",
       "      <td>9</td>\n",
       "      <td>71.0</td>\n",
       "      <td>False</td>\n",
       "    </tr>\n",
       "    <tr>\n",
       "      <th>...</th>\n",
       "      <td>...</td>\n",
       "      <td>...</td>\n",
       "      <td>...</td>\n",
       "      <td>...</td>\n",
       "      <td>...</td>\n",
       "      <td>...</td>\n",
       "      <td>...</td>\n",
       "    </tr>\n",
       "    <tr>\n",
       "      <th>28794</th>\n",
       "      <td>562.0</td>\n",
       "      <td>2019-05-11</td>\n",
       "      <td>74</td>\n",
       "      <td>592.305574</td>\n",
       "      <td>5</td>\n",
       "      <td>22.0</td>\n",
       "      <td>False</td>\n",
       "    </tr>\n",
       "    <tr>\n",
       "      <th>28795</th>\n",
       "      <td>562.0</td>\n",
       "      <td>2018-12-08</td>\n",
       "      <td>74</td>\n",
       "      <td>232.074279</td>\n",
       "      <td>12</td>\n",
       "      <td>22.0</td>\n",
       "      <td>True</td>\n",
       "    </tr>\n",
       "    <tr>\n",
       "      <th>28796</th>\n",
       "      <td>562.0</td>\n",
       "      <td>2018-12-16</td>\n",
       "      <td>74</td>\n",
       "      <td>1075.034721</td>\n",
       "      <td>12</td>\n",
       "      <td>22.0</td>\n",
       "      <td>True</td>\n",
       "    </tr>\n",
       "    <tr>\n",
       "      <th>28797</th>\n",
       "      <td>562.0</td>\n",
       "      <td>2018-11-04</td>\n",
       "      <td>29</td>\n",
       "      <td>431.440952</td>\n",
       "      <td>11</td>\n",
       "      <td>22.0</td>\n",
       "      <td>False</td>\n",
       "    </tr>\n",
       "    <tr>\n",
       "      <th>28798</th>\n",
       "      <td>562.0</td>\n",
       "      <td>2018-09-07</td>\n",
       "      <td>73</td>\n",
       "      <td>91.104236</td>\n",
       "      <td>9</td>\n",
       "      <td>22.0</td>\n",
       "      <td>False</td>\n",
       "    </tr>\n",
       "  </tbody>\n",
       "</table>\n",
       "<p>28799 rows × 7 columns</p>\n",
       "</div>"
      ],
      "text/plain": [
       "       customer_id       date  shop_id  total_price  month   age  offer\n",
       "index                                                                  \n",
       "0           1149.0 2019-05-15       60    40.143994      5  71.0  False\n",
       "1           1149.0 2018-06-14       60   307.206163      6  71.0  False\n",
       "2           1149.0 2018-09-23        4  1327.170365      9  71.0   True\n",
       "3           1149.0 2018-07-04       22   151.766925      7  71.0  False\n",
       "4           1149.0 2018-09-20       60   140.601729      9  71.0  False\n",
       "...            ...        ...      ...          ...    ...   ...    ...\n",
       "28794        562.0 2019-05-11       74   592.305574      5  22.0  False\n",
       "28795        562.0 2018-12-08       74   232.074279     12  22.0   True\n",
       "28796        562.0 2018-12-16       74  1075.034721     12  22.0   True\n",
       "28797        562.0 2018-11-04       29   431.440952     11  22.0  False\n",
       "28798        562.0 2018-09-07       73    91.104236      9  22.0  False\n",
       "\n",
       "[28799 rows x 7 columns]"
      ]
     },
     "execution_count": 44,
     "metadata": {},
     "output_type": "execute_result"
    }
   ],
   "source": [
    "purchases_offer = full_df_offer.groupby(\"index\").agg(\n",
    "    {\n",
    "        \"customer_id\": \"first\",\n",
    "        \"date\": \"first\",\n",
    "        \"shop_id\": \"first\",\n",
    "        \"total_price\": \"first\",\n",
    "        \"month\": \"first\",\n",
    "        \"age\": \"first\",\n",
    "        \"offer\": \"any\",\n",
    "    }\n",
    ")\n",
    "purchases_offer"
   ]
  },
  {
   "attachments": {},
   "cell_type": "markdown",
   "id": "90e699dd",
   "metadata": {
    "id": "90e699dd"
   },
   "source": [
    "### Problem 18 (quiz)\n",
    "Do people tend to spend more money when they make a purchase during a special offer? Let's check it!\n",
    "\n",
    "First of all, we know that during December people spend more money in shops due to holidays and at the time shops usually announce more special offers during December. As we are interested in the effect of special offers alone, let us remove all purchases that happened during December.\n",
    "\n",
    "Then create a table which rows are customers that contains two columns: in one column we have average of all prices of purchases that were made during special offers, and in the second the same for purchases that were not made during special offers. Drop all rows that contain `NaN`'s. Then apply an appropriate statistical test to check if there is any statistically significant difference between these columns. Use two-sided alternative.\n",
    "\n",
    "\n"
   ]
  },
  {
   "cell_type": "code",
   "execution_count": 45,
   "id": "e1314ed2",
   "metadata": {
    "deletable": false,
    "id": "e1314ed2",
    "nbgrader": {
     "cell_type": "code",
     "checksum": "0f9347b258c3a90a7b22ef3831687ff5",
     "grade": false,
     "grade_id": "cell-ba9d2b1c164cb3e5",
     "locked": false,
     "schema_version": 3,
     "solution": true,
     "task": false
    }
   },
   "outputs": [
    {
     "data": {
      "text/html": [
       "<div>\n",
       "<style scoped>\n",
       "    .dataframe tbody tr th:only-of-type {\n",
       "        vertical-align: middle;\n",
       "    }\n",
       "\n",
       "    .dataframe tbody tr th {\n",
       "        vertical-align: top;\n",
       "    }\n",
       "\n",
       "    .dataframe thead th {\n",
       "        text-align: right;\n",
       "    }\n",
       "</style>\n",
       "<table border=\"1\" class=\"dataframe\">\n",
       "  <thead>\n",
       "    <tr style=\"text-align: right;\">\n",
       "      <th>offer</th>\n",
       "      <th>False</th>\n",
       "      <th>True</th>\n",
       "    </tr>\n",
       "    <tr>\n",
       "      <th>customer_id</th>\n",
       "      <th></th>\n",
       "      <th></th>\n",
       "    </tr>\n",
       "  </thead>\n",
       "  <tbody>\n",
       "    <tr>\n",
       "      <th>0.0</th>\n",
       "      <td>685.331168</td>\n",
       "      <td>901.935686</td>\n",
       "    </tr>\n",
       "    <tr>\n",
       "      <th>2.0</th>\n",
       "      <td>389.216152</td>\n",
       "      <td>318.049544</td>\n",
       "    </tr>\n",
       "    <tr>\n",
       "      <th>3.0</th>\n",
       "      <td>311.611398</td>\n",
       "      <td>551.356873</td>\n",
       "    </tr>\n",
       "    <tr>\n",
       "      <th>4.0</th>\n",
       "      <td>347.161530</td>\n",
       "      <td>325.092632</td>\n",
       "    </tr>\n",
       "    <tr>\n",
       "      <th>5.0</th>\n",
       "      <td>487.628759</td>\n",
       "      <td>279.079141</td>\n",
       "    </tr>\n",
       "    <tr>\n",
       "      <th>...</th>\n",
       "      <td>...</td>\n",
       "      <td>...</td>\n",
       "    </tr>\n",
       "    <tr>\n",
       "      <th>1206.0</th>\n",
       "      <td>240.058252</td>\n",
       "      <td>245.374937</td>\n",
       "    </tr>\n",
       "    <tr>\n",
       "      <th>1207.0</th>\n",
       "      <td>413.785779</td>\n",
       "      <td>941.025534</td>\n",
       "    </tr>\n",
       "    <tr>\n",
       "      <th>1208.0</th>\n",
       "      <td>542.108836</td>\n",
       "      <td>683.695119</td>\n",
       "    </tr>\n",
       "    <tr>\n",
       "      <th>1210.0</th>\n",
       "      <td>265.196887</td>\n",
       "      <td>397.319089</td>\n",
       "    </tr>\n",
       "    <tr>\n",
       "      <th>1212.0</th>\n",
       "      <td>209.140997</td>\n",
       "      <td>89.963846</td>\n",
       "    </tr>\n",
       "  </tbody>\n",
       "</table>\n",
       "<p>735 rows × 2 columns</p>\n",
       "</div>"
      ],
      "text/plain": [
       "offer             False        True\n",
       "customer_id                        \n",
       "0.0          685.331168  901.935686\n",
       "2.0          389.216152  318.049544\n",
       "3.0          311.611398  551.356873\n",
       "4.0          347.161530  325.092632\n",
       "5.0          487.628759  279.079141\n",
       "...                 ...         ...\n",
       "1206.0       240.058252  245.374937\n",
       "1207.0       413.785779  941.025534\n",
       "1208.0       542.108836  683.695119\n",
       "1210.0       265.196887  397.319089\n",
       "1212.0       209.140997   89.963846\n",
       "\n",
       "[735 rows x 2 columns]"
      ]
     },
     "execution_count": 45,
     "metadata": {},
     "output_type": "execute_result"
    }
   ],
   "source": [
    "# YOUR CODE HERE\n",
    "#raise NotImplementedError()\n",
    "purchases_offer = purchases_offer.loc[purchases_offer[\"month\"] != 12]\n",
    "purchases_offer = purchases_offer.pivot_table(index=\"customer_id\", columns=\"offer\", values=\"total_price\", aggfunc=np.mean).dropna()\n",
    "purchases_offer"
   ]
  },
  {
   "cell_type": "code",
   "execution_count": 46,
   "id": "99de0ccc",
   "metadata": {
    "id": "99de0ccc"
   },
   "outputs": [
    {
     "name": "stdout",
     "output_type": "stream",
     "text": [
      "t_stat = 17\n",
      "p-value = 3.221672499502215e-53\n",
      "Reject H_0\n"
     ]
    }
   ],
   "source": [
    "# Since we compare pairs of value for each customer, we need to use paired two-sided t-test\n",
    "# H_0: mu_True = mu_False\n",
    "# H_1: mu_True != mu_False\n",
    "alpha = 0.05\n",
    "t_stat, p_val = ttest_rel(purchases_offer[True], purchases_offer[False])\n",
    "print(\"t_stat =\", round(t_stat))\n",
    "print(\"p-value =\", p_val)\n",
    "print(\"Reject H_0\") if p_val < alpha else print(\"Do not reject H_0\")"
   ]
  },
  {
   "cell_type": "code",
   "execution_count": 47,
   "id": "9d987b0e",
   "metadata": {},
   "outputs": [
    {
     "data": {
      "image/png": "[encoded data removed]",
      "text/plain": [
       "<Figure size 640x480 with 1 Axes>"
      ]
     },
     "metadata": {},
     "output_type": "display_data"
    }
   ],
   "source": [
    "plt.bar([\"Offer\"], height=[purchases_offer[True].mean()], width=0.5, color=\"C1\")\n",
    "plt.bar([\"No offer\"], height=[purchases_offer[False].mean()], width=0.5, color=\"C0\")\n",
    "plt.title(\"Average total price per customer\")\n",
    "plt.figtext(0.3, 0, \"This difference is statistically significant\", fontsize=10);"
   ]
  },
  {
   "cell_type": "code",
   "execution_count": null,
   "id": "e2fc25ef",
   "metadata": {},
   "outputs": [],
   "source": []
  }
 ],
 "metadata": {
  "colab": {
   "name": "Untitled1 (4).ipynb",
   "provenance": []
  },
  "kernelspec": {
   "display_name": "Python 3 (ipykernel)",
   "language": "python",
   "name": "python3"
  },
  "language_info": {
   "codemirror_mode": {
    "name": "ipython",
    "version": 3
   },
   "file_extension": ".py",
   "mimetype": "text/x-python",
   "name": "python",
   "nbconvert_exporter": "python",
   "pygments_lexer": "ipython3",
   "version": "3.9.13"
  }
 },
 "nbformat": 4,
 "nbformat_minor": 5
}
