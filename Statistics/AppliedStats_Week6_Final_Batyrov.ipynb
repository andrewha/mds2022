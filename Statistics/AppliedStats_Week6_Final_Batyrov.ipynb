{
 "cells": [
  {
   "cell_type": "markdown",
   "metadata": {},
   "source": [
    "National Research University \"Higher School of Economics\"\n",
    "\n",
    "Master of Data Science Online Programme\n",
    "\n",
    "Course: Applied Statistics\n",
    "\n",
    "Final Project: Treatment for Malocclusion\n",
    "\n",
    "Student: Andrei Batyrov (Fall2022)\n",
    "\n",
    "Date: 17-Oct-2023\n",
    "\n",
    "##### Table of Contents\n",
    "\n",
    "1. [Description](#description)\n",
    "\n",
    "2. [Assignment](#assignment)\n",
    "\n",
    "    2.1. [Causal effect of Treatment on dANB](#treat_danb)\n",
    "\n",
    "    2.2. [Causal effect of Treatment on Growth](#treat_growth)\n",
    "\n",
    "3. [Discussion](#discussion)"
   ]
  },
  {
   "cell_type": "markdown",
   "metadata": {},
   "source": [
    "---\n",
    "##### <a id=\"description\"></a>1. Description\n",
    "\n",
    "In this assignment you are going to analyse scull measurement data of patients with malocclusion. Patients affected by Class III malocclusion (characterised by the protrusion of lower dental arch) suffer from a skeletal imbalance that is established early in life, and that becomes more pronounced during puberty and until skeletal maturation is complete. Predicting treatment success or failure early in a single Class III patient makes it easier to correct it, but it is difficult to do just from a small number of morphometric determinants is problematic. The reason for that is that Class III malocclusion is rarely a consequence of an abnormality in a single craniofacial component, so individual clinical and radiological measurements are likely to be less indicative than the interplay between the measurements themselves.\n",
    "\n",
    "The data set we will use contains 143 patients with two sets of measurements at ages T1 and T2 (measured in years) for the following variables:\n",
    "- Treatment: untreated (0) or treated (1)\n",
    "- Growth: a binary variable with values Good or Bad, determined on the basis of CoGn-CoA\n",
    "- ANB: angle between Down's points A and B (degrees)\n",
    "- IMPA: incisor-mandibular plane angle (degrees)\n",
    "- PPPM: palatal plane - mandibular plane angle (degrees)\n",
    "- CoA: total maxillary length from condilion to Down's point A (mm)\n",
    "- GoPg: length of mandibular body from gonion to pogonion (mm)\n",
    "- CoGo: length of mandibular ramus from condilion to pogonion (mm)\n",
    "\n",
    "All the measurements are taken from x-ray scans using a set of reference points established using a map like the following:\n",
    "\n",
    "<img src=\"skull.png\"/>\n",
    "\n",
    "Fig. 1. Skull map\n",
    "\n",
    "For simplicity, we transform the dataset by taking differences between time points T2 and T1, so all features now represent changes in measurements:\n",
    "`malocclusion.csv`\n",
    "We would like to estimate the effect of the treatment on Growth and dANB by taking into account causal relationships between variables. Our knowledge of those causal relationships is represented on the following DAG:\n",
    "\n",
    "<img src=\"DAG.png\" width=\"533\" height=\"500\"/>\n",
    "\n",
    "Fig. 2. Causal DAG\n",
    "\n",
    "Treatment assignment, Growth and number of years between two measurements are likely to be affected by some unobserved confounders, as the graph shows.\n",
    "\n",
    "Given the graph, select the variables to condition on, apply suitable adjustment method, and calculate your estimates of causal effects: Treatment on Growth, Treatment on dANB, both ATE and ATET.\n",
    "\n",
    "Your analysis should contain:\n",
    "\n",
    "- Selection of covariates to adjust for (informed by the graph)\n",
    "- Application of the most suitable adjustment method\n",
    "- Estimates of the ATE and ATET\n",
    "\n",
    "The maximal grade for the assignment is 25 points , where for each of two estimated causal effects you could get:\n",
    "- a maximum of 6.5 points for correct and optimal selection of the adjustment set,\n",
    "- a maximum of 3 points for correct estimation of the ATE,\n",
    "- a maximum of 3 points for correct estimation of the ATET."
   ]
  },
  {
   "cell_type": "markdown",
   "metadata": {},
   "source": [
    "---\n",
    "##### <a id=\"assignment\"></a>2. Assignment"
   ]
  },
  {
   "cell_type": "code",
   "execution_count": 26,
   "metadata": {},
   "outputs": [],
   "source": [
    "# Essential import\n",
    "import numpy as np\n",
    "import pandas as pd\n",
    "import statsmodels.formula.api as smf\n",
    "from sklearn.linear_model import LogisticRegression\n",
    "from sklearn.calibration import CalibratedClassifierCV\n",
    "from sklearn.linear_model import LinearRegression\n",
    "from causalinference import CausalModel\n",
    "from scipy.stats import ttest_rel\n",
    "import matplotlib.pyplot as plt\n",
    "alpha = 0.05 # significance level"
   ]
  },
  {
   "cell_type": "code",
   "execution_count": 27,
   "metadata": {},
   "outputs": [
    {
     "data": {
      "text/html": [
       "<div>\n",
       "<style scoped>\n",
       "    .dataframe tbody tr th:only-of-type {\n",
       "        vertical-align: middle;\n",
       "    }\n",
       "\n",
       "    .dataframe tbody tr th {\n",
       "        vertical-align: top;\n",
       "    }\n",
       "\n",
       "    .dataframe thead th {\n",
       "        text-align: right;\n",
       "    }\n",
       "</style>\n",
       "<table border=\"1\" class=\"dataframe\">\n",
       "  <thead>\n",
       "    <tr style=\"text-align: right;\">\n",
       "      <th></th>\n",
       "      <th>dANB</th>\n",
       "      <th>dPPPM</th>\n",
       "      <th>dIMPA</th>\n",
       "      <th>dCoA</th>\n",
       "      <th>dGoPg</th>\n",
       "      <th>dCoGo</th>\n",
       "      <th>dT</th>\n",
       "      <th>Growth</th>\n",
       "      <th>Treatment</th>\n",
       "    </tr>\n",
       "  </thead>\n",
       "  <tbody>\n",
       "    <tr>\n",
       "      <th>0</th>\n",
       "      <td>-3.2</td>\n",
       "      <td>-1.1</td>\n",
       "      <td>-4.2</td>\n",
       "      <td>1.0</td>\n",
       "      <td>4.0</td>\n",
       "      <td>3.7</td>\n",
       "      <td>5</td>\n",
       "      <td>0</td>\n",
       "      <td>0</td>\n",
       "    </tr>\n",
       "    <tr>\n",
       "      <th>1</th>\n",
       "      <td>-0.6</td>\n",
       "      <td>-0.5</td>\n",
       "      <td>3.8</td>\n",
       "      <td>2.6</td>\n",
       "      <td>-0.1</td>\n",
       "      <td>1.4</td>\n",
       "      <td>3</td>\n",
       "      <td>1</td>\n",
       "      <td>0</td>\n",
       "    </tr>\n",
       "    <tr>\n",
       "      <th>2</th>\n",
       "      <td>-1.6</td>\n",
       "      <td>-3.1</td>\n",
       "      <td>-6.0</td>\n",
       "      <td>4.3</td>\n",
       "      <td>4.2</td>\n",
       "      <td>7.1</td>\n",
       "      <td>5</td>\n",
       "      <td>0</td>\n",
       "      <td>0</td>\n",
       "    </tr>\n",
       "    <tr>\n",
       "      <th>3</th>\n",
       "      <td>-1.1</td>\n",
       "      <td>-2.1</td>\n",
       "      <td>-12.1</td>\n",
       "      <td>14.1</td>\n",
       "      <td>20.7</td>\n",
       "      <td>17.5</td>\n",
       "      <td>9</td>\n",
       "      <td>0</td>\n",
       "      <td>0</td>\n",
       "    </tr>\n",
       "    <tr>\n",
       "      <th>4</th>\n",
       "      <td>-1.1</td>\n",
       "      <td>0.0</td>\n",
       "      <td>-6.7</td>\n",
       "      <td>7.7</td>\n",
       "      <td>8.8</td>\n",
       "      <td>11.0</td>\n",
       "      <td>5</td>\n",
       "      <td>0</td>\n",
       "      <td>0</td>\n",
       "    </tr>\n",
       "  </tbody>\n",
       "</table>\n",
       "</div>"
      ],
      "text/plain": [
       "   dANB  dPPPM  dIMPA  dCoA  dGoPg  dCoGo  dT  Growth  Treatment\n",
       "0  -3.2   -1.1   -4.2   1.0    4.0    3.7   5       0          0\n",
       "1  -0.6   -0.5    3.8   2.6   -0.1    1.4   3       1          0\n",
       "2  -1.6   -3.1   -6.0   4.3    4.2    7.1   5       0          0\n",
       "3  -1.1   -2.1  -12.1  14.1   20.7   17.5   9       0          0\n",
       "4  -1.1    0.0   -6.7   7.7    8.8   11.0   5       0          0"
      ]
     },
     "execution_count": 27,
     "metadata": {},
     "output_type": "execute_result"
    }
   ],
   "source": [
    "# Load data\n",
    "malocclusion_data = pd.read_csv('malocclusion.csv')\n",
    "malocclusion_data.head()"
   ]
  },
  {
   "cell_type": "code",
   "execution_count": 28,
   "metadata": {},
   "outputs": [
    {
     "data": {
      "text/plain": [
       "(143, 9)"
      ]
     },
     "execution_count": 28,
     "metadata": {},
     "output_type": "execute_result"
    }
   ],
   "source": [
    "malocclusion_data.shape"
   ]
  },
  {
   "cell_type": "code",
   "execution_count": 29,
   "metadata": {},
   "outputs": [
    {
     "data": {
      "text/html": [
       "<div>\n",
       "<style scoped>\n",
       "    .dataframe tbody tr th:only-of-type {\n",
       "        vertical-align: middle;\n",
       "    }\n",
       "\n",
       "    .dataframe tbody tr th {\n",
       "        vertical-align: top;\n",
       "    }\n",
       "\n",
       "    .dataframe thead th {\n",
       "        text-align: right;\n",
       "    }\n",
       "</style>\n",
       "<table border=\"1\" class=\"dataframe\">\n",
       "  <thead>\n",
       "    <tr style=\"text-align: right;\">\n",
       "      <th></th>\n",
       "      <th>dANB</th>\n",
       "      <th>dPPPM</th>\n",
       "      <th>dIMPA</th>\n",
       "      <th>dCoA</th>\n",
       "      <th>dGoPg</th>\n",
       "      <th>dCoGo</th>\n",
       "      <th>dT</th>\n",
       "      <th>Growth</th>\n",
       "      <th>Treatment</th>\n",
       "    </tr>\n",
       "  </thead>\n",
       "  <tbody>\n",
       "    <tr>\n",
       "      <th>count</th>\n",
       "      <td>143.000000</td>\n",
       "      <td>143.000000</td>\n",
       "      <td>143.000000</td>\n",
       "      <td>143.000000</td>\n",
       "      <td>143.000000</td>\n",
       "      <td>143.000000</td>\n",
       "      <td>143.000000</td>\n",
       "      <td>143.000000</td>\n",
       "      <td>143.000000</td>\n",
       "    </tr>\n",
       "    <tr>\n",
       "      <th>mean</th>\n",
       "      <td>-0.227273</td>\n",
       "      <td>-1.374825</td>\n",
       "      <td>-0.785315</td>\n",
       "      <td>5.987413</td>\n",
       "      <td>7.730769</td>\n",
       "      <td>6.732867</td>\n",
       "      <td>4.706294</td>\n",
       "      <td>0.405594</td>\n",
       "      <td>0.461538</td>\n",
       "    </tr>\n",
       "    <tr>\n",
       "      <th>std</th>\n",
       "      <td>1.826225</td>\n",
       "      <td>2.715046</td>\n",
       "      <td>5.080894</td>\n",
       "      <td>4.469692</td>\n",
       "      <td>5.532417</td>\n",
       "      <td>4.595141</td>\n",
       "      <td>2.550427</td>\n",
       "      <td>0.492733</td>\n",
       "      <td>0.500271</td>\n",
       "    </tr>\n",
       "    <tr>\n",
       "      <th>min</th>\n",
       "      <td>-5.100000</td>\n",
       "      <td>-9.300000</td>\n",
       "      <td>-19.000000</td>\n",
       "      <td>-0.900000</td>\n",
       "      <td>-1.400000</td>\n",
       "      <td>-2.600000</td>\n",
       "      <td>1.000000</td>\n",
       "      <td>0.000000</td>\n",
       "      <td>0.000000</td>\n",
       "    </tr>\n",
       "    <tr>\n",
       "      <th>25%</th>\n",
       "      <td>-1.350000</td>\n",
       "      <td>-2.750000</td>\n",
       "      <td>-3.450000</td>\n",
       "      <td>1.800000</td>\n",
       "      <td>3.200000</td>\n",
       "      <td>3.050000</td>\n",
       "      <td>3.000000</td>\n",
       "      <td>0.000000</td>\n",
       "      <td>0.000000</td>\n",
       "    </tr>\n",
       "    <tr>\n",
       "      <th>50%</th>\n",
       "      <td>-0.300000</td>\n",
       "      <td>-1.400000</td>\n",
       "      <td>-0.400000</td>\n",
       "      <td>5.500000</td>\n",
       "      <td>6.200000</td>\n",
       "      <td>6.300000</td>\n",
       "      <td>4.000000</td>\n",
       "      <td>0.000000</td>\n",
       "      <td>0.000000</td>\n",
       "    </tr>\n",
       "    <tr>\n",
       "      <th>75%</th>\n",
       "      <td>0.950000</td>\n",
       "      <td>0.050000</td>\n",
       "      <td>2.100000</td>\n",
       "      <td>9.750000</td>\n",
       "      <td>12.750000</td>\n",
       "      <td>10.350000</td>\n",
       "      <td>6.000000</td>\n",
       "      <td>1.000000</td>\n",
       "      <td>1.000000</td>\n",
       "    </tr>\n",
       "    <tr>\n",
       "      <th>max</th>\n",
       "      <td>4.900000</td>\n",
       "      <td>6.500000</td>\n",
       "      <td>12.000000</td>\n",
       "      <td>20.000000</td>\n",
       "      <td>23.300000</td>\n",
       "      <td>17.500000</td>\n",
       "      <td>12.000000</td>\n",
       "      <td>1.000000</td>\n",
       "      <td>1.000000</td>\n",
       "    </tr>\n",
       "  </tbody>\n",
       "</table>\n",
       "</div>"
      ],
      "text/plain": [
       "             dANB       dPPPM       dIMPA        dCoA       dGoPg       dCoGo  \\\n",
       "count  143.000000  143.000000  143.000000  143.000000  143.000000  143.000000   \n",
       "mean    -0.227273   -1.374825   -0.785315    5.987413    7.730769    6.732867   \n",
       "std      1.826225    2.715046    5.080894    4.469692    5.532417    4.595141   \n",
       "min     -5.100000   -9.300000  -19.000000   -0.900000   -1.400000   -2.600000   \n",
       "25%     -1.350000   -2.750000   -3.450000    1.800000    3.200000    3.050000   \n",
       "50%     -0.300000   -1.400000   -0.400000    5.500000    6.200000    6.300000   \n",
       "75%      0.950000    0.050000    2.100000    9.750000   12.750000   10.350000   \n",
       "max      4.900000    6.500000   12.000000   20.000000   23.300000   17.500000   \n",
       "\n",
       "               dT      Growth   Treatment  \n",
       "count  143.000000  143.000000  143.000000  \n",
       "mean     4.706294    0.405594    0.461538  \n",
       "std      2.550427    0.492733    0.500271  \n",
       "min      1.000000    0.000000    0.000000  \n",
       "25%      3.000000    0.000000    0.000000  \n",
       "50%      4.000000    0.000000    0.000000  \n",
       "75%      6.000000    1.000000    1.000000  \n",
       "max     12.000000    1.000000    1.000000  "
      ]
     },
     "execution_count": 29,
     "metadata": {},
     "output_type": "execute_result"
    }
   ],
   "source": [
    "malocclusion_data.describe()"
   ]
  },
  {
   "cell_type": "code",
   "execution_count": 30,
   "metadata": {},
   "outputs": [
    {
     "data": {
      "text/plain": [
       "dANB         float64\n",
       "dPPPM        float64\n",
       "dIMPA        float64\n",
       "dCoA         float64\n",
       "dGoPg        float64\n",
       "dCoGo        float64\n",
       "dT             int64\n",
       "Growth         int64\n",
       "Treatment      int64\n",
       "dtype: object"
      ]
     },
     "execution_count": 30,
     "metadata": {},
     "output_type": "execute_result"
    }
   ],
   "source": [
    "malocclusion_data.dtypes"
   ]
  },
  {
   "cell_type": "code",
   "execution_count": 31,
   "metadata": {},
   "outputs": [
    {
     "data": {
      "text/plain": [
       "dANB         0\n",
       "dPPPM        0\n",
       "dIMPA        0\n",
       "dCoA         0\n",
       "dGoPg        0\n",
       "dCoGo        0\n",
       "dT           0\n",
       "Growth       0\n",
       "Treatment    0\n",
       "dtype: int64"
      ]
     },
     "execution_count": 31,
     "metadata": {},
     "output_type": "execute_result"
    }
   ],
   "source": [
    "malocclusion_data.isna().sum()"
   ]
  },
  {
   "cell_type": "markdown",
   "metadata": {},
   "source": [
    "##### <a id=\"treat_danb\"></a>2.1 Causal effect of Treatment on dANB"
   ]
  },
  {
   "cell_type": "markdown",
   "metadata": {},
   "source": [
    "Let's determine our variables:\n",
    "- $X$: valid adjustment set of known factors,\n",
    "- $T$: treatment factor, which is `Treatment` in our case,\n",
    "- $Y$: potential outcome, which is `dANB` in our case.\n",
    "\n",
    "As per the DAG in Fig. 1, there are several factors that can influence the potential outcome, besides the treatment itself, which we need to adjust for. Factors `dIMPA`, `dGoPg`, `dCoGo` with their descendants `dCoA` and `dPPPM` are colliders and thus may introduce bias. The only collider-free undirected path from `Treatment` from `dANB` is `Treatment` $\\rightarrow$ `Unobserved confounders` $\\rightarrow$ `dT` $\\rightarrow$ `Growth` $\\rightarrow$ `dANB`, with `dT` and `Growth` being the blockers on the path. A set of these factors 1) do not have any descendants on the directed path from `Treatment` to `dANB` (except for descendants of `Treatment` that are not on the directed path from `Treatment` to `dANB`), 2) blocks all undirected paths from `Treatment` to `dANB`, which makes it a valid adjustment set. Since, we do not know, and thus cannot adjust for `Unobserved confounders`, we will not include it in our final adjustment set.\n",
    "\n",
    "So, our final variables are:\n",
    "- $X$ = {`dT`, `Growth`},\n",
    "- $T$ = `Treatment`,\n",
    "- $Y$ = `dANB`."
   ]
  },
  {
   "cell_type": "markdown",
   "metadata": {},
   "source": [
    "As a baseline approach, let's calculate unadjusted average treatment effect (ATE) on our outcome. This effect is likely to be biased, since we do not account for other factors, as per our adjustment set."
   ]
  },
  {
   "cell_type": "code",
   "execution_count": 32,
   "metadata": {},
   "outputs": [],
   "source": [
    "X = ['dT', 'Growth']\n",
    "T = 'Treatment'\n",
    "Y = 'dANB'"
   ]
  },
  {
   "cell_type": "code",
   "execution_count": 33,
   "metadata": {},
   "outputs": [],
   "source": [
    "y_avg_t0 = malocclusion_data[Y][malocclusion_data[T] == 0].mean()\n",
    "y_avg_t1 = malocclusion_data[Y][malocclusion_data[T] == 1].mean()"
   ]
  },
  {
   "cell_type": "code",
   "execution_count": 34,
   "metadata": {},
   "outputs": [
    {
     "data": {
      "image/png": "[encoded data removed]",
      "text/plain": [
       "<Figure size 400x200 with 1 Axes>"
      ]
     },
     "metadata": {},
     "output_type": "display_data"
    }
   ],
   "source": [
    "plt.figure(figsize=(4, 2))\n",
    "bars = plt.barh(['Untreated', 'Treated'], [y_avg_t0, y_avg_t1], height=0.25, align='center', color = 'white', edgecolor='C2', alpha=0.75, hatch='.'*6)\n",
    "plt.vlines(0, -0.5, 1.5, color='C7')\n",
    "plt.xlim([min(y_avg_t1, y_avg_t0) - 0.5, max(y_avg_t1, y_avg_t0) + 0.5])\n",
    "plt.ylim([-0.5, 1.5])\n",
    "plt.title('Average dANB', size=10, family='monospace')\n",
    "for i in range(len(bars)):\n",
    "    bars[i].set_edgecolor(f'C{i}')\n",
    "plt.gca().set_axisbelow(True)\n",
    "plt.grid(lw=0.5)"
   ]
  },
  {
   "cell_type": "code",
   "execution_count": 35,
   "metadata": {},
   "outputs": [
    {
     "name": "stdout",
     "output_type": "stream",
     "text": [
      "ATE on dANB (Unadjusted) = 2.03\n"
     ]
    }
   ],
   "source": [
    "ATE_unadj = y_avg_t1 - y_avg_t0\n",
    "print(f'ATE on dANB (Unadjusted) = {ATE_unadj:.2f}')"
   ]
  },
  {
   "cell_type": "markdown",
   "metadata": {},
   "source": [
    "Next we will apply several adjustment methods."
   ]
  },
  {
   "cell_type": "markdown",
   "metadata": {},
   "source": [
    "1. Ordinary Linear Regression"
   ]
  },
  {
   "cell_type": "code",
   "execution_count": 36,
   "metadata": {},
   "outputs": [
    {
     "name": "stdout",
     "output_type": "stream",
     "text": [
      "                            OLS Regression Results                            \n",
      "==============================================================================\n",
      "Dep. Variable:                   dANB   R-squared:                       0.409\n",
      "Model:                            OLS   Adj. R-squared:                  0.397\n",
      "Method:                 Least Squares   F-statistic:                     32.12\n",
      "Date:                Tue, 17 Oct 2023   Prob (F-statistic):           7.78e-16\n",
      "Time:                        03:40:04   Log-Likelihood:                -250.87\n",
      "No. Observations:                 143   AIC:                             509.7\n",
      "Df Residuals:                     139   BIC:                             521.6\n",
      "Df Model:                           3                                         \n",
      "Covariance Type:            nonrobust                                         \n",
      "==============================================================================\n",
      "                 coef    std err          t      P>|t|      [0.025      0.975]\n",
      "------------------------------------------------------------------------------\n",
      "Intercept     -1.4021      0.276     -5.075      0.000      -1.948      -0.856\n",
      "Treatment      1.9336      0.261      7.394      0.000       1.417       2.451\n",
      "dT            -0.0386      0.051     -0.758      0.450      -0.139       0.062\n",
      "Growth         1.1443      0.247      4.625      0.000       0.655       1.634\n",
      "==============================================================================\n",
      "Omnibus:                        9.566   Durbin-Watson:                   2.107\n",
      "Prob(Omnibus):                  0.008   Jarque-Bera (JB):               10.722\n",
      "Skew:                           0.475   Prob(JB):                      0.00470\n",
      "Kurtosis:                       3.948   Cond. No.                         14.6\n",
      "==============================================================================\n",
      "\n",
      "Notes:\n",
      "[1] Standard Errors assume that the covariance matrix of the errors is correctly specified.\n"
     ]
    }
   ],
   "source": [
    "model_linreg = smf.ols(f\"{Y} ~ {' + '.join([T] + X)}\", data=malocclusion_data)\n",
    "fitted = model_linreg.fit()\n",
    "print(fitted.summary())"
   ]
  },
  {
   "cell_type": "code",
   "execution_count": 37,
   "metadata": {},
   "outputs": [
    {
     "name": "stdout",
     "output_type": "stream",
     "text": [
      "Statistically significant OLS model's coefficients (alpha = 0.05):\n",
      "Intercept   -1.402079\n",
      "Treatment    1.933583\n",
      "Growth       1.144324\n",
      "R-squared = 0.41\n",
      "ATE on dANB (OLS) = 1.93\n"
     ]
    }
   ],
   "source": [
    "print(f\"Statistically significant OLS model's coefficients ({alpha = }):\")\n",
    "print(fitted.params[fitted.pvalues <= alpha].to_string(header=None))\n",
    "ATE_OLS = fitted.params.loc['Treatment']\n",
    "print(f'R-squared = {fitted.rsquared:.2f}')\n",
    "print(f\"ATE on dANB (OLS) = {ATE_OLS:.2f}\")"
   ]
  },
  {
   "cell_type": "markdown",
   "metadata": {},
   "source": [
    "Notes:\n",
    "- though `Treatment` is a statistically significant factor, $R^2 \\approx 0.41$, that is the ordinary linear model can explain only around 41% of variance of `dANB`, which means that it is not a very good estimator, thus ATE can still be biased (!);\n",
    "- `dT` appeared to be a statistically non-significant factor."
   ]
  },
  {
   "cell_type": "markdown",
   "metadata": {},
   "source": [
    "2. Weighted Linear Regression with propensity score weighting"
   ]
  },
  {
   "cell_type": "code",
   "execution_count": 38,
   "metadata": {},
   "outputs": [
    {
     "data": {
      "text/html": [
       "<div>\n",
       "<style scoped>\n",
       "    .dataframe tbody tr th:only-of-type {\n",
       "        vertical-align: middle;\n",
       "    }\n",
       "\n",
       "    .dataframe tbody tr th {\n",
       "        vertical-align: top;\n",
       "    }\n",
       "\n",
       "    .dataframe thead th {\n",
       "        text-align: right;\n",
       "    }\n",
       "</style>\n",
       "<table border=\"1\" class=\"dataframe\">\n",
       "  <thead>\n",
       "    <tr style=\"text-align: right;\">\n",
       "      <th></th>\n",
       "      <th>dANB</th>\n",
       "      <th>dPPPM</th>\n",
       "      <th>dIMPA</th>\n",
       "      <th>dCoA</th>\n",
       "      <th>dGoPg</th>\n",
       "      <th>dCoGo</th>\n",
       "      <th>dT</th>\n",
       "      <th>Growth</th>\n",
       "      <th>Treatment</th>\n",
       "      <th>e</th>\n",
       "      <th>w</th>\n",
       "    </tr>\n",
       "  </thead>\n",
       "  <tbody>\n",
       "    <tr>\n",
       "      <th>0</th>\n",
       "      <td>-3.2</td>\n",
       "      <td>-1.1</td>\n",
       "      <td>-4.2</td>\n",
       "      <td>1.0</td>\n",
       "      <td>4.0</td>\n",
       "      <td>3.7</td>\n",
       "      <td>5</td>\n",
       "      <td>0</td>\n",
       "      <td>0</td>\n",
       "      <td>0.438002</td>\n",
       "      <td>1.779366</td>\n",
       "    </tr>\n",
       "    <tr>\n",
       "      <th>1</th>\n",
       "      <td>-0.6</td>\n",
       "      <td>-0.5</td>\n",
       "      <td>3.8</td>\n",
       "      <td>2.6</td>\n",
       "      <td>-0.1</td>\n",
       "      <td>1.4</td>\n",
       "      <td>3</td>\n",
       "      <td>1</td>\n",
       "      <td>0</td>\n",
       "      <td>0.432087</td>\n",
       "      <td>1.760832</td>\n",
       "    </tr>\n",
       "    <tr>\n",
       "      <th>2</th>\n",
       "      <td>-1.6</td>\n",
       "      <td>-3.1</td>\n",
       "      <td>-6.0</td>\n",
       "      <td>4.3</td>\n",
       "      <td>4.2</td>\n",
       "      <td>7.1</td>\n",
       "      <td>5</td>\n",
       "      <td>0</td>\n",
       "      <td>0</td>\n",
       "      <td>0.438002</td>\n",
       "      <td>1.779366</td>\n",
       "    </tr>\n",
       "    <tr>\n",
       "      <th>3</th>\n",
       "      <td>-1.1</td>\n",
       "      <td>-2.1</td>\n",
       "      <td>-12.1</td>\n",
       "      <td>14.1</td>\n",
       "      <td>20.7</td>\n",
       "      <td>17.5</td>\n",
       "      <td>9</td>\n",
       "      <td>0</td>\n",
       "      <td>0</td>\n",
       "      <td>0.646442</td>\n",
       "      <td>2.828388</td>\n",
       "    </tr>\n",
       "    <tr>\n",
       "      <th>4</th>\n",
       "      <td>-1.1</td>\n",
       "      <td>0.0</td>\n",
       "      <td>-6.7</td>\n",
       "      <td>7.7</td>\n",
       "      <td>8.8</td>\n",
       "      <td>11.0</td>\n",
       "      <td>5</td>\n",
       "      <td>0</td>\n",
       "      <td>0</td>\n",
       "      <td>0.438002</td>\n",
       "      <td>1.779366</td>\n",
       "    </tr>\n",
       "  </tbody>\n",
       "</table>\n",
       "</div>"
      ],
      "text/plain": [
       "   dANB  dPPPM  dIMPA  dCoA  dGoPg  dCoGo  dT  Growth  Treatment         e  \\\n",
       "0  -3.2   -1.1   -4.2   1.0    4.0    3.7   5       0          0  0.438002   \n",
       "1  -0.6   -0.5    3.8   2.6   -0.1    1.4   3       1          0  0.432087   \n",
       "2  -1.6   -3.1   -6.0   4.3    4.2    7.1   5       0          0  0.438002   \n",
       "3  -1.1   -2.1  -12.1  14.1   20.7   17.5   9       0          0  0.646442   \n",
       "4  -1.1    0.0   -6.7   7.7    8.8   11.0   5       0          0  0.438002   \n",
       "\n",
       "          w  \n",
       "0  1.779366  \n",
       "1  1.760832  \n",
       "2  1.779366  \n",
       "3  2.828388  \n",
       "4  1.779366  "
      ]
     },
     "execution_count": 38,
     "metadata": {},
     "output_type": "execute_result"
    }
   ],
   "source": [
    "# Classifier to estimate the propensity scores\n",
    "model_logreg = LogisticRegression()\n",
    "# Calibrate the classifier\n",
    "model_logreg = CalibratedClassifierCV(model_logreg)\n",
    "# Fit the classifier for X and T\n",
    "model_logreg.fit(malocclusion_data[X], malocclusion_data[T])\n",
    "# Calculate propensity scores\n",
    "malocclusion_data['e'] = model_logreg.predict_proba(malocclusion_data[X])[:, 1].tolist()\n",
    "# Calculate wights\n",
    "malocclusion_data['w'] = malocclusion_data[T] / malocclusion_data['e'] + (1 - malocclusion_data[T]) / (1 - malocclusion_data['e'])\n",
    "malocclusion_data.head()"
   ]
  },
  {
   "cell_type": "markdown",
   "metadata": {},
   "source": [
    "Now, let's fit weighted linear regression model using the weights obtained above."
   ]
  },
  {
   "cell_type": "code",
   "execution_count": 39,
   "metadata": {},
   "outputs": [
    {
     "name": "stdout",
     "output_type": "stream",
     "text": [
      "                            WLS Regression Results                            \n",
      "==============================================================================\n",
      "Dep. Variable:                   dANB   R-squared:                       0.375\n",
      "Model:                            WLS   Adj. R-squared:                  0.362\n",
      "Method:                 Least Squares   F-statistic:                     27.83\n",
      "Date:                Tue, 17 Oct 2023   Prob (F-statistic):           3.73e-14\n",
      "Time:                        03:40:04   Log-Likelihood:                -261.69\n",
      "No. Observations:                 143   AIC:                             531.4\n",
      "Df Residuals:                     139   BIC:                             543.2\n",
      "Df Model:                           3                                         \n",
      "Covariance Type:            nonrobust                                         \n",
      "==============================================================================\n",
      "                 coef    std err          t      P>|t|      [0.025      0.975]\n",
      "------------------------------------------------------------------------------\n",
      "Intercept     -1.3302      0.310     -4.290      0.000      -1.943      -0.717\n",
      "Treatment      1.9579      0.257      7.633      0.000       1.451       2.465\n",
      "dT            -0.0526      0.048     -1.091      0.277      -0.148       0.043\n",
      "Growth         1.0399      0.263      3.959      0.000       0.521       1.559\n",
      "==============================================================================\n",
      "Omnibus:                       16.744   Durbin-Watson:                   2.099\n",
      "Prob(Omnibus):                  0.000   Jarque-Bera (JB):               32.952\n",
      "Skew:                           0.503   Prob(JB):                     6.99e-08\n",
      "Kurtosis:                       5.126   Cond. No.                         16.0\n",
      "==============================================================================\n",
      "\n",
      "Notes:\n",
      "[1] Standard Errors assume that the covariance matrix of the errors is correctly specified.\n"
     ]
    }
   ],
   "source": [
    "model_linreg = smf.wls(f\"{Y} ~ {' + '.join([T] + X)}\", data=malocclusion_data, weights=malocclusion_data['w'])\n",
    "fitted = model_linreg.fit()\n",
    "print(fitted.summary())"
   ]
  },
  {
   "cell_type": "code",
   "execution_count": 40,
   "metadata": {},
   "outputs": [
    {
     "name": "stdout",
     "output_type": "stream",
     "text": [
      "Statistically significant WLS model's coefficients (alpha = 0.05):\n",
      "Intercept   -1.330168\n",
      "Treatment    1.957926\n",
      "Growth       1.039897\n",
      "R-squared = 0.38\n",
      "ATE on dANB (WLS) = 1.96\n"
     ]
    }
   ],
   "source": [
    "print(f\"Statistically significant WLS model's coefficients ({alpha = }):\")\n",
    "print(fitted.params[fitted.pvalues <= alpha].to_string(header=None))\n",
    "ATE_WLS = fitted.params.loc['Treatment']\n",
    "print(f'R-squared = {fitted.rsquared:.2f}')\n",
    "print(f\"ATE on dANB (WLS) = {ATE_WLS:.2f}\")"
   ]
  },
  {
   "cell_type": "markdown",
   "metadata": {},
   "source": [
    "Notes:\n",
    "- though `Treatment` is a statistically significant factor, $R^2 \\approx 0.38$, that is the ordinary linear model can explain only around 38% of variance of `dANB`, which means that it is not a very good estimator, thus ATE can still be biased (!);\n",
    "- `dT` appeared to be a statistically non-significant factor."
   ]
  },
  {
   "cell_type": "markdown",
   "metadata": {},
   "source": [
    "3. Doubly Robust estimator"
   ]
  },
  {
   "cell_type": "code",
   "execution_count": 41,
   "metadata": {},
   "outputs": [
    {
     "name": "stdout",
     "output_type": "stream",
     "text": [
      "ATE on dANB (DR) = 1.88\n"
     ]
    }
   ],
   "source": [
    "# Build two linear models\n",
    "y0 = LinearRegression().fit(\n",
    "                            malocclusion_data[malocclusion_data[T] == 0][X], \n",
    "                            malocclusion_data[malocclusion_data[T] == 0][Y]) \\\n",
    "                        .predict(malocclusion_data[X])\n",
    "\n",
    "y1 = LinearRegression().fit(\n",
    "                            malocclusion_data[malocclusion_data[T] == 1][X], \n",
    "                            malocclusion_data[malocclusion_data[T] == 1][Y]) \\\n",
    "                            .predict(malocclusion_data[X])\n",
    "\n",
    "# Calculate DR estimator\n",
    "malocclusion_data['DR0'] = (1 - malocclusion_data[T]) * (malocclusion_data[Y] - y0) / (1 - malocclusion_data['e']) + y0\n",
    "malocclusion_data['DR1'] = malocclusion_data[T]  * (malocclusion_data[Y] - y1) / malocclusion_data['e']  + y1\n",
    "ATE_DR = malocclusion_data['DR1'].mean() - malocclusion_data['DR0'].mean()\n",
    "print(f\"ATE on dANB (DR) = {ATE_DR:.2f}\")"
   ]
  },
  {
   "cell_type": "code",
   "execution_count": 66,
   "metadata": {},
   "outputs": [
    {
     "name": "stdout",
     "output_type": "stream",
     "text": [
      "t_test.statistic = 7.03\n",
      "t_test.pvalue = 8.12e-11 (alpha = 0.05)\n",
      "95% CI = [1.35, 2.41]\n"
     ]
    }
   ],
   "source": [
    "t_test = ttest_rel(malocclusion_data['DR1'], malocclusion_data['DR0'])\n",
    "print(f'{t_test.statistic = :.2f}\\n{t_test.pvalue = :.2e} ({alpha = })\\n95% CI = {list(map(lambda x: round(x, 2), t_test.confidence_interval()))}')"
   ]
  },
  {
   "cell_type": "markdown",
   "metadata": {},
   "source": [
    "Notes:\n",
    "- `ATE` is statistically significant.\n",
    "- The estimate still can be biased, since linear regression is used."
   ]
  },
  {
   "cell_type": "markdown",
   "metadata": {},
   "source": [
    "4. Matching with Machalanobis distance"
   ]
  },
  {
   "cell_type": "code",
   "execution_count": 18,
   "metadata": {},
   "outputs": [
    {
     "name": "stdout",
     "output_type": "stream",
     "text": [
      "\n",
      "Treatment Effect Estimates: Matching\n",
      "\n",
      "                     Est.       S.e.          z      P>|z|      [95% Conf. int.]\n",
      "--------------------------------------------------------------------------------\n",
      "           ATE      1.887      0.361      5.222      0.000      1.179      2.596\n",
      "           ATC      1.759      0.407      4.320      0.000      0.961      2.557\n",
      "           ATT      2.037      0.474      4.297      0.000      1.108      2.967\n",
      "\n"
     ]
    },
    {
     "name": "stderr",
     "output_type": "stream",
     "text": [
      "c:\\Users\\andre\\mambaforge\\lib\\site-packages\\causalinference\\estimators\\matching.py:100: FutureWarning: `rcond` parameter will change to the default of machine precision times ``max(M, N)`` where M and N are the input matrix dimensions.\n",
      "To use the future default and silence this warning we advise to pass `rcond=None`, to keep using the old, explicitly pass `rcond=-1`.\n",
      "  return np.linalg.lstsq(X, Y)[0][1:]  # don't need intercept coef\n"
     ]
    }
   ],
   "source": [
    "model_causal = CausalModel(Y=malocclusion_data[Y].values, D=malocclusion_data[T].values, X=malocclusion_data[X].values)\n",
    "model_causal.est_via_matching(bias_adj=True)\n",
    "print(model_causal.estimates)"
   ]
  },
  {
   "cell_type": "code",
   "execution_count": 19,
   "metadata": {},
   "outputs": [
    {
     "name": "stdout",
     "output_type": "stream",
     "text": [
      " ATE on dANB (Causal model) = 1.89\n",
      "ATET on dANB (Causal model) = 2.04\n"
     ]
    }
   ],
   "source": [
    "ATE_Mach = model_causal.estimates['matching']['ate']\n",
    "ATET_Mach = model_causal.estimates['matching']['att']\n",
    "print(f\" ATE on dANB (Causal model) = {ATE_Mach:.2f}\")\n",
    "print(f\"ATET on dANB (Causal model) = {ATET_Mach:.2f}\")"
   ]
  },
  {
   "cell_type": "markdown",
   "metadata": {},
   "source": [
    "Note: Both `ATE` and `ATET` are statistically significant."
   ]
  },
  {
   "cell_type": "markdown",
   "metadata": {},
   "source": [
    "5. Matching with Propensity scores"
   ]
  },
  {
   "cell_type": "code",
   "execution_count": 20,
   "metadata": {},
   "outputs": [
    {
     "name": "stdout",
     "output_type": "stream",
     "text": [
      "\n",
      "Treatment Effect Estimates: Matching\n",
      "\n",
      "                     Est.       S.e.          z      P>|z|      [95% Conf. int.]\n",
      "--------------------------------------------------------------------------------\n",
      "           ATE      1.844      0.361      5.113      0.000      1.137      2.551\n",
      "           ATC      1.535      0.453      3.386      0.001      0.647      2.424\n",
      "           ATT      2.204      0.401      5.502      0.000      1.419      2.989\n",
      "\n"
     ]
    }
   ],
   "source": [
    "model_causal = CausalModel(Y=malocclusion_data[Y].values, D=malocclusion_data[T].values, X=malocclusion_data['e'].values)\n",
    "model_causal.est_via_matching(bias_adj=True)\n",
    "print(model_causal.estimates)"
   ]
  },
  {
   "cell_type": "code",
   "execution_count": 21,
   "metadata": {},
   "outputs": [
    {
     "name": "stdout",
     "output_type": "stream",
     "text": [
      " ATE on dANB (Causal model) = 1.84\n",
      "ATET on dANB (Causal model) = 2.20\n"
     ]
    }
   ],
   "source": [
    "ATE_e = model_causal.estimates['matching']['ate']\n",
    "ATET_e = model_causal.estimates['matching']['att']\n",
    "print(f\" ATE on dANB (Causal model) = {ATE_e:.2f}\")\n",
    "print(f\"ATET on dANB (Causal model) = {ATET_e:.2f}\")"
   ]
  },
  {
   "cell_type": "markdown",
   "metadata": {},
   "source": [
    "Note: Both `ATE` and `ATET` are statistically significant."
   ]
  },
  {
   "cell_type": "markdown",
   "metadata": {},
   "source": [
    "Now let's compare our results and discuss them."
   ]
  },
  {
   "cell_type": "code",
   "execution_count": 22,
   "metadata": {},
   "outputs": [
    {
     "data": {
      "text/html": [
       "<div>\n",
       "<style scoped>\n",
       "    .dataframe tbody tr th:only-of-type {\n",
       "        vertical-align: middle;\n",
       "    }\n",
       "\n",
       "    .dataframe tbody tr th {\n",
       "        vertical-align: top;\n",
       "    }\n",
       "\n",
       "    .dataframe thead th {\n",
       "        text-align: right;\n",
       "    }\n",
       "</style>\n",
       "<table border=\"1\" class=\"dataframe\">\n",
       "  <thead>\n",
       "    <tr style=\"text-align: right;\">\n",
       "      <th></th>\n",
       "      <th>ATE</th>\n",
       "      <th>ATET</th>\n",
       "    </tr>\n",
       "  </thead>\n",
       "  <tbody>\n",
       "    <tr>\n",
       "      <th>Unadjusted</th>\n",
       "      <td>2.028788</td>\n",
       "      <td>NaN</td>\n",
       "    </tr>\n",
       "    <tr>\n",
       "      <th>OLS</th>\n",
       "      <td>1.933583</td>\n",
       "      <td>NaN</td>\n",
       "    </tr>\n",
       "    <tr>\n",
       "      <th>WLS</th>\n",
       "      <td>1.957926</td>\n",
       "      <td>NaN</td>\n",
       "    </tr>\n",
       "    <tr>\n",
       "      <th>DR</th>\n",
       "      <td>1.880615</td>\n",
       "      <td>NaN</td>\n",
       "    </tr>\n",
       "    <tr>\n",
       "      <th>Machalanobis</th>\n",
       "      <td>1.887357</td>\n",
       "      <td>2.037244</td>\n",
       "    </tr>\n",
       "    <tr>\n",
       "      <th>e</th>\n",
       "      <td>1.843778</td>\n",
       "      <td>2.203602</td>\n",
       "    </tr>\n",
       "  </tbody>\n",
       "</table>\n",
       "</div>"
      ],
      "text/plain": [
       "                   ATE      ATET\n",
       "Unadjusted    2.028788       NaN\n",
       "OLS           1.933583       NaN\n",
       "WLS           1.957926       NaN\n",
       "DR            1.880615       NaN\n",
       "Machalanobis  1.887357  2.037244\n",
       "e             1.843778  2.203602"
      ]
     },
     "execution_count": 22,
     "metadata": {},
     "output_type": "execute_result"
    }
   ],
   "source": [
    "ATEs_df = pd.DataFrame({'ATE': [ATE_unadj, ATE_OLS, ATE_WLS, ATE_DR, ATE_Mach, ATE_e], \n",
    "                        'ATET': [np.nan, np.nan, np.nan, np.nan, ATET_Mach, ATET_e]}, \n",
    "                        index=['Unadjusted', 'OLS', 'WLS', 'DR', 'Machalanobis', 'e'])\n",
    "ATEs_df"
   ]
  },
  {
   "cell_type": "code",
   "execution_count": 65,
   "metadata": {},
   "outputs": [
    {
     "data": {
      "image/png": "[encoded data removed]",
      "text/plain": [
       "<Figure size 600x400 with 1 Axes>"
      ]
     },
     "metadata": {},
     "output_type": "display_data"
    }
   ],
   "source": [
    "plt.figure(figsize=(6, 4))\n",
    "bars = plt.bar(ATEs_df.index, ATEs_df['ATE'], width=0.25, align='center', color = 'white', edgecolor='C2', alpha=0.75, hatch='.'*6)\n",
    "plt.vlines(2.5, ymin=ATEs_df['ATE'].min() - 0.2, ymax=ATEs_df['ATE'].max() + 0.1, ls='--')\n",
    "plt.text(0.5, ATEs_df['ATE'].max() + 0.04, 'Likely biased', size=10, family='monospace')\n",
    "plt.text(3.5, ATEs_df['ATE'].max() + 0.04, 'Likely unbiased', size=10, family='monospace')\n",
    "plt.xlabel('Adjustment method', size=10, family='monospace')\n",
    "plt.ylabel('ATE', size=10, family='monospace')\n",
    "plt.title('Average Treatment Effect', size=10, family='monospace')\n",
    "plt.ylim([ATEs_df['ATE'].min() - 0.2, ATEs_df['ATE'].max() + 0.1])\n",
    "for i in range(len(bars)):\n",
    "    bars[i].set_edgecolor(f'C{i}')\n",
    "plt.gca().set_axisbelow(True)\n",
    "plt.grid(lw=0.5)\n"
   ]
  },
  {
   "cell_type": "code",
   "execution_count": 24,
   "metadata": {},
   "outputs": [
    {
     "data": {
      "image/png": "[encoded data removed]",
      "text/plain": [
       "<Figure size 400x400 with 1 Axes>"
      ]
     },
     "metadata": {},
     "output_type": "display_data"
    }
   ],
   "source": [
    "plt.figure(figsize=(4, 4))\n",
    "bars = plt.bar(ATEs_df.index, ATEs_df['ATET'], width=0.15, align='center', color = 'white', edgecolor='C2', alpha=0.75, hatch='.'*6)\n",
    "plt.xlabel('Adjustment method', size=10, family='monospace')\n",
    "plt.ylabel('ATET', size=10, family='monospace')\n",
    "plt.title('Average Treatment Effect for the Treated', size=10, family='monospace')\n",
    "#plt.xticks(range(ATEs_df.shape[0]), ATEs_df.index)\n",
    "plt.xlim([3.5, 5.5])\n",
    "plt.ylim([ATEs_df['ATET'].min() - 0.2, ATEs_df['ATET'].max() + 0.1])\n",
    "for i in range(len(bars)):\n",
    "    bars[i].set_edgecolor(f'C{i+6}')\n",
    "plt.gca().set_axisbelow(True)\n",
    "plt.grid(lw=0.5)"
   ]
  },
  {
   "cell_type": "code",
   "execution_count": null,
   "metadata": {},
   "outputs": [],
   "source": []
  },
  {
   "cell_type": "code",
   "execution_count": null,
   "metadata": {},
   "outputs": [],
   "source": []
  },
  {
   "cell_type": "code",
   "execution_count": null,
   "metadata": {},
   "outputs": [],
   "source": []
  },
  {
   "cell_type": "code",
   "execution_count": null,
   "metadata": {},
   "outputs": [],
   "source": []
  },
  {
   "cell_type": "code",
   "execution_count": null,
   "metadata": {},
   "outputs": [],
   "source": []
  },
  {
   "cell_type": "code",
   "execution_count": null,
   "metadata": {},
   "outputs": [],
   "source": []
  },
  {
   "cell_type": "markdown",
   "metadata": {},
   "source": [
    "##### <a id=\"treat_growth\"></a>2.2 Causal effect of Treatment on Growth"
   ]
  },
  {
   "cell_type": "code",
   "execution_count": null,
   "metadata": {},
   "outputs": [],
   "source": []
  }
 ],
 "metadata": {
  "kernelspec": {
   "display_name": "base",
   "language": "python",
   "name": "python3"
  },
  "language_info": {
   "codemirror_mode": {
    "name": "ipython",
    "version": 3
   },
   "file_extension": ".py",
   "mimetype": "text/x-python",
   "name": "python",
   "nbconvert_exporter": "python",
   "pygments_lexer": "ipython3",
   "version": "3.10.12"
  }
 },
 "nbformat": 4,
 "nbformat_minor": 2
}
