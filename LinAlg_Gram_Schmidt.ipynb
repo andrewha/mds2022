{
 "cells": [
  {
   "cell_type": "code",
   "execution_count": 1,
   "metadata": {},
   "outputs": [],
   "source": [
    "import numpy as np\n",
    "import sympy as sp"
   ]
  },
  {
   "cell_type": "code",
   "execution_count": 2,
   "metadata": {},
   "outputs": [],
   "source": [
    "def gram_schmidt(A: np.array, normalize: bool=False) -> np.array:\n",
    "    '''\n",
    "    Find the orthogonal basis of a matrix.\n",
    "\n",
    "    Parameters\n",
    "    ----------\n",
    "    A : np.array\n",
    "        Input matrix A constructed of linearly independent vectors a_{1}, a_{2}, ..., a_{n}.\n",
    "    \n",
    "    normalize : bool\n",
    "        Whether to normalize the output matrix B, using the Euclidean norm.\n",
    "\n",
    "    Returns\n",
    "    -------\n",
    "    B: np.array    \n",
    "        Output matrix B constructed of linearly independent vectors b_{1}, b_{2}, ..., b_{n} which are pair-wise orthogonal.\n",
    "\n",
    "    Algorithm\n",
    "    ---------\n",
    "    Obtain vector b_{k} via the Gram-Schmidt process:\n",
    "\n",
    "                        ( <a_{k+1}, b_{1}>                 <a_{k+1}, b_{k}>         )\n",
    "    b_{k+1} = a_{k+1} - | ---------------- * b_{1} + ... + ---------------- * b_{k} |. (1)\n",
    "                        (  <b_{1}, b_{1}>                   <b_{k}, b_{k}>          )\n",
    "    \n",
    "    Time complexity: O(n^2).\n",
    "    '''\n",
    "    if len(A.shape) != 2:\n",
    "        raise ValueError('Input must be 2-dimensional (matrix).')\n",
    "    n = A.shape[0] # number of vectors a_{i} in A\n",
    "    B = np.empty_like(A) # Output matrix B\n",
    "    for i in range(0, n): # For each vector a_{i} (row) in A\n",
    "        sum = 0\n",
    "        for j in range(1, i + 1): # For each vector b_{i} find sum of projections of a_{i} onto b_{i-j}, as per (1)\n",
    "            sum += (np.dot(A[i], B[i-j]) / np.dot(B[i-j], B[i-j])) * B[i-j]\n",
    "        B[i] = A[i] - sum\n",
    "    if normalize:\n",
    "        B = np.apply_along_axis(lambda x: x / np.linalg.norm(x, axis=0) if np.linalg.norm(x, axis=0) != 0 else 0, 1, B)\n",
    "    return B"
   ]
  },
  {
   "cell_type": "code",
   "execution_count": 3,
   "metadata": {},
   "outputs": [],
   "source": [
    "def print_array_as_rational(A: np.array) -> None:\n",
    "    '''\n",
    "    Prints numpy array float numbers as rational numbers.\n",
    "\n",
    "    Parameters\n",
    "    ----------\n",
    "    A : np.array\n",
    "        Input numpy array.\n",
    "    \n",
    "    Returns\n",
    "    -------\n",
    "    None, just prints the array back.\n",
    "    '''\n",
    "    for i in range(A.shape[0]):\n",
    "        for j in range(A.shape[1]):\n",
    "            print(sp.nsimplify(A[i][j]), end='\\t')\n",
    "        print(end='\\n\\n')"
   ]
  },
  {
   "cell_type": "code",
   "execution_count": 9,
   "metadata": {},
   "outputs": [
    {
     "name": "stdout",
     "output_type": "stream",
     "text": [
      "[[ 1.          2.          2.        ]\n",
      " [-1.33333333 -0.66666667  1.33333333]\n",
      " [ 0.22222222 -0.22222222  0.11111111]]\n"
     ]
    }
   ],
   "source": [
    "# Case 1\n",
    "A = np.array([[1., 2., 2.], [-1., 0., 2.], [0., 0., 1.]])\n",
    "B = gram_schmidt(A)\n",
    "print(B)"
   ]
  },
  {
   "cell_type": "code",
   "execution_count": 5,
   "metadata": {},
   "outputs": [
    {
     "name": "stdout",
     "output_type": "stream",
     "text": [
      "sqrt(7)/7\tsqrt(7)/7\t-sqrt(7)/7\t-2*sqrt(7)/7\t\n",
      "\n",
      "2*sqrt(39)/39\t5*sqrt(39)/39\tsqrt(39)/39\tsqrt(39)/13\t\n",
      "\n",
      "0\t0\t0\t0\t\n",
      "\n"
     ]
    }
   ],
   "source": [
    "# Case 2\n",
    "A = np.array([[1., 1., -1., -2.], [5., 8., -2., -3.], [3., 9., 3., 8.]])\n",
    "B = gram_schmidt(A, normalize=True)\n",
    "print_array_as_rational(B)"
   ]
  }
 ],
 "metadata": {
  "kernelspec": {
   "display_name": "base",
   "language": "python",
   "name": "python3"
  },
  "language_info": {
   "codemirror_mode": {
    "name": "ipython",
    "version": 3
   },
   "file_extension": ".py",
   "mimetype": "text/x-python",
   "name": "python",
   "nbconvert_exporter": "python",
   "pygments_lexer": "ipython3",
   "version": "3.9.13"
  },
  "orig_nbformat": 4,
  "vscode": {
   "interpreter": {
    "hash": "c4f92193806e2908606a5f23edd55a5282f2f433b73b1c504507f9256ed9f0b4"
   }
  }
 },
 "nbformat": 4,
 "nbformat_minor": 2
}
